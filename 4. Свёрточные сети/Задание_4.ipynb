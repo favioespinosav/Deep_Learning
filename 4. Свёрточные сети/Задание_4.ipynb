{
 "cells": [
  {
   "cell_type": "code",
   "execution_count": null,
   "metadata": {
    "id": "oiDliP9HUigj"
   },
   "outputs": [],
   "source": [
    "import torch\n",
    "import torchvision as tv\n",
    "import torchvision.transforms as transforms\n",
    "from torch import nn\n",
    "import matplotlib.pyplot as plt\n",
    "import time"
   ]
  },
  {
   "cell_type": "code",
   "execution_count": null,
   "metadata": {
    "id": "GKcZat9bUuK8"
   },
   "outputs": [],
   "source": [
    "transform = tv.transforms.Compose([\n",
    "    tv.transforms.Resize((32,32)),\n",
    "    tv.transforms.ToTensor()\n",
    "])"
   ]
  },
  {
   "cell_type": "code",
   "execution_count": null,
   "metadata": {
    "colab": {
     "base_uri": "https://localhost:8080/"
    },
    "id": "XwhE_6-zUvn0",
    "outputId": "b33a4289-d751-4424-f426-096c8c717643"
   },
   "outputs": [
    {
     "name": "stdout",
     "output_type": "stream",
     "text": [
      "Downloading http://fashion-mnist.s3-website.eu-central-1.amazonaws.com/train-images-idx3-ubyte.gz\n",
      "Downloading http://fashion-mnist.s3-website.eu-central-1.amazonaws.com/train-images-idx3-ubyte.gz to ./FashionMNIST/raw/train-images-idx3-ubyte.gz\n"
     ]
    },
    {
     "name": "stderr",
     "output_type": "stream",
     "text": [
      "100%|██████████| 26421880/26421880 [00:03<00:00, 8267379.05it/s] \n"
     ]
    },
    {
     "name": "stdout",
     "output_type": "stream",
     "text": [
      "Extracting ./FashionMNIST/raw/train-images-idx3-ubyte.gz to ./FashionMNIST/raw\n",
      "\n",
      "Downloading http://fashion-mnist.s3-website.eu-central-1.amazonaws.com/train-labels-idx1-ubyte.gz\n",
      "Downloading http://fashion-mnist.s3-website.eu-central-1.amazonaws.com/train-labels-idx1-ubyte.gz to ./FashionMNIST/raw/train-labels-idx1-ubyte.gz\n"
     ]
    },
    {
     "name": "stderr",
     "output_type": "stream",
     "text": [
      "100%|██████████| 29515/29515 [00:00<00:00, 134857.51it/s]\n"
     ]
    },
    {
     "name": "stdout",
     "output_type": "stream",
     "text": [
      "Extracting ./FashionMNIST/raw/train-labels-idx1-ubyte.gz to ./FashionMNIST/raw\n",
      "\n",
      "Downloading http://fashion-mnist.s3-website.eu-central-1.amazonaws.com/t10k-images-idx3-ubyte.gz\n",
      "Downloading http://fashion-mnist.s3-website.eu-central-1.amazonaws.com/t10k-images-idx3-ubyte.gz to ./FashionMNIST/raw/t10k-images-idx3-ubyte.gz\n"
     ]
    },
    {
     "name": "stderr",
     "output_type": "stream",
     "text": [
      "100%|██████████| 4422102/4422102 [00:01<00:00, 2612664.92it/s]\n"
     ]
    },
    {
     "name": "stdout",
     "output_type": "stream",
     "text": [
      "Extracting ./FashionMNIST/raw/t10k-images-idx3-ubyte.gz to ./FashionMNIST/raw\n",
      "\n",
      "Downloading http://fashion-mnist.s3-website.eu-central-1.amazonaws.com/t10k-labels-idx1-ubyte.gz\n",
      "Downloading http://fashion-mnist.s3-website.eu-central-1.amazonaws.com/t10k-labels-idx1-ubyte.gz to ./FashionMNIST/raw/t10k-labels-idx1-ubyte.gz\n"
     ]
    },
    {
     "name": "stderr",
     "output_type": "stream",
     "text": [
      "100%|██████████| 5148/5148 [00:00<00:00, 7549747.20it/s]\n"
     ]
    },
    {
     "name": "stdout",
     "output_type": "stream",
     "text": [
      "Extracting ./FashionMNIST/raw/t10k-labels-idx1-ubyte.gz to ./FashionMNIST/raw\n",
      "\n"
     ]
    }
   ],
   "source": [
    "train_dataset = tv.datasets.FashionMNIST(root='.',\n",
    "                                             train=True,\n",
    "                                             download=True,\n",
    "                                             transform=transform)\n",
    "test_dataset = tv.datasets.FashionMNIST(root='.',\n",
    "                                            train=False,\n",
    "                                            download=True,\n",
    "                                            transform=transform)"
   ]
  },
  {
   "cell_type": "code",
   "execution_count": null,
   "metadata": {
    "id": "iF4H0lf4UwmU"
   },
   "outputs": [],
   "source": [
    "BATCH_SIZE = 256\n",
    "train_iter = torch.utils.data.DataLoader(train_dataset, batch_size=BATCH_SIZE)\n",
    "test_iter = torch.utils.data.DataLoader(test_dataset, batch_size=BATCH_SIZE)"
   ]
  },
  {
   "cell_type": "code",
   "execution_count": null,
   "metadata": {
    "id": "Sra9n_f_Uxry"
   },
   "outputs": [],
   "source": [
    "def evaluate_accuracy(data_iter, net):\n",
    "    acc_sum, n = 0, 0\n",
    "    net.eval()\n",
    "    for X, y in data_iter:\n",
    "        X, y = X.to(device), y.to(device)\n",
    "        acc_sum += (net(X).argmax(axis=1) == y).sum()\n",
    "        n += y.shape[0]\n",
    "    return acc_sum.item() / n"
   ]
  },
  {
   "cell_type": "code",
   "execution_count": null,
   "metadata": {
    "id": "A36I-GuNVrqe"
   },
   "outputs": [],
   "source": [
    "\n",
    "def train(net, train_iter, test_iter, trainer, num_epochs):\n",
    "    net.to(device)\n",
    "    loss = nn.CrossEntropyLoss(reduction='sum')\n",
    "    net.train()\n",
    "    for epoch in range(num_epochs):\n",
    "        train_l_sum, train_acc_sum, n, start = 0.0, 0.0, 0, time.time()\n",
    "\n",
    "        for i, (X, y) in enumerate(train_iter):\n",
    "            X, y = X.to(device), y.to(device)\n",
    "            trainer.zero_grad()\n",
    "            y_hat = net(X)\n",
    "            l = loss(y_hat, y)\n",
    "            l.backward()\n",
    "            trainer.step()\n",
    "            train_l_sum += l.item()\n",
    "            train_acc_sum += (y_hat.argmax(axis=1) == y).sum().item()\n",
    "            n += y.shape[0]\n",
    "\n",
    "            if i % 50 == 0:\n",
    "              print(f\"Step {i}. time since epoch: {time.time() -  start:.3f}. \"\n",
    "                    f\"Train acc: {train_acc_sum / n:.3f}. Train Loss: {train_l_sum / n:.3f}\")\n",
    "\n",
    "        test_acc = evaluate_accuracy(test_iter, net.to(device))\n",
    "        print('-' * 20)\n",
    "        print(f'epoch {epoch + 1}, loss {train_l_sum / n:.4f}, train acc {train_acc_sum / n:.3f}'\n",
    "              f', test acc {test_acc:.3f}, time {time.time() - start:.1f} sec')"
   ]
  },
  {
   "cell_type": "code",
   "execution_count": null,
   "metadata": {
    "colab": {
     "base_uri": "https://localhost:8080/",
     "height": 35
    },
    "id": "0QeC4ZIWU6g8",
    "outputId": "3c19cd2a-9533-4757-ad70-fad15e4f57d8"
   },
   "outputs": [
    {
     "data": {
      "application/vnd.google.colaboratory.intrinsic+json": {
       "type": "string"
      },
      "text/plain": [
       "'cuda'"
      ]
     },
     "execution_count": 12,
     "metadata": {},
     "output_type": "execute_result"
    }
   ],
   "source": [
    "device = 'cuda' if torch.cuda.is_available() else 'cpu'\n",
    "device"
   ]
  },
  {
   "cell_type": "code",
   "execution_count": null,
   "metadata": {
    "id": "_LTTFxkNVFID"
   },
   "outputs": [],
   "source": [
    "model = nn.Sequential(\n",
    "    nn.Conv2d(1,6,kernel_size=3,padding=1),\n",
    "    nn.ReLU(),\n",
    "    nn.MaxPool2d(2,stride=2),\n",
    "    nn.Conv2d(6,12,kernel_size=3,padding=1),\n",
    "    nn.ReLU(),\n",
    "    nn.Dropout(0.5),\n",
    "    nn.MaxPool2d(2,stride=2),\n",
    "    nn.Conv2d(12,32,kernel_size=2),\n",
    "    nn.Flatten(),\n",
    "    nn.Linear(1568, 800),\n",
    "    nn.ReLU(),\n",
    "    nn.Linear(800, 10))"
   ]
  },
  {
   "cell_type": "code",
   "execution_count": null,
   "metadata": {
    "colab": {
     "base_uri": "https://localhost:8080/"
    },
    "id": "P7myYUc3YWed",
    "outputId": "ce6667b6-19ab-4f77-c838-8e08cad48954"
   },
   "outputs": [
    {
     "name": "stdout",
     "output_type": "stream",
     "text": [
      "----------------------------------------------------------------\n",
      "        Layer (type)               Output Shape         Param #\n",
      "================================================================\n",
      "            Conv2d-1            [-1, 6, 32, 32]              60\n",
      "              ReLU-2            [-1, 6, 32, 32]               0\n",
      "         MaxPool2d-3            [-1, 6, 16, 16]               0\n",
      "            Conv2d-4           [-1, 12, 16, 16]             660\n",
      "              ReLU-5           [-1, 12, 16, 16]               0\n",
      "           Dropout-6           [-1, 12, 16, 16]               0\n",
      "         MaxPool2d-7             [-1, 12, 8, 8]               0\n",
      "            Conv2d-8             [-1, 32, 7, 7]           1,568\n",
      "           Flatten-9                 [-1, 1568]               0\n",
      "           Linear-10                  [-1, 800]       1,255,200\n",
      "             ReLU-11                  [-1, 800]               0\n",
      "           Linear-12                   [-1, 10]           8,010\n",
      "================================================================\n",
      "Total params: 1,265,498\n",
      "Trainable params: 1,265,498\n",
      "Non-trainable params: 0\n",
      "----------------------------------------------------------------\n",
      "Input size (MB): 0.00\n",
      "Forward/backward pass size (MB): 0.22\n",
      "Params size (MB): 4.83\n",
      "Estimated Total Size (MB): 5.05\n",
      "----------------------------------------------------------------\n"
     ]
    }
   ],
   "source": [
    "summary(model, input_size=(1, 32, 32), device='cpu')"
   ]
  },
  {
   "cell_type": "code",
   "execution_count": null,
   "metadata": {
    "colab": {
     "base_uri": "https://localhost:8080/"
    },
    "id": "jSMxcYoDXI-h",
    "outputId": "d604068e-f008-4d96-d66a-74e90c89a365"
   },
   "outputs": [
    {
     "data": {
      "text/plain": [
       "1024.0"
      ]
     },
     "execution_count": 132,
     "metadata": {},
     "output_type": "execute_result"
    }
   ],
   "source": [
    "2048/2"
   ]
  },
  {
   "cell_type": "code",
   "execution_count": null,
   "metadata": {
    "id": "o7iYRTUrVjQE"
   },
   "outputs": [],
   "source": [
    "trainer = torch.optim.Adam(model.parameters(), lr=.001)\n"
   ]
  },
  {
   "cell_type": "code",
   "execution_count": null,
   "metadata": {
    "colab": {
     "base_uri": "https://localhost:8080/"
    },
    "id": "ehZxASOTVmGW",
    "outputId": "63983400-537f-4329-f0a1-74ba398d5f74"
   },
   "outputs": [
    {
     "name": "stdout",
     "output_type": "stream",
     "text": [
      "Step 0. time since epoch: 0.056. Train acc: 0.117. Train Loss: 2.300\n",
      "Step 50. time since epoch: 2.526. Train acc: 0.637. Train Loss: 1.052\n",
      "Step 100. time since epoch: 5.416. Train acc: 0.695. Train Loss: 0.861\n",
      "Step 150. time since epoch: 7.747. Train acc: 0.726. Train Loss: 0.767\n",
      "Step 200. time since epoch: 10.083. Train acc: 0.745. Train Loss: 0.706\n",
      "--------------------\n",
      "epoch 1, loss 0.6759, train acc 0.755, test acc 0.758, time 13.3 sec\n",
      "Step 0. time since epoch: 0.045. Train acc: 0.781. Train Loss: 0.577\n",
      "Step 50. time since epoch: 2.897. Train acc: 0.833. Train Loss: 0.464\n",
      "Step 100. time since epoch: 5.300. Train acc: 0.839. Train Loss: 0.446\n",
      "Step 150. time since epoch: 7.610. Train acc: 0.844. Train Loss: 0.430\n",
      "Step 200. time since epoch: 9.937. Train acc: 0.850. Train Loss: 0.416\n",
      "--------------------\n",
      "epoch 2, loss 0.4106, train acc 0.851, test acc 0.854, time 13.2 sec\n",
      "Step 0. time since epoch: 0.060. Train acc: 0.895. Train Loss: 0.311\n",
      "Step 50. time since epoch: 3.317. Train acc: 0.871. Train Loss: 0.357\n",
      "Step 100. time since epoch: 5.758. Train acc: 0.870. Train Loss: 0.356\n",
      "Step 150. time since epoch: 8.097. Train acc: 0.873. Train Loss: 0.349\n",
      "Step 200. time since epoch: 10.429. Train acc: 0.876. Train Loss: 0.342\n",
      "--------------------\n",
      "epoch 3, loss 0.3395, train acc 0.877, test acc 0.871, time 14.4 sec\n",
      "Step 0. time since epoch: 0.047. Train acc: 0.906. Train Loss: 0.257\n",
      "Step 50. time since epoch: 2.380. Train acc: 0.886. Train Loss: 0.312\n",
      "Step 100. time since epoch: 4.694. Train acc: 0.885. Train Loss: 0.314\n",
      "Step 150. time since epoch: 7.017. Train acc: 0.887. Train Loss: 0.308\n",
      "Step 200. time since epoch: 9.324. Train acc: 0.890. Train Loss: 0.304\n",
      "--------------------\n",
      "epoch 4, loss 0.3020, train acc 0.890, test acc 0.875, time 13.2 sec\n",
      "Step 0. time since epoch: 0.045. Train acc: 0.914. Train Loss: 0.241\n",
      "Step 50. time since epoch: 2.315. Train acc: 0.894. Train Loss: 0.285\n",
      "Step 100. time since epoch: 4.626. Train acc: 0.894. Train Loss: 0.287\n",
      "Step 150. time since epoch: 6.962. Train acc: 0.897. Train Loss: 0.282\n",
      "Step 200. time since epoch: 9.443. Train acc: 0.899. Train Loss: 0.278\n",
      "--------------------\n",
      "epoch 5, loss 0.2761, train acc 0.899, test acc 0.883, time 13.1 sec\n",
      "Step 0. time since epoch: 0.047. Train acc: 0.930. Train Loss: 0.222\n",
      "Step 50. time since epoch: 2.389. Train acc: 0.902. Train Loss: 0.260\n",
      "Step 100. time since epoch: 4.812. Train acc: 0.902. Train Loss: 0.262\n",
      "Step 150. time since epoch: 7.129. Train acc: 0.904. Train Loss: 0.259\n",
      "Step 200. time since epoch: 10.137. Train acc: 0.906. Train Loss: 0.256\n",
      "--------------------\n",
      "epoch 6, loss 0.2546, train acc 0.906, test acc 0.887, time 13.4 sec\n",
      "Step 0. time since epoch: 0.049. Train acc: 0.930. Train Loss: 0.212\n",
      "Step 50. time since epoch: 2.415. Train acc: 0.908. Train Loss: 0.239\n",
      "Step 100. time since epoch: 4.755. Train acc: 0.909. Train Loss: 0.242\n",
      "Step 150. time since epoch: 7.394. Train acc: 0.911. Train Loss: 0.239\n",
      "Step 200. time since epoch: 10.180. Train acc: 0.912. Train Loss: 0.237\n",
      "--------------------\n",
      "epoch 7, loss 0.2359, train acc 0.912, test acc 0.891, time 13.5 sec\n",
      "Step 0. time since epoch: 0.046. Train acc: 0.926. Train Loss: 0.203\n",
      "Step 50. time since epoch: 2.431. Train acc: 0.914. Train Loss: 0.221\n",
      "Step 100. time since epoch: 4.825. Train acc: 0.915. Train Loss: 0.225\n",
      "Step 150. time since epoch: 7.895. Train acc: 0.917. Train Loss: 0.223\n",
      "Step 200. time since epoch: 10.299. Train acc: 0.919. Train Loss: 0.221\n",
      "--------------------\n",
      "epoch 8, loss 0.2198, train acc 0.919, test acc 0.895, time 13.6 sec\n",
      "Step 0. time since epoch: 0.055. Train acc: 0.926. Train Loss: 0.195\n",
      "Step 50. time since epoch: 2.387. Train acc: 0.919. Train Loss: 0.204\n",
      "Step 100. time since epoch: 5.245. Train acc: 0.920. Train Loss: 0.209\n",
      "Step 150. time since epoch: 7.879. Train acc: 0.922. Train Loss: 0.208\n",
      "Step 200. time since epoch: 10.208. Train acc: 0.924. Train Loss: 0.206\n",
      "--------------------\n",
      "epoch 9, loss 0.2049, train acc 0.924, test acc 0.896, time 13.5 sec\n",
      "Step 0. time since epoch: 0.049. Train acc: 0.926. Train Loss: 0.185\n",
      "Step 50. time since epoch: 2.414. Train acc: 0.924. Train Loss: 0.190\n",
      "Step 100. time since epoch: 5.401. Train acc: 0.926. Train Loss: 0.195\n",
      "Step 150. time since epoch: 7.765. Train acc: 0.927. Train Loss: 0.194\n",
      "Step 200. time since epoch: 10.039. Train acc: 0.929. Train Loss: 0.192\n",
      "--------------------\n",
      "epoch 10, loss 0.1910, train acc 0.929, test acc 0.899, time 13.2 sec\n"
     ]
    }
   ],
   "source": [
    "from torchsummary import summary\n",
    "train(model, train_iter, test_iter, trainer, num_epochs=10)\n"
   ]
  },
  {
   "cell_type": "code",
   "execution_count": null,
   "metadata": {
    "colab": {
     "base_uri": "https://localhost:8080/"
    },
    "id": "19vo8OFIVnHs",
    "outputId": "1fc4eb5d-46f5-4e24-e8ad-e45759239878"
   },
   "outputs": [
    {
     "data": {
      "text/plain": [
       "0.8988"
      ]
     },
     "execution_count": 135,
     "metadata": {},
     "output_type": "execute_result"
    }
   ],
   "source": [
    "evaluate_accuracy(test_iter, model.to(device))"
   ]
  },
  {
   "cell_type": "code",
   "execution_count": null,
   "metadata": {
    "id": "FRqSokThfzZr"
   },
   "outputs": [],
   "source": []
  }
 ],
 "metadata": {
  "accelerator": "GPU",
  "colab": {
   "gpuType": "T4",
   "provenance": []
  },
  "kernelspec": {
   "display_name": "Python 3",
   "name": "python3"
  },
  "language_info": {
   "name": "python"
  }
 },
 "nbformat": 4,
 "nbformat_minor": 0
}
