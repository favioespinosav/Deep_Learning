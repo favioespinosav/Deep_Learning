{
 "cells": [
  {
   "cell_type": "code",
   "execution_count": null,
   "metadata": {
    "colab": {
     "base_uri": "https://localhost:8080/",
     "height": 169
    },
    "id": "jb69nvs4xg_7",
    "outputId": "75f3d84a-4eae-4a27-bb38-db176c60433c"
   },
   "outputs": [
    {
     "data": {
      "image/png": "[encoded data removed]",
      "text/plain": [
       "<Figure size 1000x1000 with 5 Axes>"
      ]
     },
     "metadata": {},
     "output_type": "display_data"
    }
   ],
   "source": [
    "import torch\n",
    "import torch.nn as nn\n",
    "import torchvision as tv\n",
    "import torchvision.transforms as transforms\n",
    "import matplotlib.pyplot as plt\n",
    "from torchsummary import summary\n",
    "import pandas as pd\n",
    "# Download and load the EMNIST datase\n",
    "# Define a function to show a grid of images\n",
    "transform = tv.transforms.Compose([\n",
    "    #  tv.transforms.Grayscale(3),\n",
    "    tv.transforms.Resize((224, 224)),\n",
    "    tv.transforms.ToTensor()\n",
    "])\n",
    "train_dataset = tv.datasets.EMNIST(root='.', train=True, transform=transform, download=True,split='mnist')\n",
    "def show_images(images):\n",
    "    plt.figure(figsize=(10, 10))\n",
    "    for i, image in enumerate(images):\n",
    "        plt.subplot(5, 5, i+1)\n",
    "        plt.imshow(image.squeeze().numpy(), cmap='gray')\n",
    "        plt.axis('off')\n",
    "    plt.show()\n",
    "\n",
    "# Show a sample of 25 images from the dataset\n",
    "sample_images = [train_dataset[i][0] for i in range(5)]\n",
    "show_images(sample_images)\n",
    "transform = tv.transforms.Compose([\n",
    "      tv.transforms.Grayscale(3),\n",
    "    tv.transforms.Resize((224, 224)),\n",
    "    tv.transforms.ToTensor()\n",
    "])\n",
    "import gc"
   ]
  },
  {
   "cell_type": "code",
   "execution_count": null,
   "metadata": {
    "id": "w0WbT9VCQUxe"
   },
   "outputs": [],
   "source": []
  },
  {
   "cell_type": "code",
   "execution_count": null,
   "metadata": {
    "colab": {
     "base_uri": "https://localhost:8080/",
     "height": 35
    },
    "id": "OGWipgUki27O",
    "outputId": "22e74af6-9d78-4992-fae6-b06670d5044e"
   },
   "outputs": [
    {
     "data": {
      "application/vnd.google.colaboratory.intrinsic+json": {
       "type": "string"
      },
      "text/plain": [
       "'cuda'"
      ]
     },
     "execution_count": 2,
     "metadata": {},
     "output_type": "execute_result"
    }
   ],
   "source": [
    "device = 'cuda' if torch.cuda.is_available() else 'cpu'\n",
    "device"
   ]
  },
  {
   "cell_type": "code",
   "execution_count": null,
   "metadata": {
    "id": "e5x7hn4ekklh"
   },
   "outputs": [],
   "source": [
    "def AUC(model,data):\n",
    "  n=0\n",
    "  acc_sum = 0.0\n",
    "  model.eval()\n",
    "  for X,y in data:\n",
    "    X,y = X.to(device),y.to(device)\n",
    "    y_pred = model(X)\n",
    "    acc_sum += (y_pred.argmax(axis=1)== y).sum().item()\n",
    "    n += y.shape[0]\n",
    "  return acc_sum/n\n"
   ]
  },
  {
   "cell_type": "code",
   "execution_count": null,
   "metadata": {
    "id": "m0WZLx7Nm3oK"
   },
   "outputs": [],
   "source": [
    "\n",
    "\n",
    "def LOSS(model,data):\n",
    "  loss = nn.CrossEntropyLoss(reduction='sum')\n",
    "  model.eval()\n",
    "  train_l_sum,n = 0.0,0\n",
    "  for X,y in data:\n",
    "    X,y = X.to(device),y.to(device)\n",
    "    y_pred = model(X)\n",
    "    l = loss(y_pred,y)\n",
    "    train_l_sum  += l.item()\n",
    "    n += y.shape[0]\n",
    "  return train_l_sum/n"
   ]
  },
  {
   "cell_type": "code",
   "execution_count": null,
   "metadata": {
    "id": "2ELvDatgh3lr"
   },
   "outputs": [],
   "source": [
    "def train(model, train_iter, test_iter,trainer,epochs=10):\n",
    "\n",
    "    l_arr = []\n",
    "    model.to(device)\n",
    "    loss = nn.CrossEntropyLoss(reduction='sum')\n",
    "    model.train()\n",
    "\n",
    "    for epoch in range(epochs):\n",
    "      train_l_sum,n,train_acc_sum = 0.0, 0,0.0\n",
    "      for i,(X,y) in enumerate(train_iter):\n",
    "\n",
    "        X,y = X.to(device),y.to(device)\n",
    "        trainer.zero_grad()\n",
    "        y_pred = model(X)\n",
    "        l = loss(y_pred,y)\n",
    "        l.backward()\n",
    "        trainer.step()\n",
    "        train_l_sum  += l.item()\n",
    "        train_acc_sum += (y_pred.argmax(axis=1)==y).sum().item()\n",
    "        n += y.shape[0]\n",
    "        torch.cuda.empty_cache()\n",
    "        #if epoch % 2:\n",
    "         # print(f\"\"\"Batch {i} LOSS =  {train_l_sum/n} AUC = {train_acc_sum/n} \"\"\")\n",
    "     # if epoch % 2 :\n",
    "     #   test_acc = AUC(model,test_iter)\n",
    "     #   print(f\"\"\"----------------AUC test = {test_acc}------------------------ \"\"\")\n",
    "        del X\n",
    "        del y\n",
    "      l_arr.append(train_l_sum/n)\n",
    "      gc.collect()\n",
    "    return pd.DataFrame({'epoch':list(range(epochs)),'Loss':l_arr})\n",
    "\n"
   ]
  },
  {
   "cell_type": "code",
   "execution_count": null,
   "metadata": {
    "id": "x_quezdNxqq_"
   },
   "outputs": [],
   "source": [
    "dataset = tv.datasets.EMNIST(root='.', train=True, transform=transform, download=True,split='mnist')"
   ]
  },
  {
   "cell_type": "code",
   "execution_count": null,
   "metadata": {
    "id": "sHj_PlXRtnia"
   },
   "outputs": [],
   "source": [
    "from torch.utils.data import Subset\n",
    "from sklearn.model_selection import train_test_split\n",
    "import numpy as np\n",
    "indices = np.arange(len(dataset))\n",
    "train_indices, test_indices = train_test_split(indices, train_size=20*10, stratify=dataset.targets)\n",
    "\n",
    "# Warp into Subsets and DataLoaders\n",
    "train_dataset = Subset(dataset, train_indices)\n",
    "test_dataset = Subset(dataset, test_indices)"
   ]
  },
  {
   "cell_type": "code",
   "execution_count": null,
   "metadata": {
    "id": "GOP7CskAe7SN"
   },
   "outputs": [],
   "source": [
    "targets = [train_dataset[i][1] for i in range(len(train_dataset))]"
   ]
  },
  {
   "cell_type": "code",
   "execution_count": null,
   "metadata": {
    "id": "2ELz_r8LfSlb"
   },
   "outputs": [],
   "source": [
    "df = pd.DataFrame({'target':targets})"
   ]
  },
  {
   "cell_type": "code",
   "execution_count": null,
   "metadata": {
    "colab": {
     "base_uri": "https://localhost:8080/",
     "height": 394
    },
    "id": "tz6Esxd7fi6g",
    "outputId": "bcc7b81a-f8ed-44da-9965-b0ec558ed1bd"
   },
   "outputs": [
    {
     "data": {
      "text/html": [
       "\n",
       "  <div id=\"df-e547f735-2cf5-4c3d-89da-232bc44d3dd0\">\n",
       "    <div class=\"colab-df-container\">\n",
       "      <div>\n",
       "<style scoped>\n",
       "    .dataframe tbody tr th:only-of-type {\n",
       "        vertical-align: middle;\n",
       "    }\n",
       "\n",
       "    .dataframe tbody tr th {\n",
       "        vertical-align: top;\n",
       "    }\n",
       "\n",
       "    .dataframe thead th {\n",
       "        text-align: right;\n",
       "    }\n",
       "</style>\n",
       "<table border=\"1\" class=\"dataframe\">\n",
       "  <thead>\n",
       "    <tr style=\"text-align: right;\">\n",
       "      <th></th>\n",
       "      <th>count</th>\n",
       "    </tr>\n",
       "    <tr>\n",
       "      <th>target</th>\n",
       "      <th></th>\n",
       "    </tr>\n",
       "  </thead>\n",
       "  <tbody>\n",
       "    <tr>\n",
       "      <th>0</th>\n",
       "      <td>20</td>\n",
       "    </tr>\n",
       "    <tr>\n",
       "      <th>1</th>\n",
       "      <td>20</td>\n",
       "    </tr>\n",
       "    <tr>\n",
       "      <th>2</th>\n",
       "      <td>20</td>\n",
       "    </tr>\n",
       "    <tr>\n",
       "      <th>3</th>\n",
       "      <td>20</td>\n",
       "    </tr>\n",
       "    <tr>\n",
       "      <th>4</th>\n",
       "      <td>20</td>\n",
       "    </tr>\n",
       "    <tr>\n",
       "      <th>5</th>\n",
       "      <td>20</td>\n",
       "    </tr>\n",
       "    <tr>\n",
       "      <th>6</th>\n",
       "      <td>20</td>\n",
       "    </tr>\n",
       "    <tr>\n",
       "      <th>7</th>\n",
       "      <td>20</td>\n",
       "    </tr>\n",
       "    <tr>\n",
       "      <th>8</th>\n",
       "      <td>20</td>\n",
       "    </tr>\n",
       "    <tr>\n",
       "      <th>9</th>\n",
       "      <td>20</td>\n",
       "    </tr>\n",
       "  </tbody>\n",
       "</table>\n",
       "</div>\n",
       "      <button class=\"colab-df-convert\" onclick=\"convertToInteractive('df-e547f735-2cf5-4c3d-89da-232bc44d3dd0')\"\n",
       "              title=\"Convert this dataframe to an interactive table.\"\n",
       "              style=\"display:none;\">\n",
       "        \n",
       "  <svg xmlns=\"http://www.w3.org/2000/svg\" height=\"24px\"viewBox=\"0 0 24 24\"\n",
       "       width=\"24px\">\n",
       "    <path d=\"M0 0h24v24H0V0z\" fill=\"none\"/>\n",
       "    <path d=\"M18.56 5.44l.94 2.06.94-2.06 2.06-.94-2.06-.94-.94-2.06-.94 2.06-2.06.94zm-11 1L8.5 8.5l.94-2.06 2.06-.94-2.06-.94L8.5 2.5l-.94 2.06-2.06.94zm10 10l.94 2.06.94-2.06 2.06-.94-2.06-.94-.94-2.06-.94 2.06-2.06.94z\"/><path d=\"M17.41 7.96l-1.37-1.37c-.4-.4-.92-.59-1.43-.59-.52 0-1.04.2-1.43.59L10.3 9.45l-7.72 7.72c-.78.78-.78 2.05 0 2.83L4 21.41c.39.39.9.59 1.41.59.51 0 1.02-.2 1.41-.59l7.78-7.78 2.81-2.81c.8-.78.8-2.07 0-2.86zM5.41 20L4 18.59l7.72-7.72 1.47 1.35L5.41 20z\"/>\n",
       "  </svg>\n",
       "      </button>\n",
       "      \n",
       "  <style>\n",
       "    .colab-df-container {\n",
       "      display:flex;\n",
       "      flex-wrap:wrap;\n",
       "      gap: 12px;\n",
       "    }\n",
       "\n",
       "    .colab-df-convert {\n",
       "      background-color: #E8F0FE;\n",
       "      border: none;\n",
       "      border-radius: 50%;\n",
       "      cursor: pointer;\n",
       "      display: none;\n",
       "      fill: #1967D2;\n",
       "      height: 32px;\n",
       "      padding: 0 0 0 0;\n",
       "      width: 32px;\n",
       "    }\n",
       "\n",
       "    .colab-df-convert:hover {\n",
       "      background-color: #E2EBFA;\n",
       "      box-shadow: 0px 1px 2px rgba(60, 64, 67, 0.3), 0px 1px 3px 1px rgba(60, 64, 67, 0.15);\n",
       "      fill: #174EA6;\n",
       "    }\n",
       "\n",
       "    [theme=dark] .colab-df-convert {\n",
       "      background-color: #3B4455;\n",
       "      fill: #D2E3FC;\n",
       "    }\n",
       "\n",
       "    [theme=dark] .colab-df-convert:hover {\n",
       "      background-color: #434B5C;\n",
       "      box-shadow: 0px 1px 3px 1px rgba(0, 0, 0, 0.15);\n",
       "      filter: drop-shadow(0px 1px 2px rgba(0, 0, 0, 0.3));\n",
       "      fill: #FFFFFF;\n",
       "    }\n",
       "  </style>\n",
       "\n",
       "      <script>\n",
       "        const buttonEl =\n",
       "          document.querySelector('#df-e547f735-2cf5-4c3d-89da-232bc44d3dd0 button.colab-df-convert');\n",
       "        buttonEl.style.display =\n",
       "          google.colab.kernel.accessAllowed ? 'block' : 'none';\n",
       "\n",
       "        async function convertToInteractive(key) {\n",
       "          const element = document.querySelector('#df-e547f735-2cf5-4c3d-89da-232bc44d3dd0');\n",
       "          const dataTable =\n",
       "            await google.colab.kernel.invokeFunction('convertToInteractive',\n",
       "                                                     [key], {});\n",
       "          if (!dataTable) return;\n",
       "\n",
       "          const docLinkHtml = 'Like what you see? Visit the ' +\n",
       "            '<a target=\"_blank\" href=https://colab.research.google.com/notebooks/data_table.ipynb>data table notebook</a>'\n",
       "            + ' to learn more about interactive tables.';\n",
       "          element.innerHTML = '';\n",
       "          dataTable['output_type'] = 'display_data';\n",
       "          await google.colab.output.renderOutput(dataTable, element);\n",
       "          const docLink = document.createElement('div');\n",
       "          docLink.innerHTML = docLinkHtml;\n",
       "          element.appendChild(docLink);\n",
       "        }\n",
       "      </script>\n",
       "    </div>\n",
       "  </div>\n",
       "  "
      ],
      "text/plain": [
       "        count\n",
       "target       \n",
       "0          20\n",
       "1          20\n",
       "2          20\n",
       "3          20\n",
       "4          20\n",
       "5          20\n",
       "6          20\n",
       "7          20\n",
       "8          20\n",
       "9          20"
      ]
     },
     "execution_count": 10,
     "metadata": {},
     "output_type": "execute_result"
    }
   ],
   "source": [
    "df['count'] = 1\n",
    "df.groupby('target').count()"
   ]
  },
  {
   "cell_type": "code",
   "execution_count": null,
   "metadata": {
    "id": "8atROwKxykAk"
   },
   "outputs": [],
   "source": [
    "BATCH_SIZE = 10\n",
    "train_iter = torch.utils.data.DataLoader(train_dataset, batch_size=BATCH_SIZE)\n",
    "test_iter = torch.utils.data.DataLoader(test_dataset, batch_size=BATCH_SIZE)"
   ]
  },
  {
   "cell_type": "markdown",
   "metadata": {
    "id": "JIab1LwKgsnU"
   },
   "source": [
    "# RESNET"
   ]
  },
  {
   "cell_type": "code",
   "execution_count": null,
   "metadata": {
    "colab": {
     "base_uri": "https://localhost:8080/"
    },
    "id": "_zaPelKjdGYC",
    "outputId": "9561b5bb-c91b-4c9c-a57a-92e8f5783ec2"
   },
   "outputs": [
    {
     "name": "stderr",
     "output_type": "stream",
     "text": [
      "/usr/local/lib/python3.10/dist-packages/torchvision/models/_utils.py:208: UserWarning: The parameter 'pretrained' is deprecated since 0.13 and may be removed in the future, please use 'weights' instead.\n",
      "  warnings.warn(\n",
      "/usr/local/lib/python3.10/dist-packages/torchvision/models/_utils.py:223: UserWarning: Arguments other than a weight enum or `None` for 'weights' are deprecated since 0.13 and may be removed in the future. The current behavior is equivalent to passing `weights=None`.\n",
      "  warnings.warn(msg)\n"
     ]
    }
   ],
   "source": [
    "model = tv.models.resnet18(pretrained=False)"
   ]
  },
  {
   "cell_type": "code",
   "execution_count": null,
   "metadata": {
    "id": "k6dHXz2lhbQX"
   },
   "outputs": [],
   "source": [
    "model.classifier = nn.Linear(in_features=2208, out_features=len(targets))"
   ]
  },
  {
   "cell_type": "code",
   "execution_count": null,
   "metadata": {
    "colab": {
     "base_uri": "https://localhost:8080/"
    },
    "id": "sxYssrPdhlDO",
    "outputId": "85cd60aa-cf87-4af2-8ac9-5db0e6a1f1f1"
   },
   "outputs": [
    {
     "name": "stdout",
     "output_type": "stream",
     "text": [
      "Params to learn:\n",
      "\t conv1.weight\n",
      "\t bn1.weight\n",
      "\t bn1.bias\n",
      "\t layer1.0.conv1.weight\n",
      "\t layer1.0.bn1.weight\n",
      "\t layer1.0.bn1.bias\n",
      "\t layer1.0.conv2.weight\n",
      "\t layer1.0.bn2.weight\n",
      "\t layer1.0.bn2.bias\n",
      "\t layer1.1.conv1.weight\n",
      "\t layer1.1.bn1.weight\n",
      "\t layer1.1.bn1.bias\n",
      "\t layer1.1.conv2.weight\n",
      "\t layer1.1.bn2.weight\n",
      "\t layer1.1.bn2.bias\n",
      "\t layer2.0.conv1.weight\n",
      "\t layer2.0.bn1.weight\n",
      "\t layer2.0.bn1.bias\n",
      "\t layer2.0.conv2.weight\n",
      "\t layer2.0.bn2.weight\n",
      "\t layer2.0.bn2.bias\n",
      "\t layer2.0.downsample.0.weight\n",
      "\t layer2.0.downsample.1.weight\n",
      "\t layer2.0.downsample.1.bias\n",
      "\t layer2.1.conv1.weight\n",
      "\t layer2.1.bn1.weight\n",
      "\t layer2.1.bn1.bias\n",
      "\t layer2.1.conv2.weight\n",
      "\t layer2.1.bn2.weight\n",
      "\t layer2.1.bn2.bias\n",
      "\t layer3.0.conv1.weight\n",
      "\t layer3.0.bn1.weight\n",
      "\t layer3.0.bn1.bias\n",
      "\t layer3.0.conv2.weight\n",
      "\t layer3.0.bn2.weight\n",
      "\t layer3.0.bn2.bias\n",
      "\t layer3.0.downsample.0.weight\n",
      "\t layer3.0.downsample.1.weight\n",
      "\t layer3.0.downsample.1.bias\n",
      "\t layer3.1.conv1.weight\n",
      "\t layer3.1.bn1.weight\n",
      "\t layer3.1.bn1.bias\n",
      "\t layer3.1.conv2.weight\n",
      "\t layer3.1.bn2.weight\n",
      "\t layer3.1.bn2.bias\n",
      "\t layer4.0.conv1.weight\n",
      "\t layer4.0.bn1.weight\n",
      "\t layer4.0.bn1.bias\n",
      "\t layer4.0.conv2.weight\n",
      "\t layer4.0.bn2.weight\n",
      "\t layer4.0.bn2.bias\n",
      "\t layer4.0.downsample.0.weight\n",
      "\t layer4.0.downsample.1.weight\n",
      "\t layer4.0.downsample.1.bias\n",
      "\t layer4.1.conv1.weight\n",
      "\t layer4.1.bn1.weight\n",
      "\t layer4.1.bn1.bias\n",
      "\t layer4.1.conv2.weight\n",
      "\t layer4.1.bn2.weight\n",
      "\t layer4.1.bn2.bias\n",
      "\t fc.weight\n",
      "\t fc.bias\n",
      "\t classifier.weight\n",
      "\t classifier.bias\n"
     ]
    }
   ],
   "source": [
    "\n",
    "print(\"Params to learn:\")\n",
    "params_to_update = []\n",
    "for name, param in model.named_parameters():\n",
    "    if param.requires_grad == True:\n",
    "        params_to_update.append(param)\n",
    "        print(\"\\t\",name)"
   ]
  },
  {
   "cell_type": "code",
   "execution_count": null,
   "metadata": {
    "id": "XqmkuNlJhu7-"
   },
   "outputs": [],
   "source": [
    "trainer = torch.optim.Adam(params_to_update, lr=0.001)"
   ]
  },
  {
   "cell_type": "code",
   "execution_count": null,
   "metadata": {
    "id": "cQJmeenZr8eN"
   },
   "outputs": [],
   "source": [
    "import torch\n",
    "\n",
    "torch.cuda.empty_cache()"
   ]
  },
  {
   "cell_type": "code",
   "execution_count": null,
   "metadata": {
    "colab": {
     "base_uri": "https://localhost:8080/"
    },
    "id": "vgftHAJwhxsO",
    "outputId": "d7f32f8b-a3d6-4c4a-eee7-86dcb9adaccb"
   },
   "outputs": [
    {
     "name": "stdout",
     "output_type": "stream",
     "text": [
      "Batch 0 LOSS =  1.2320262908935546 AUC = 0.7 \n",
      "Batch 1 LOSS =  1.010163140296936 AUC = 0.75 \n",
      "Batch 2 LOSS =  1.0538171609242757 AUC = 0.7 \n",
      "Batch 3 LOSS =  1.0202186226844787 AUC = 0.7 \n",
      "Batch 4 LOSS =  1.0111723995208741 AUC = 0.7 \n",
      "Batch 5 LOSS =  0.9613557577133178 AUC = 0.7166666666666667 \n",
      "Batch 6 LOSS =  0.9695415837424142 AUC = 0.7 \n",
      "Batch 7 LOSS =  0.9687011778354645 AUC = 0.6875 \n",
      "Batch 8 LOSS =  0.9645202371809217 AUC = 0.6888888888888889 \n",
      "Batch 9 LOSS =  1.0117461347579957 AUC = 0.68 \n",
      "Batch 10 LOSS =  0.9865175290541215 AUC = 0.7 \n",
      "Batch 11 LOSS =  0.9834757844607035 AUC = 0.7083333333333334 \n",
      "Batch 12 LOSS =  0.9601389261392447 AUC = 0.7230769230769231 \n",
      "Batch 13 LOSS =  0.9754726307732718 AUC = 0.7214285714285714 \n",
      "Batch 14 LOSS =  0.9472237809499104 AUC = 0.7333333333333333 \n",
      "Batch 15 LOSS =  0.9175902217626571 AUC = 0.7375 \n",
      "Batch 16 LOSS =  0.9023504313300638 AUC = 0.7352941176470589 \n",
      "Batch 17 LOSS =  0.9137808746761746 AUC = 0.7333333333333333 \n",
      "Batch 18 LOSS =  0.9268242534838225 AUC = 0.7263157894736842 \n",
      "Batch 19 LOSS =  0.8986113810539246 AUC = 0.74 \n",
      "Batch 0 LOSS =  0.372939395904541 AUC = 1.0 \n",
      "Batch 1 LOSS =  0.29097001552581786 AUC = 1.0 \n",
      "Batch 2 LOSS =  0.29520553747812905 AUC = 1.0 \n",
      "Batch 3 LOSS =  0.3409228026866913 AUC = 0.95 \n",
      "Batch 4 LOSS =  0.33852088928222657 AUC = 0.94 \n",
      "Batch 5 LOSS =  0.303685994942983 AUC = 0.95 \n",
      "Batch 6 LOSS =  0.308390212059021 AUC = 0.9428571428571428 \n",
      "Batch 7 LOSS =  0.3080752819776535 AUC = 0.9375 \n",
      "Batch 8 LOSS =  0.2882749080657959 AUC = 0.9444444444444444 \n",
      "Batch 9 LOSS =  0.3023024892807007 AUC = 0.93 \n",
      "Batch 10 LOSS =  0.28709913383830676 AUC = 0.9363636363636364 \n",
      "Batch 11 LOSS =  0.290798149506251 AUC = 0.9416666666666667 \n",
      "Batch 12 LOSS =  0.2838152261880728 AUC = 0.9461538461538461 \n",
      "Batch 13 LOSS =  0.29862445763179235 AUC = 0.9428571428571428 \n",
      "Batch 14 LOSS =  0.2945679823557536 AUC = 0.94 \n",
      "Batch 15 LOSS =  0.2814078200608492 AUC = 0.94375 \n",
      "Batch 16 LOSS =  0.26991543629590203 AUC = 0.9470588235294117 \n",
      "Batch 17 LOSS =  0.2805855870246887 AUC = 0.9444444444444444 \n",
      "Batch 18 LOSS =  0.2756345554402 AUC = 0.9473684210526315 \n",
      "Batch 19 LOSS =  0.26930955827236175 AUC = 0.95 \n",
      "Batch 0 LOSS =  0.1026424527168274 AUC = 1.0 \n",
      "Batch 1 LOSS =  0.10321811437606812 AUC = 1.0 \n",
      "Batch 2 LOSS =  0.17831909656524658 AUC = 0.9333333333333333 \n",
      "Batch 3 LOSS =  0.14606472253799438 AUC = 0.95 \n",
      "Batch 4 LOSS =  0.13050896644592286 AUC = 0.96 \n",
      "Batch 5 LOSS =  0.11776392459869385 AUC = 0.9666666666666667 \n",
      "Batch 6 LOSS =  0.11683724948338099 AUC = 0.9714285714285714 \n",
      "Batch 7 LOSS =  0.13339897394180297 AUC = 0.9625 \n",
      "Batch 8 LOSS =  0.12834976447953117 AUC = 0.9666666666666667 \n",
      "Batch 9 LOSS =  0.12282811403274536 AUC = 0.97 \n",
      "Batch 10 LOSS =  0.12311293862082741 AUC = 0.9727272727272728 \n",
      "Batch 11 LOSS =  0.11658347696065903 AUC = 0.975 \n",
      "Batch 12 LOSS =  0.11343317169409532 AUC = 0.9769230769230769 \n",
      "Batch 13 LOSS =  0.11309955247810909 AUC = 0.9785714285714285 \n",
      "Batch 14 LOSS =  0.11962541381518046 AUC = 0.9733333333333334 \n",
      "Batch 15 LOSS =  0.11616449505090713 AUC = 0.975 \n",
      "Batch 16 LOSS =  0.11992686355815214 AUC = 0.9764705882352941 \n",
      "Batch 17 LOSS =  0.12157877153820462 AUC = 0.9777777777777777 \n",
      "Batch 18 LOSS =  0.12117697251470465 AUC = 0.9789473684210527 \n",
      "Batch 19 LOSS =  0.11810351341962814 AUC = 0.98 \n",
      "Batch 0 LOSS =  0.053322446346282956 AUC = 1.0 \n",
      "Batch 1 LOSS =  0.04876617342233658 AUC = 1.0 \n",
      "Batch 2 LOSS =  0.055410024523735044 AUC = 1.0 \n",
      "Batch 3 LOSS =  0.0661659561097622 AUC = 1.0 \n",
      "Batch 4 LOSS =  0.06355825364589691 AUC = 1.0 \n",
      "Batch 5 LOSS =  0.057412234445412956 AUC = 1.0 \n",
      "Batch 6 LOSS =  0.08354825249740055 AUC = 0.9857142857142858 \n",
      "Batch 7 LOSS =  0.08549537621438504 AUC = 0.9875 \n",
      "Batch 8 LOSS =  0.08515763911936018 AUC = 0.9888888888888889 \n",
      "Batch 9 LOSS =  0.08196012526750565 AUC = 0.99 \n",
      "Batch 10 LOSS =  0.07996803224086761 AUC = 0.990909090909091 \n",
      "Batch 11 LOSS =  0.07860374326507251 AUC = 0.9916666666666667 \n",
      "Batch 12 LOSS =  0.07411891806584138 AUC = 0.9923076923076923 \n",
      "Batch 13 LOSS =  0.07221391679985183 AUC = 0.9928571428571429 \n",
      "Batch 14 LOSS =  0.07007359991470972 AUC = 0.9933333333333333 \n",
      "Batch 15 LOSS =  0.07310939664021135 AUC = 0.9875 \n",
      "Batch 16 LOSS =  0.07180750519037246 AUC = 0.9882352941176471 \n",
      "Batch 17 LOSS =  0.06981715137759845 AUC = 0.9888888888888889 \n",
      "Batch 18 LOSS =  0.07150719581465972 AUC = 0.9894736842105263 \n",
      "Batch 19 LOSS =  0.06858854830265045 AUC = 0.99 \n",
      "Batch 0 LOSS =  0.010538192093372345 AUC = 1.0 \n",
      "Batch 1 LOSS =  0.010812870413064956 AUC = 1.0 \n",
      "Batch 2 LOSS =  0.011038624495267869 AUC = 1.0 \n",
      "Batch 3 LOSS =  0.01302048545330763 AUC = 1.0 \n",
      "Batch 4 LOSS =  0.012718139737844468 AUC = 1.0 \n",
      "Batch 5 LOSS =  0.013514349733789762 AUC = 1.0 \n",
      "Batch 6 LOSS =  0.01392433334674154 AUC = 1.0 \n",
      "Batch 7 LOSS =  0.013951200339943171 AUC = 1.0 \n",
      "Batch 8 LOSS =  0.013545133504602644 AUC = 1.0 \n",
      "Batch 9 LOSS =  0.013743500262498855 AUC = 1.0 \n",
      "Batch 10 LOSS =  0.013959343189542945 AUC = 1.0 \n",
      "Batch 11 LOSS =  0.013735230639576912 AUC = 1.0 \n",
      "Batch 12 LOSS =  0.01323850005865097 AUC = 1.0 \n",
      "Batch 13 LOSS =  0.013277089170047215 AUC = 1.0 \n",
      "Batch 14 LOSS =  0.013090418676535289 AUC = 1.0 \n",
      "Batch 15 LOSS =  0.0128278031013906 AUC = 1.0 \n",
      "Batch 16 LOSS =  0.012539898954770144 AUC = 1.0 \n",
      "Batch 17 LOSS =  0.012412464121977489 AUC = 1.0 \n",
      "Batch 18 LOSS =  0.01208910498964159 AUC = 1.0 \n",
      "Batch 19 LOSS =  0.011659967713057995 AUC = 1.0 \n"
     ]
    }
   ],
   "source": [
    "res_results = train(model, train_iter, test_iter, trainer, 10)"
   ]
  },
  {
   "cell_type": "markdown",
   "metadata": {
    "id": "xGmAr7wtpQ_D"
   },
   "source": [
    "# VGG 16"
   ]
  },
  {
   "cell_type": "code",
   "execution_count": null,
   "metadata": {
    "id": "WmOPKa8IPYS2"
   },
   "outputs": [],
   "source": [
    "transform = tv.transforms.Compose([\n",
    "      tv.transforms.Grayscale(3),\n",
    "    tv.transforms.Resize((32,32)),\n",
    "    tv.transforms.ToTensor()\n",
    "])\n",
    "import gc"
   ]
  },
  {
   "cell_type": "code",
   "execution_count": null,
   "metadata": {
    "colab": {
     "base_uri": "https://localhost:8080/"
    },
    "id": "9DN1RiBglrm0",
    "outputId": "0393b909-bf82-497c-b862-848519fac545"
   },
   "outputs": [
    {
     "name": "stderr",
     "output_type": "stream",
     "text": [
      "/usr/local/lib/python3.10/dist-packages/torchvision/models/_utils.py:208: UserWarning: The parameter 'pretrained' is deprecated since 0.13 and may be removed in the future, please use 'weights' instead.\n",
      "  warnings.warn(\n",
      "/usr/local/lib/python3.10/dist-packages/torchvision/models/_utils.py:223: UserWarning: Arguments other than a weight enum or `None` for 'weights' are deprecated since 0.13 and may be removed in the future. The current behavior is equivalent to passing `weights=None`.\n",
      "  warnings.warn(msg)\n"
     ]
    }
   ],
   "source": [
    "model = tv.models.vgg16(pretrained=False)"
   ]
  },
  {
   "cell_type": "code",
   "execution_count": null,
   "metadata": {
    "id": "HRl2s51TpWsc"
   },
   "outputs": [],
   "source": [
    "model.classifier = nn.Linear(in_features=25088, out_features=len(targets))"
   ]
  },
  {
   "cell_type": "code",
   "execution_count": null,
   "metadata": {
    "id": "ovNNgO0ApcK2"
   },
   "outputs": [],
   "source": [
    "\n",
    "params_to_update = []\n",
    "for name, param in model.named_parameters():\n",
    "    if param.requires_grad == True:\n",
    "        params_to_update.append(param)\n",
    ""
   ]
  },
  {
   "cell_type": "code",
   "execution_count": null,
   "metadata": {
    "id": "A0aDcU2jpfWw"
   },
   "outputs": [],
   "source": [
    "trainer = torch.optim.Adam(params_to_update, lr=0.001)"
   ]
  },
  {
   "cell_type": "code",
   "execution_count": null,
   "metadata": {
    "colab": {
     "base_uri": "https://localhost:8080/"
    },
    "id": "hMoYsFoxphSK",
    "outputId": "ddd65fcb-6d53-4d56-f8f6-b39fc2559426"
   },
   "outputs": [
    {
     "name": "stdout",
     "output_type": "stream",
     "text": [
      "Batch 0 LOSS =  2.505255126953125 AUC = 0.2 \n",
      "Batch 1 LOSS =  2.441308784484863 AUC = 0.15 \n",
      "Batch 2 LOSS =  2.3995992660522463 AUC = 0.13333333333333333 \n",
      "Batch 3 LOSS =  2.4573147296905518 AUC = 0.125 \n",
      "Batch 4 LOSS =  2.475585479736328 AUC = 0.1 \n",
      "Batch 5 LOSS =  2.464894739786784 AUC = 0.1 \n",
      "Batch 6 LOSS =  2.483324759347098 AUC = 0.08571428571428572 \n",
      "Batch 7 LOSS =  2.4481352090835573 AUC = 0.1 \n",
      "Batch 8 LOSS =  2.441251775953505 AUC = 0.08888888888888889 \n",
      "Batch 9 LOSS =  2.475811023712158 AUC = 0.08 \n",
      "Batch 10 LOSS =  2.4661181363192473 AUC = 0.07272727272727272 \n",
      "Batch 11 LOSS =  2.4513347148895264 AUC = 0.06666666666666667 \n",
      "Batch 12 LOSS =  2.4474422894991363 AUC = 0.06923076923076923 \n",
      "Batch 13 LOSS =  2.4363340105329243 AUC = 0.08571428571428572 \n",
      "Batch 14 LOSS =  2.434149703979492 AUC = 0.08666666666666667 \n",
      "Batch 15 LOSS =  2.426364469528198 AUC = 0.09375 \n",
      "Batch 16 LOSS =  2.4258434520048255 AUC = 0.08823529411764706 \n",
      "Batch 17 LOSS =  2.4242963896857366 AUC = 0.08333333333333333 \n",
      "Batch 18 LOSS =  2.4225133795487253 AUC = 0.07894736842105263 \n",
      "Batch 19 LOSS =  2.4200549125671387 AUC = 0.075 \n",
      "Batch 0 LOSS =  2.336568069458008 AUC = 0.0 \n",
      "Batch 1 LOSS =  2.301910400390625 AUC = 0.15 \n",
      "Batch 2 LOSS =  2.3087153752644856 AUC = 0.1 \n",
      "Batch 3 LOSS =  2.327491044998169 AUC = 0.1 \n",
      "Batch 4 LOSS =  2.330677795410156 AUC = 0.08 \n",
      "Batch 5 LOSS =  2.3256139119466144 AUC = 0.08333333333333333 \n",
      "Batch 6 LOSS =  2.330323328290667 AUC = 0.07142857142857142 \n",
      "Batch 7 LOSS =  2.327765870094299 AUC = 0.0875 \n",
      "Batch 8 LOSS =  2.32690552605523 AUC = 0.07777777777777778 \n",
      "Batch 9 LOSS =  2.328125057220459 AUC = 0.07 \n",
      "Batch 10 LOSS =  2.32596171985973 AUC = 0.08181818181818182 \n",
      "Batch 11 LOSS =  2.327970854441325 AUC = 0.075 \n",
      "Batch 12 LOSS =  2.32817016014686 AUC = 0.06923076923076923 \n",
      "Batch 13 LOSS =  2.330208628518241 AUC = 0.06428571428571428 \n",
      "Batch 14 LOSS =  2.332035446166992 AUC = 0.06666666666666667 \n",
      "Batch 15 LOSS =  2.3295463919639587 AUC = 0.075 \n",
      "Batch 16 LOSS =  2.3298814436968636 AUC = 0.07058823529411765 \n",
      "Batch 17 LOSS =  2.3318813323974608 AUC = 0.06666666666666667 \n",
      "Batch 18 LOSS =  2.3333045557925574 AUC = 0.06315789473684211 \n",
      "Batch 19 LOSS =  2.3336937618255615 AUC = 0.06 \n",
      "Batch 0 LOSS =  2.3275938034057617 AUC = 0.1 \n",
      "Batch 1 LOSS =  2.3043386459350588 AUC = 0.1 \n",
      "Batch 2 LOSS =  2.309441312154134 AUC = 0.1 \n",
      "Batch 3 LOSS =  2.3236815452575685 AUC = 0.1 \n",
      "Batch 4 LOSS =  2.3236225128173826 AUC = 0.08 \n",
      "Batch 5 LOSS =  2.319768778483073 AUC = 0.08333333333333333 \n",
      "Batch 6 LOSS =  2.3217895235334125 AUC = 0.07142857142857142 \n",
      "Batch 7 LOSS =  2.3228147506713865 AUC = 0.0625 \n",
      "Batch 8 LOSS =  2.3240288628472223 AUC = 0.05555555555555555 \n",
      "Batch 9 LOSS =  2.3244156646728515 AUC = 0.06 \n",
      "Batch 10 LOSS =  2.321561848033558 AUC = 0.07272727272727272 \n",
      "Batch 11 LOSS =  2.3253180821736654 AUC = 0.075 \n",
      "Batch 12 LOSS =  2.3253163264347956 AUC = 0.06923076923076923 \n",
      "Batch 13 LOSS =  2.3279791014535087 AUC = 0.06428571428571428 \n",
      "Batch 14 LOSS =  2.3292819595336915 AUC = 0.06666666666666667 \n",
      "Batch 15 LOSS =  2.3287297010421755 AUC = 0.0625 \n",
      "Batch 16 LOSS =  2.328853842791389 AUC = 0.058823529411764705 \n",
      "Batch 17 LOSS =  2.328452396392822 AUC = 0.05555555555555555 \n",
      "Batch 18 LOSS =  2.32877015565571 AUC = 0.05263157894736842 \n",
      "Batch 19 LOSS =  2.3290139770507814 AUC = 0.05 \n",
      "Batch 0 LOSS =  2.1478111267089846 AUC = 0.2 \n",
      "Batch 1 LOSS =  2.023723030090332 AUC = 0.2 \n",
      "Batch 2 LOSS =  2.208425013224284 AUC = 0.23333333333333334 \n",
      "Batch 3 LOSS =  2.3094090461730956 AUC = 0.25 \n",
      "Batch 4 LOSS =  2.288117752075195 AUC = 0.24 \n",
      "Batch 5 LOSS =  2.3300769170125326 AUC = 0.25 \n",
      "Batch 6 LOSS =  2.3272744859967913 AUC = 0.2571428571428571 \n",
      "Batch 7 LOSS =  2.322572207450867 AUC = 0.25 \n",
      "Batch 8 LOSS =  2.3332566791110567 AUC = 0.2222222222222222 \n",
      "Batch 9 LOSS =  2.359225940704346 AUC = 0.22 \n",
      "Batch 10 LOSS =  2.345796914534135 AUC = 0.21818181818181817 \n",
      "Batch 11 LOSS =  2.353206443786621 AUC = 0.20833333333333334 \n",
      "Batch 12 LOSS =  2.3493152178250827 AUC = 0.19230769230769232 \n",
      "Batch 13 LOSS =  2.352054078238351 AUC = 0.17857142857142858 \n",
      "Batch 14 LOSS =  2.3457667668660482 AUC = 0.17333333333333334 \n",
      "Batch 15 LOSS =  2.352308189868927 AUC = 0.1625 \n",
      "Batch 16 LOSS =  2.3522722244262697 AUC = 0.1588235294117647 \n",
      "Batch 17 LOSS =  2.3342042287190754 AUC = 0.18888888888888888 \n",
      "Batch 18 LOSS =  2.3313141371074475 AUC = 0.2 \n",
      "Batch 19 LOSS =  2.3288016986846922 AUC = 0.2 \n",
      "Batch 0 LOSS =  0.6949254035949707 AUC = 1.0 \n",
      "Batch 1 LOSS =  1.189134168624878 AUC = 0.65 \n",
      "Batch 2 LOSS =  1.3382070859273274 AUC = 0.5666666666666667 \n",
      "Batch 3 LOSS =  1.2262761831283568 AUC = 0.6 \n",
      "Batch 4 LOSS =  1.1927235412597657 AUC = 0.62 \n",
      "Batch 5 LOSS =  1.1143272082010904 AUC = 0.6666666666666666 \n",
      "Batch 6 LOSS =  1.127699851989746 AUC = 0.6714285714285714 \n",
      "Batch 7 LOSS =  1.0414336144924163 AUC = 0.7125 \n",
      "Batch 8 LOSS =  1.022791454527113 AUC = 0.7111111111111111 \n",
      "Batch 9 LOSS =  1.0591415739059449 AUC = 0.7 \n",
      "Batch 10 LOSS =  1.1084530180150813 AUC = 0.6909090909090909 \n",
      "Batch 11 LOSS =  1.0730304400126138 AUC = 0.6833333333333333 \n",
      "Batch 12 LOSS =  1.081451078561636 AUC = 0.676923076923077 \n",
      "Batch 13 LOSS =  1.0928608621869769 AUC = 0.6714285714285714 \n",
      "Batch 14 LOSS =  1.062685260772705 AUC = 0.6733333333333333 \n",
      "Batch 15 LOSS =  1.0637812674045564 AUC = 0.66875 \n",
      "Batch 16 LOSS =  1.066204194461598 AUC = 0.6705882352941176 \n",
      "Batch 17 LOSS =  1.0615876409742566 AUC = 0.6777777777777778 \n",
      "Batch 18 LOSS =  1.087045729787726 AUC = 0.6578947368421053 \n",
      "Batch 19 LOSS =  1.0691657495498657 AUC = 0.66 \n"
     ]
    }
   ],
   "source": [
    "vgg_results = train(model, train_iter, test_iter, trainer, 10)"
   ]
  },
  {
   "cell_type": "code",
   "execution_count": null,
   "metadata": {
    "colab": {
     "base_uri": "https://localhost:8080/"
    },
    "id": "yj2BqYtgpo20",
    "outputId": "a35db8f2-af0d-4106-e075-4f8c92bc9d67"
   },
   "outputs": [
    {
     "data": {
      "text/plain": [
       "50176"
      ]
     },
     "execution_count": 30,
     "metadata": {},
     "output_type": "execute_result"
    }
   ],
   "source": [
    "224*224"
   ]
  },
  {
   "cell_type": "code",
   "execution_count": null,
   "metadata": {
    "id": "gRObShdSpin7"
   },
   "outputs": [],
   "source": []
  },
  {
   "cell_type": "markdown",
   "metadata": {
    "id": "eyFqwh-1pjFt"
   },
   "source": [
    "# Inception v3"
   ]
  },
  {
   "cell_type": "code",
   "execution_count": null,
   "metadata": {
    "id": "oi76ayuFbJjO"
   },
   "outputs": [],
   "source": [
    "transform = tv.transforms.Compose([\n",
    "    tv.transforms.Resize((299, 299)),\n",
    "    tv.transforms.ToTensor(),\n",
    "    tv.transforms.Normalize(mean = [0.5, 0.5, 0.5], std = [0.5, 0.5, 0.5])\n",
    "])\n",
    "\n",
    "\n",
    "dataset = tv.datasets.EMNIST(root='.', train=True, transform=transform, download=True,split='mnist')\n",
    "\n",
    "indices = np.arange(len(dataset))\n",
    "train_indices, test_indices = train_test_split(indices, train_size=50*10, stratify=dataset.targets)\n",
    "\n",
    "# Warp into Subsets and DataLoaders\n",
    "train_dataset = Subset(dataset, train_indices)\n",
    "test_dataset = Subset(dataset, test_indices)"
   ]
  },
  {
   "cell_type": "code",
   "execution_count": null,
   "metadata": {
    "id": "0_1Nlg4LbMv8"
   },
   "outputs": [],
   "source": []
  },
  {
   "cell_type": "code",
   "execution_count": null,
   "metadata": {
    "colab": {
     "base_uri": "https://localhost:8080/"
    },
    "id": "ljbPPQNIplms",
    "outputId": "a5f13383-8fd0-4f76-9f26-7961b3d190a5"
   },
   "outputs": [
    {
     "name": "stderr",
     "output_type": "stream",
     "text": [
      "/usr/local/lib/python3.10/dist-packages/torchvision/models/_utils.py:208: UserWarning: The parameter 'pretrained' is deprecated since 0.13 and may be removed in the future, please use 'weights' instead.\n",
      "  warnings.warn(\n",
      "/usr/local/lib/python3.10/dist-packages/torchvision/models/_utils.py:223: UserWarning: Arguments other than a weight enum or `None` for 'weights' are deprecated since 0.13 and may be removed in the future. The current behavior is equivalent to passing `weights=None`.\n",
      "  warnings.warn(msg)\n",
      "/usr/local/lib/python3.10/dist-packages/torchvision/models/inception.py:43: FutureWarning: The default weight initialization of inception_v3 will be changed in future releases of torchvision. If you wish to keep the old behavior (which leads to long initialization times due to scipy/scipy#11299), please set init_weights=True.\n",
      "  warnings.warn(\n"
     ]
    }
   ],
   "source": [
    "model = tv.models.inception_v3(pretrained=False)"
   ]
  },
  {
   "cell_type": "code",
   "execution_count": null,
   "metadata": {
    "id": "uZliqFAqpndx"
   },
   "outputs": [],
   "source": [
    "model.classifier = nn.Linear(model.fc.in_features, len(targets))\n",
    "\n"
   ]
  },
  {
   "cell_type": "code",
   "execution_count": null,
   "metadata": {
    "id": "KEkK_JRAQgKH"
   },
   "outputs": [],
   "source": [
    "transform = tv.transforms.Compose([\n",
    "      tv.transforms.Grayscale(3),\n",
    "    tv.transforms.Resize((299,299)),\n",
    "    tv.transforms.ToTensor()\n",
    "])\n",
    "import gc\n",
    "dataset = tv.datasets.EMNIST(root='.', train=True, transform=transform, download=True,split='mnist')\n",
    "from torch.utils.data import Subset\n",
    "from sklearn.model_selection import train_test_split\n",
    "import numpy as np\n",
    "indices = np.arange(len(dataset))\n",
    "train_indices, test_indices = train_test_split(indices, train_size=50*10, stratify=dataset.targets)\n",
    "\n",
    "# Warp into Subsets and DataLoaders\n",
    "train_dataset = Subset(dataset, train_indices)\n",
    "test_dataset = Subset(dataset, test_indices)\n",
    "\n"
   ]
  },
  {
   "cell_type": "code",
   "execution_count": null,
   "metadata": {
    "id": "l1gw8HKypobT"
   },
   "outputs": [],
   "source": [
    "\n",
    "params_to_update = []\n",
    "for name, param in model.named_parameters():\n",
    "    if param.requires_grad == True:\n",
    "        params_to_update.append(param)\n",
    "\n",
    "trainer = torch.optim.Adam(params_to_update, lr=0.001)"
   ]
  },
  {
   "cell_type": "code",
   "execution_count": null,
   "metadata": {
    "id": "JMAqkHeIpqJO"
   },
   "outputs": [],
   "source": [
    "def train_1(model, train_iter, test_iter,trainer,epochs=10):\n",
    "  l_arr = []\n",
    "  model.to(device)\n",
    "  loss = nn.CrossEntropyLoss(reduction='sum')\n",
    "  model.train()\n",
    "\n",
    "  for epoch in range(epochs):\n",
    "    train_l_sum,n,train_acc_sum = 0.0, 0,0.0\n",
    "    for i,(X,y) in enumerate(train_iter):\n",
    "\n",
    "\n",
    "      X,y = X.to(device),y.to(device)\n",
    "      trainer.zero_grad()\n",
    "      _,y_pred = model(X)\n",
    "      l = loss(y_pred,y)\n",
    "      l.backward()\n",
    "      trainer.step()\n",
    "      train_l_sum  += l.item()\n",
    "      train_acc_sum += (y_pred.argmax(axis=1)==y).sum().item()\n",
    "      n += y.shape[0]\n",
    "      torch.cuda.empty_cache()\n",
    "     # if i % 2:\n",
    "     #   print(f\"\"\"Batch {i} LOSS =  {train_l_sum/n} AUC = {train_acc_sum/n} \"\"\")\n",
    "    #if epoch % 2 :\n",
    "    #  test_acc = AUC(model,test_iter)\n",
    "    #  print(f\"\"\"----------------AUC test = {test_acc}------------------------ \"\"\")\n",
    "\n",
    "    l_arr.append(train_l_sum/n)\n",
    "  return pd.DataFrame({'epoch':list(range(epochs)),'Loss':l_arr})\n",
    "BATCH_SIZE = 10\n",
    "train_iter = torch.utils.data.DataLoader(train_dataset, batch_size=BATCH_SIZE)\n",
    "test_iter = torch.utils.data.DataLoader(test_dataset, batch_size=BATCH_SIZE)\n",
    "inception_results = train_1(model, train_iter, test_iter, trainer, 10)"
   ]
  },
  {
   "cell_type": "code",
   "execution_count": null,
   "metadata": {
    "id": "38gb4vcepsd_"
   },
   "outputs": [],
   "source": []
  },
  {
   "cell_type": "markdown",
   "metadata": {
    "id": "Ov1fUXRbp2QE"
   },
   "source": [
    "# DenseNet 161"
   ]
  },
  {
   "cell_type": "code",
   "execution_count": null,
   "metadata": {
    "id": "RLVJ-2ZmdtE6"
   },
   "outputs": [],
   "source": [
    "transform_ = tv.transforms.Compose([\n",
    "    tv.transforms.Resize((32, 32)),\n",
    "    tv.transforms.ToTensor(),\n",
    "    tv.transforms.Normalize(mean = [0.5, 0.5, 0.5], std = [0.5, 0.5, 0.5])\n",
    "])\n",
    "\n",
    "\n",
    "dataset = tv.datasets.EMNIST(root='.', train=True, transform=transform, download=True,split='mnist')\n",
    "\n",
    "indices = np.arange(len(dataset))\n",
    "train_indices, test_indices = train_test_split(indices, train_size=50*10, stratify=dataset.targets)\n",
    "\n",
    "# Warp into Subsets and DataLoaders\n",
    "train_dataset = Subset(dataset, train_indices)\n",
    "test_dataset = Subset(dataset, test_indices)"
   ]
  },
  {
   "cell_type": "code",
   "execution_count": null,
   "metadata": {
    "colab": {
     "base_uri": "https://localhost:8080/"
    },
    "id": "NWbrM1Cup-gE",
    "outputId": "b0c2ed44-b416-43c8-ee25-0a5251bb1505"
   },
   "outputs": [
    {
     "name": "stderr",
     "output_type": "stream",
     "text": [
      "/usr/local/lib/python3.10/dist-packages/torchvision/models/_utils.py:208: UserWarning: The parameter 'pretrained' is deprecated since 0.13 and may be removed in the future, please use 'weights' instead.\n",
      "  warnings.warn(\n",
      "/usr/local/lib/python3.10/dist-packages/torchvision/models/_utils.py:223: UserWarning: Arguments other than a weight enum or `None` for 'weights' are deprecated since 0.13 and may be removed in the future. The current behavior is equivalent to passing `weights=None`.\n",
      "  warnings.warn(msg)\n"
     ]
    }
   ],
   "source": [
    "model = tv.models.densenet161(pretrained=False)"
   ]
  },
  {
   "cell_type": "code",
   "execution_count": null,
   "metadata": {
    "id": "L_io06RwqCFG"
   },
   "outputs": [],
   "source": [
    "model.classifier = nn.Linear(in_features=2208, out_features=len(targets))"
   ]
  },
  {
   "cell_type": "code",
   "execution_count": null,
   "metadata": {
    "id": "dzm8sU7uqC_f"
   },
   "outputs": [],
   "source": [
    "\n",
    "params_to_update = []\n",
    "for name, param in model.named_parameters():\n",
    "    if param.requires_grad == True:\n",
    "        params_to_update.append(param)\n",
    ""
   ]
  },
  {
   "cell_type": "code",
   "execution_count": null,
   "metadata": {
    "id": "lvHLi5_VqFZj"
   },
   "outputs": [],
   "source": [
    "BATCH_SIZE = 10\n",
    "train_iter = torch.utils.data.DataLoader(train_dataset, batch_size=BATCH_SIZE)\n",
    "test_iter = torch.utils.data.DataLoader(test_dataset, batch_size=BATCH_SIZE)\n",
    "dense_results = train(model, train_iter, test_iter, trainer, 10)"
   ]
  },
  {
   "cell_type": "code",
   "execution_count": null,
   "metadata": {
    "id": "NUdb3aAwHECT"
   },
   "outputs": [],
   "source": []
  },
  {
   "cell_type": "markdown",
   "metadata": {
    "id": "-CE96nXuegvB"
   },
   "source": [
    "# Results"
   ]
  },
  {
   "cell_type": "code",
   "execution_count": null,
   "metadata": {
    "colab": {
     "base_uri": "https://localhost:8080/",
     "height": 430
    },
    "id": "8IEQI2g0ejNB",
    "outputId": "ddfd56a6-e632-4410-b37b-4cf30facf69f"
   },
   "outputs": [
    {
     "data": {
      "image/png": "[encoded data removed]",
      "text/plain": [
       "<Figure size 640x480 with 1 Axes>"
      ]
     },
     "metadata": {},
     "output_type": "display_data"
    }
   ],
   "source": [
    "# inception_results , vgg_results ,res_results ,dense_results\n",
    "import matplotlib.pyplot as plt\n",
    "\n",
    "# Plot\n",
    "plt.plot(res_results['epoch'], res_results['Loss'],label='Resnet')\n",
    "plt.plot(vgg_results['epoch'], vgg_results['Loss'],label='VGG')\n",
    "plt.plot(inception_results ['epoch'], inception_results ['Loss'],label='Inception')\n",
    "plt.plot(dense_results ['epoch'],dense_results  ['Loss'],label='DenseNet')\n",
    "plt.legend()\n",
    "plt.show()"
   ]
  },
  {
   "cell_type": "code",
   "execution_count": null,
   "metadata": {
    "id": "dgQwOpA1gkKC"
   },
   "outputs": [],
   "source": []
  }
 ],
 "metadata": {
  "accelerator": "GPU",
  "colab": {
   "gpuType": "T4",
   "provenance": []
  },
  "kernelspec": {
   "display_name": "Python 3",
   "name": "python3"
  },
  "language_info": {
   "name": "python"
  }
 },
 "nbformat": 4,
 "nbformat_minor": 0
}
