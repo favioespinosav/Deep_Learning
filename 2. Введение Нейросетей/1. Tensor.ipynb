{
 "cells": [
  {
   "cell_type": "code",
   "execution_count": 1,
   "id": "c5b66580-4179-4ca3-8fb6-302b7a0b2b0a",
   "metadata": {},
   "outputs": [],
   "source": [
    "import torch"
   ]
  },
  {
   "cell_type": "code",
   "execution_count": 2,
   "id": "d054345e-8fec-4a70-87ad-5ea336ca3d8e",
   "metadata": {},
   "outputs": [
    {
     "data": {
      "text/plain": [
       "tensor([ 0,  1,  2,  3,  4,  5,  6,  7,  8,  9, 10, 11])"
      ]
     },
     "execution_count": 2,
     "metadata": {},
     "output_type": "execute_result"
    }
   ],
   "source": [
    "x = torch.arange(12)\n",
    "x"
   ]
  },
  {
   "cell_type": "code",
   "execution_count": 4,
   "id": "e7fb6a06-288f-461e-b5ac-cd978c7eb93a",
   "metadata": {},
   "outputs": [
    {
     "data": {
      "text/plain": [
       "tensor([[0.0000e+00, 0.0000e+00, 0.0000e+00],\n",
       "        [1.0000e+00, 1.0000e+00, 1.0000e+00],\n",
       "        [2.0000e+00, 4.0000e+00, 8.0000e+00],\n",
       "        [3.0000e+00, 9.0000e+00, 2.7000e+01],\n",
       "        [4.0000e+00, 1.6000e+01, 6.4000e+01],\n",
       "        [5.0000e+00, 2.5000e+01, 1.2500e+02],\n",
       "        [6.0000e+00, 3.6000e+01, 2.1600e+02],\n",
       "        [7.0000e+00, 4.9000e+01, 3.4300e+02],\n",
       "        [8.0000e+00, 6.4000e+01, 5.1200e+02],\n",
       "        [9.0000e+00, 8.1000e+01, 7.2900e+02],\n",
       "        [1.0000e+01, 1.0000e+02, 1.0000e+03],\n",
       "        [1.1000e+01, 1.2100e+02, 1.3310e+03]])"
      ]
     },
     "execution_count": 4,
     "metadata": {},
     "output_type": "execute_result"
    }
   ],
   "source": [
    "xx = torch.Tensor([[x,x**2,x**3] for x in range(12)])\n",
    "xx"
   ]
  },
  {
   "cell_type": "code",
   "execution_count": 6,
   "id": "dd66e945-ae29-4432-9fcc-fe070e314721",
   "metadata": {},
   "outputs": [
    {
     "data": {
      "text/plain": [
       "tensor([1.])"
      ]
     },
     "execution_count": 6,
     "metadata": {},
     "output_type": "execute_result"
    }
   ],
   "source": [
    "torch.Tensor([1])"
   ]
  },
  {
   "cell_type": "code",
   "execution_count": 7,
   "id": "36c13144-23f5-483a-b7cd-924fe9c943cb",
   "metadata": {},
   "outputs": [
    {
     "data": {
      "text/plain": [
       "torch.Size([12, 3])"
      ]
     },
     "execution_count": 7,
     "metadata": {},
     "output_type": "execute_result"
    }
   ],
   "source": [
    "xx.shape"
   ]
  },
  {
   "cell_type": "code",
   "execution_count": 8,
   "id": "e8673c5d-d130-49c5-ac06-ab146f064330",
   "metadata": {},
   "outputs": [
    {
     "data": {
      "text/plain": [
       "device(type='cpu')"
      ]
     },
     "execution_count": 8,
     "metadata": {},
     "output_type": "execute_result"
    }
   ],
   "source": [
    "x.device"
   ]
  },
  {
   "cell_type": "code",
   "execution_count": 10,
   "id": "258d41cc-4907-41a9-a31c-d61dd63282a6",
   "metadata": {},
   "outputs": [
    {
     "data": {
      "text/plain": [
       "torch.Size([2, 3, 2])"
      ]
     },
     "execution_count": 10,
     "metadata": {},
     "output_type": "execute_result"
    }
   ],
   "source": [
    "x.view((2,-1,2)).shape # Возврашает новый  тензор, но новый тензор менятся если меняем старый. \n",
    "#Он работает если данных располягаются в одом област память "
   ]
  },
  {
   "cell_type": "code",
   "execution_count": 11,
   "id": "70a6e334-817e-4a8a-b563-cd35df55ca72",
   "metadata": {},
   "outputs": [
    {
     "data": {
      "text/plain": [
       "torch.Size([2, 3, 2])"
      ]
     },
     "execution_count": 11,
     "metadata": {},
     "output_type": "execute_result"
    }
   ],
   "source": [
    "x.reshape((2,-1,2)).shape # Esli nuxno kopiq nado clone "
   ]
  },
  {
   "cell_type": "code",
   "execution_count": 12,
   "id": "c5319702-7581-4ffe-8278-e8d1c52b93e6",
   "metadata": {},
   "outputs": [
    {
     "data": {
      "text/plain": [
       "tensor([[[ 0,  1],\n",
       "         [ 2,  3],\n",
       "         [ 4,  5]],\n",
       "\n",
       "        [[ 6,  7],\n",
       "         [ 8,  9],\n",
       "         [10, 11]]])"
      ]
     },
     "execution_count": 12,
     "metadata": {},
     "output_type": "execute_result"
    }
   ],
   "source": [
    "x.reshape((2,-1,2))"
   ]
  },
  {
   "cell_type": "code",
   "execution_count": 14,
   "id": "7776f3e0-e4f7-477b-8452-8ca47e79a838",
   "metadata": {},
   "outputs": [
    {
     "data": {
      "text/plain": [
       "tensor([[[ 0,  1],\n",
       "         [ 2,  3],\n",
       "         [ 4,  5]],\n",
       "\n",
       "        [[ 6,  7],\n",
       "         [ 8,  9],\n",
       "         [10, 11]]])"
      ]
     },
     "execution_count": 14,
     "metadata": {},
     "output_type": "execute_result"
    }
   ],
   "source": [
    "x.view((2,-1,2))"
   ]
  },
  {
   "cell_type": "code",
   "execution_count": 15,
   "id": "7363a66f-5047-4ecd-b094-8544452e0ad4",
   "metadata": {},
   "outputs": [
    {
     "data": {
      "text/plain": [
       "tensor([[ 18,  20,  10],\n",
       "        [ 58,  60,  50],\n",
       "        [ 98, 100,  90]])"
      ]
     },
     "execution_count": 15,
     "metadata": {},
     "output_type": "execute_result"
    }
   ],
   "source": [
    "x = torch.arange(12).reshape((3,4))\n",
    "y = torch.tensor([[2,1,4,3],[1,2,3,4],[4,3,2,1]])\n",
    "torch.mm(x,y.T)"
   ]
  },
  {
   "cell_type": "code",
   "execution_count": 19,
   "id": "3c7a5679-6ee9-4bba-b69f-0a00498ae30e",
   "metadata": {},
   "outputs": [
    {
     "data": {
      "text/plain": [
       "(tensor([[ 0,  1,  2,  3],\n",
       "         [ 4,  5,  6,  7],\n",
       "         [ 8,  9, 10, 11]]),\n",
       " tensor([[2, 1, 4, 3],\n",
       "         [1, 2, 3, 4],\n",
       "         [4, 3, 2, 1]]))"
      ]
     },
     "execution_count": 19,
     "metadata": {},
     "output_type": "execute_result"
    }
   ],
   "source": [
    "x,y"
   ]
  },
  {
   "cell_type": "code",
   "execution_count": 20,
   "id": "eeb12030-29ca-4a16-9ab9-b6fe5a8791a3",
   "metadata": {},
   "outputs": [
    {
     "data": {
      "text/plain": [
       "tensor([[ 0,  1,  2,  3],\n",
       "        [ 4,  5,  6,  7],\n",
       "        [ 8,  9, 10, 11],\n",
       "        [ 2,  1,  4,  3],\n",
       "        [ 1,  2,  3,  4],\n",
       "        [ 4,  3,  2,  1]])"
      ]
     },
     "execution_count": 20,
     "metadata": {},
     "output_type": "execute_result"
    }
   ],
   "source": [
    "torch.cat((x,y),axis=0)"
   ]
  },
  {
   "cell_type": "code",
   "execution_count": 21,
   "id": "9dee5ce3-839a-4f72-98e2-92f18dc1883a",
   "metadata": {},
   "outputs": [
    {
     "data": {
      "text/plain": [
       "tensor([[ 0,  1,  2,  3,  2,  1,  4,  3],\n",
       "        [ 4,  5,  6,  7,  1,  2,  3,  4],\n",
       "        [ 8,  9, 10, 11,  4,  3,  2,  1]])"
      ]
     },
     "execution_count": 21,
     "metadata": {},
     "output_type": "execute_result"
    }
   ],
   "source": [
    "torch.cat((x,y),axis=1)\n"
   ]
  },
  {
   "cell_type": "code",
   "execution_count": 25,
   "id": "ffa69b36-bb34-4bb5-a57a-e6676e16e986",
   "metadata": {},
   "outputs": [
    {
     "data": {
      "text/plain": [
       "tensor([[1, 1, 1, 1],\n",
       "        [0, 0, 0, 0],\n",
       "        [0, 0, 0, 0]], dtype=torch.int32)"
      ]
     },
     "execution_count": 25,
     "metadata": {},
     "output_type": "execute_result"
    }
   ],
   "source": [
    "(x<=y).int()"
   ]
  },
  {
   "cell_type": "code",
   "execution_count": 22,
   "id": "6d07fd6a-7e9c-4c35-b2dc-aea31f0eec70",
   "metadata": {},
   "outputs": [
    {
     "data": {
      "text/plain": [
       "tensor(66)"
      ]
     },
     "execution_count": 22,
     "metadata": {},
     "output_type": "execute_result"
    }
   ],
   "source": [
    "x.sum()"
   ]
  },
  {
   "cell_type": "code",
   "execution_count": 26,
   "id": "4f3c2f6f-2adf-430d-b715-230a085fb508",
   "metadata": {},
   "outputs": [
    {
     "data": {
      "text/plain": [
       "tensor([ 6, 22, 38])"
      ]
     },
     "execution_count": 26,
     "metadata": {},
     "output_type": "execute_result"
    }
   ],
   "source": [
    "x.sum(dim=1)"
   ]
  },
  {
   "cell_type": "code",
   "execution_count": 27,
   "id": "4b086ace-8154-4a68-84cc-c43ea869e2cc",
   "metadata": {},
   "outputs": [
    {
     "data": {
      "text/plain": [
       "tensor([[ 6],\n",
       "        [22],\n",
       "        [38]])"
      ]
     },
     "execution_count": 27,
     "metadata": {},
     "output_type": "execute_result"
    }
   ],
   "source": [
    "x.sum(dim=1,keepdim=True)"
   ]
  },
  {
   "cell_type": "code",
   "execution_count": 28,
   "id": "f409c0f4-06e0-422d-8a16-49c0e78674ba",
   "metadata": {},
   "outputs": [
    {
     "data": {
      "text/plain": [
       "tensor([[12, 15, 18, 21]])"
      ]
     },
     "execution_count": 28,
     "metadata": {},
     "output_type": "execute_result"
    }
   ],
   "source": [
    "x.sum(dim=0,keepdim=True)"
   ]
  },
  {
   "cell_type": "code",
   "execution_count": 31,
   "id": "032fb17a-76a9-4e8e-ad09-f5979070d4f6",
   "metadata": {},
   "outputs": [
    {
     "data": {
      "text/plain": [
       "tensor([[ 0,  1,  2,  3],\n",
       "        [ 4,  5,  6,  7],\n",
       "        [ 8,  9, 10, 11]])"
      ]
     },
     "execution_count": 31,
     "metadata": {},
     "output_type": "execute_result"
    }
   ],
   "source": [
    "x"
   ]
  },
  {
   "cell_type": "code",
   "execution_count": 30,
   "id": "98d470e4-a054-4b60-993d-b0e6160df75a",
   "metadata": {},
   "outputs": [
    {
     "data": {
      "text/plain": [
       "tensor([[[ 0,  1,  2,  3]],\n",
       "\n",
       "        [[ 4,  5,  6,  7]],\n",
       "\n",
       "        [[ 8,  9, 10, 11]]])"
      ]
     },
     "execution_count": 30,
     "metadata": {},
     "output_type": "execute_result"
    }
   ],
   "source": [
    "x.unsqueeze(1)"
   ]
  },
  {
   "cell_type": "code",
   "execution_count": 32,
   "id": "cce2c13e-f0e1-46a9-9552-a0f4d81bf591",
   "metadata": {},
   "outputs": [
    {
     "data": {
      "text/plain": [
       "tensor([[[ 0],\n",
       "         [ 1],\n",
       "         [ 2],\n",
       "         [ 3]],\n",
       "\n",
       "        [[ 4],\n",
       "         [ 5],\n",
       "         [ 6],\n",
       "         [ 7]],\n",
       "\n",
       "        [[ 8],\n",
       "         [ 9],\n",
       "         [10],\n",
       "         [11]]])"
      ]
     },
     "execution_count": 32,
     "metadata": {},
     "output_type": "execute_result"
    }
   ],
   "source": [
    "x.unsqueeze(2)"
   ]
  },
  {
   "cell_type": "code",
   "execution_count": 33,
   "id": "2804343a-59c9-4d3b-b3e9-463ad9978fdd",
   "metadata": {},
   "outputs": [
    {
     "data": {
      "text/plain": [
       "tensor([[ 0,  1,  2,  3],\n",
       "        [ 4,  5,  6,  7],\n",
       "        [ 8,  9, 10, 11]])"
      ]
     },
     "execution_count": 33,
     "metadata": {},
     "output_type": "execute_result"
    }
   ],
   "source": [
    "x.unsqueeze(2).squeeze()"
   ]
  },
  {
   "cell_type": "code",
   "execution_count": 34,
   "id": "52be467d-fe22-4039-8b6a-443338535976",
   "metadata": {},
   "outputs": [
    {
     "data": {
      "text/plain": [
       "tensor([[ 0,  4,  8],\n",
       "        [ 1,  5,  9],\n",
       "        [ 2,  6, 10],\n",
       "        [ 3,  7, 11]])"
      ]
     },
     "execution_count": 34,
     "metadata": {},
     "output_type": "execute_result"
    }
   ],
   "source": [
    "x.T"
   ]
  },
  {
   "cell_type": "code",
   "execution_count": 35,
   "id": "66b9385b-6abc-43ce-b696-4fb475f9a6bb",
   "metadata": {},
   "outputs": [
    {
     "data": {
      "text/plain": [
       "tensor([[ 0,  4,  8],\n",
       "        [ 1,  5,  9],\n",
       "        [ 2,  6, 10],\n",
       "        [ 3,  7, 11]])"
      ]
     },
     "execution_count": 35,
     "metadata": {},
     "output_type": "execute_result"
    }
   ],
   "source": [
    "x.permute(1,0)"
   ]
  },
  {
   "cell_type": "code",
   "execution_count": 36,
   "id": "a5fc7fb1-4cd6-4b25-acd3-aa45b0c9249d",
   "metadata": {},
   "outputs": [],
   "source": [
    "xx = torch.rand((2,3,4))"
   ]
  },
  {
   "cell_type": "code",
   "execution_count": 37,
   "id": "65d517d9-8062-4b42-b4fd-b3ea32494f36",
   "metadata": {},
   "outputs": [
    {
     "data": {
      "text/plain": [
       "tensor([[[0.4130, 0.0448, 0.9682, 0.9225],\n",
       "         [0.3544, 0.3248, 0.7380, 0.0840],\n",
       "         [0.5644, 0.8478, 0.2578, 0.6520]],\n",
       "\n",
       "        [[0.3574, 0.4506, 0.1004, 0.1314],\n",
       "         [0.3669, 0.5940, 0.0162, 0.6527],\n",
       "         [0.4958, 0.2843, 0.1285, 0.0805]]])"
      ]
     },
     "execution_count": 37,
     "metadata": {},
     "output_type": "execute_result"
    }
   ],
   "source": [
    "xx"
   ]
  },
  {
   "cell_type": "code",
   "execution_count": 38,
   "id": "e5d95d16-750f-4768-aa4c-bbd588845f8c",
   "metadata": {},
   "outputs": [
    {
     "data": {
      "text/plain": [
       "tensor([[[0.4130, 0.3574],\n",
       "         [0.0448, 0.4506],\n",
       "         [0.9682, 0.1004],\n",
       "         [0.9225, 0.1314]],\n",
       "\n",
       "        [[0.3544, 0.3669],\n",
       "         [0.3248, 0.5940],\n",
       "         [0.7380, 0.0162],\n",
       "         [0.0840, 0.6527]],\n",
       "\n",
       "        [[0.5644, 0.4958],\n",
       "         [0.8478, 0.2843],\n",
       "         [0.2578, 0.1285],\n",
       "         [0.6520, 0.0805]]])"
      ]
     },
     "execution_count": 38,
     "metadata": {},
     "output_type": "execute_result"
    }
   ],
   "source": [
    "xx.permute(1,2,0)"
   ]
  },
  {
   "cell_type": "markdown",
   "id": "e2fcbd02-350e-475b-9a86-6935fa7b0978",
   "metadata": {},
   "source": [
    "# Broadcast"
   ]
  },
  {
   "cell_type": "code",
   "execution_count": 43,
   "id": "6413a5e6-4576-492f-bac9-2d85ce81d2e0",
   "metadata": {},
   "outputs": [],
   "source": [
    "a = torch.arange(3).reshape((3,1))"
   ]
  },
  {
   "cell_type": "code",
   "execution_count": 44,
   "id": "c26bed6f-8d19-4d7b-bdc6-420a00320493",
   "metadata": {},
   "outputs": [
    {
     "data": {
      "text/plain": [
       "tensor([[0],\n",
       "        [1],\n",
       "        [2]])"
      ]
     },
     "execution_count": 44,
     "metadata": {},
     "output_type": "execute_result"
    }
   ],
   "source": [
    "a"
   ]
  },
  {
   "cell_type": "code",
   "execution_count": 45,
   "id": "0a8d9294-c54d-4bbc-94e2-fa6c042b2fab",
   "metadata": {},
   "outputs": [],
   "source": [
    "b = torch.arange(4).reshape((1,4))"
   ]
  },
  {
   "cell_type": "code",
   "execution_count": 46,
   "id": "1a086f54-ba7f-4212-8743-617fc0e806cc",
   "metadata": {},
   "outputs": [
    {
     "data": {
      "text/plain": [
       "tensor([[0, 1, 2, 3]])"
      ]
     },
     "execution_count": 46,
     "metadata": {},
     "output_type": "execute_result"
    }
   ],
   "source": [
    "b"
   ]
  },
  {
   "cell_type": "code",
   "execution_count": 47,
   "id": "e00033cd-be57-4b42-89d8-427e1b69e9b6",
   "metadata": {},
   "outputs": [
    {
     "data": {
      "text/plain": [
       "tensor([[0, 1, 2, 3],\n",
       "        [1, 2, 3, 4],\n",
       "        [2, 3, 4, 5]])"
      ]
     },
     "execution_count": 47,
     "metadata": {},
     "output_type": "execute_result"
    }
   ],
   "source": [
    "a+b"
   ]
  },
  {
   "cell_type": "code",
   "execution_count": 52,
   "id": "51277af2-94cc-4cd2-b321-4b25704f8e0f",
   "metadata": {},
   "outputs": [
    {
     "data": {
      "text/plain": [
       "tensor([[ 0,  1,  2,  3],\n",
       "        [ 4,  5,  6,  7],\n",
       "        [ 8,  9, 10, 11]])"
      ]
     },
     "execution_count": 52,
     "metadata": {},
     "output_type": "execute_result"
    }
   ],
   "source": [
    "x"
   ]
  },
  {
   "cell_type": "code",
   "execution_count": 59,
   "id": "2fae5974-3d75-4c4f-94de-ca7b98724ce6",
   "metadata": {},
   "outputs": [
    {
     "data": {
      "text/plain": [
       "tensor([[ 5,  6],\n",
       "        [ 9, 10]])"
      ]
     },
     "execution_count": 59,
     "metadata": {},
     "output_type": "execute_result"
    }
   ],
   "source": [
    "x[1:3,1:3]"
   ]
  },
  {
   "cell_type": "code",
   "execution_count": 61,
   "id": "e8e575fc-041d-457a-a15b-27c8f5ecd001",
   "metadata": {},
   "outputs": [],
   "source": [
    "x[1:3,1:3] = 9"
   ]
  },
  {
   "cell_type": "code",
   "execution_count": 62,
   "id": "fe79417d-f92e-499e-9343-5aa328250b97",
   "metadata": {},
   "outputs": [
    {
     "data": {
      "text/plain": [
       "tensor([[ 0,  1,  2,  3],\n",
       "        [ 4,  9,  9,  7],\n",
       "        [ 8,  9,  9, 11]])"
      ]
     },
     "execution_count": 62,
     "metadata": {},
     "output_type": "execute_result"
    }
   ],
   "source": [
    "x"
   ]
  },
  {
   "cell_type": "code",
   "execution_count": 63,
   "id": "ccce0ed4-5f35-4c34-92d0-bda0d914b5d8",
   "metadata": {},
   "outputs": [],
   "source": [
    "x[1:3,:] = 9"
   ]
  },
  {
   "cell_type": "code",
   "execution_count": 64,
   "id": "59a01082-1558-4b8d-b816-6fd12e923c04",
   "metadata": {},
   "outputs": [
    {
     "data": {
      "text/plain": [
       "tensor([[0, 1, 2, 3],\n",
       "        [9, 9, 9, 9],\n",
       "        [9, 9, 9, 9]])"
      ]
     },
     "execution_count": 64,
     "metadata": {},
     "output_type": "execute_result"
    }
   ],
   "source": [
    "x"
   ]
  },
  {
   "cell_type": "code",
   "execution_count": 66,
   "id": "95302fff-cb7d-4758-9c10-336b05f542a3",
   "metadata": {},
   "outputs": [],
   "source": [
    "y = x.numpy()\n"
   ]
  },
  {
   "cell_type": "code",
   "execution_count": 67,
   "id": "2fc343dd-3003-48ab-b2ae-cccbf13db97d",
   "metadata": {},
   "outputs": [],
   "source": [
    "y = torch.tensor(y)"
   ]
  },
  {
   "cell_type": "code",
   "execution_count": 68,
   "id": "ef3d0686-a8ce-49dc-bd0a-af976d608a56",
   "metadata": {},
   "outputs": [
    {
     "data": {
      "text/plain": [
       "tensor([[0, 1, 2, 3],\n",
       "        [9, 9, 9, 9],\n",
       "        [9, 9, 9, 9]])"
      ]
     },
     "execution_count": 68,
     "metadata": {},
     "output_type": "execute_result"
    }
   ],
   "source": [
    "y"
   ]
  },
  {
   "cell_type": "code",
   "execution_count": null,
   "id": "2116334b-90d3-4929-b162-57dda77f51d4",
   "metadata": {},
   "outputs": [],
   "source": []
  }
 ],
 "metadata": {
  "kernelspec": {
   "display_name": "Python 3 (ipykernel)",
   "language": "python",
   "name": "python3"
  },
  "language_info": {
   "codemirror_mode": {
    "name": "ipython",
    "version": 3
   },
   "file_extension": ".py",
   "mimetype": "text/x-python",
   "name": "python",
   "nbconvert_exporter": "python",
   "pygments_lexer": "ipython3",
   "version": "3.10.6"
  }
 },
 "nbformat": 4,
 "nbformat_minor": 5
}
