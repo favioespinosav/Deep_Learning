{
 "cells": [
  {
   "cell_type": "code",
   "execution_count": 1,
   "id": "ed59d2dc-a16e-47ee-a561-c7b84dc11196",
   "metadata": {},
   "outputs": [
    {
     "name": "stdout",
     "output_type": "stream",
     "text": [
      "Untitled.ipynb\tматериалы_dll_cv3.zip\n"
     ]
    }
   ],
   "source": [
    "!ls\n"
   ]
  },
  {
   "cell_type": "code",
   "execution_count": 2,
   "id": "a3093af6-8461-40cb-8dde-5bb403aed710",
   "metadata": {},
   "outputs": [
    {
     "name": "stdout",
     "output_type": "stream",
     "text": [
      "Archive:  материалы_dll_cv3.zip\n",
      "  inflating: dancing.jpg             \n",
      "  inflating: flamingo.jpg            \n",
      "  inflating: kitten_1.jpg            \n",
      "  inflating: picasso.jpg             \n",
      "  inflating: Лекция_12.ipynb   \n"
     ]
    }
   ],
   "source": [
    "!unzip материалы_dll_cv3.zip"
   ]
  },
  {
   "cell_type": "code",
   "execution_count": null,
   "id": "55ec81e0-4b91-42ee-9d1f-43b239888e90",
   "metadata": {},
   "outputs": [],
   "source": []
  }
 ],
 "metadata": {
  "kernelspec": {
   "display_name": "Python 3 (ipykernel)",
   "language": "python",
   "name": "python3"
  },
  "language_info": {
   "codemirror_mode": {
    "name": "ipython",
    "version": 3
   },
   "file_extension": ".py",
   "mimetype": "text/x-python",
   "name": "python",
   "nbconvert_exporter": "python",
   "pygments_lexer": "ipython3",
   "version": "3.10.12"
  }
 },
 "nbformat": 4,
 "nbformat_minor": 5
}
