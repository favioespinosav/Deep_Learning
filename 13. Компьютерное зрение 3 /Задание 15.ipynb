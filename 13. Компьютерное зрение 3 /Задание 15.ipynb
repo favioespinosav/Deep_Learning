{
 "cells": [
  {
   "cell_type": "code",
   "execution_count": null,
   "metadata": {
    "id": "NgwGzjVvE_gc"
   },
   "outputs": [],
   "source": [
    "import torch\n",
    "import torch.nn as nn\n",
    "import torchvision as tv\n",
    "import torchvision.transforms as transforms\n",
    "import matplotlib.pyplot as plt\n",
    "from torchsummary import summary\n",
    "import pandas as pd"
   ]
  },
  {
   "cell_type": "code",
   "execution_count": null,
   "metadata": {
    "colab": {
     "base_uri": "https://localhost:8080/",
     "height": 36
    },
    "id": "vM8m1zCRFosc",
    "outputId": "783c3444-9920-4326-9ee4-0137dac69a96"
   },
   "outputs": [
    {
     "data": {
      "application/vnd.google.colaboratory.intrinsic+json": {
       "type": "string"
      },
      "text/plain": [
       "'cuda'"
      ]
     },
     "execution_count": 2,
     "metadata": {},
     "output_type": "execute_result"
    }
   ],
   "source": [
    "device = 'cuda' if torch.cuda.is_available() else 'cpu'\n",
    "device"
   ]
  },
  {
   "cell_type": "code",
   "execution_count": null,
   "metadata": {
    "colab": {
     "base_uri": "https://localhost:8080/"
    },
    "id": "JG-JKLQsFlI6",
    "outputId": "dfcd2810-b116-4ad8-aadd-fc6466830cb4"
   },
   "outputs": [
    {
     "name": "stdout",
     "output_type": "stream",
     "text": [
      "Downloading http://yann.lecun.com/exdb/mnist/train-images-idx3-ubyte.gz\n",
      "Downloading http://yann.lecun.com/exdb/mnist/train-images-idx3-ubyte.gz to ./MNIST/raw/train-images-idx3-ubyte.gz\n"
     ]
    },
    {
     "name": "stderr",
     "output_type": "stream",
     "text": [
      "100%|██████████| 9912422/9912422 [00:00<00:00, 231437763.34it/s]"
     ]
    },
    {
     "name": "stdout",
     "output_type": "stream",
     "text": [
      "Extracting ./MNIST/raw/train-images-idx3-ubyte.gz to ./MNIST/raw\n"
     ]
    },
    {
     "name": "stderr",
     "output_type": "stream",
     "text": [
      "\n"
     ]
    },
    {
     "name": "stdout",
     "output_type": "stream",
     "text": [
      "\n",
      "Downloading http://yann.lecun.com/exdb/mnist/train-labels-idx1-ubyte.gz\n",
      "Downloading http://yann.lecun.com/exdb/mnist/train-labels-idx1-ubyte.gz to ./MNIST/raw/train-labels-idx1-ubyte.gz\n"
     ]
    },
    {
     "name": "stderr",
     "output_type": "stream",
     "text": [
      "100%|██████████| 28881/28881 [00:00<00:00, 30706132.78it/s]\n"
     ]
    },
    {
     "name": "stdout",
     "output_type": "stream",
     "text": [
      "Extracting ./MNIST/raw/train-labels-idx1-ubyte.gz to ./MNIST/raw\n",
      "\n",
      "Downloading http://yann.lecun.com/exdb/mnist/t10k-images-idx3-ubyte.gz\n",
      "Downloading http://yann.lecun.com/exdb/mnist/t10k-images-idx3-ubyte.gz to ./MNIST/raw/t10k-images-idx3-ubyte.gz\n"
     ]
    },
    {
     "name": "stderr",
     "output_type": "stream",
     "text": [
      "100%|██████████| 1648877/1648877 [00:00<00:00, 136273722.10it/s]\n"
     ]
    },
    {
     "name": "stdout",
     "output_type": "stream",
     "text": [
      "Extracting ./MNIST/raw/t10k-images-idx3-ubyte.gz to ./MNIST/raw\n",
      "\n",
      "Downloading http://yann.lecun.com/exdb/mnist/t10k-labels-idx1-ubyte.gz\n",
      "Downloading http://yann.lecun.com/exdb/mnist/t10k-labels-idx1-ubyte.gz to ./MNIST/raw/t10k-labels-idx1-ubyte.gz\n"
     ]
    },
    {
     "name": "stderr",
     "output_type": "stream",
     "text": [
      "100%|██████████| 4542/4542 [00:00<00:00, 16324360.56it/s]\n"
     ]
    },
    {
     "name": "stdout",
     "output_type": "stream",
     "text": [
      "Extracting ./MNIST/raw/t10k-labels-idx1-ubyte.gz to ./MNIST/raw\n",
      "\n"
     ]
    }
   ],
   "source": [
    "BATCH_SIZE = 256\n",
    "transforms = tv.transforms.Compose([\n",
    "    tv.transforms.Resize(32),\n",
    "    tv.transforms.ToTensor()\n",
    "])\n",
    "train_dataset = tv.datasets.MNIST('.',\n",
    "                                  train=True,\n",
    "                                  transform=transforms,\n",
    "                                  download=True)\n",
    "\n",
    "test_dataset = tv.datasets.MNIST('.',\n",
    "                                 train=False,\n",
    "                                 transform=transforms,\n",
    "                                 download=True)\n",
    "\n",
    "train_iter = torch.utils.data.DataLoader(train_dataset, batch_size=BATCH_SIZE)\n",
    "test_iter = torch.utils.data.DataLoader(test_dataset, batch_size=BATCH_SIZE)\n",
    "# Show a sample of 25 images from the dataset\n"
   ]
  },
  {
   "cell_type": "code",
   "execution_count": null,
   "metadata": {
    "id": "cIdK2WCDF9GK"
   },
   "outputs": [],
   "source": [
    "\n",
    "def evaluate_accuracy(data_iter, net):\n",
    "    acc_sum, n = torch.Tensor([0]), 0\n",
    "    for X, y in data_iter:\n",
    "        acc_sum += (net(X).argmax(axis=1) == y).sum()\n",
    "        n += y.shape[0]\n",
    "    return acc_sum.item() / n\n",
    "def train(net, train_iter, test_iter, optimizer, num_epochs):\n",
    "    loss = nn.CrossEntropyLoss()\n",
    "\n",
    "    for epoch in range(num_epochs):\n",
    "        train_l_sum, train_acc_sum, n, start = 0.0, 0.0, 0, time.time()\n",
    "\n",
    "        for X, y in train_iter:\n",
    "            optimizer.zero_grad()\n",
    "\n",
    "            y_hat = net(X)\n",
    "            l = loss(y_hat, y)\n",
    "\n",
    "            l.backward()\n",
    "            optimizer.step()\n",
    "            train_l_sum += l.item()\n",
    "            train_acc_sum += (y_hat.argmax(axis=1) == y).sum().item()\n",
    "            n += y.shape[0]\n",
    "\n",
    "        test_acc = evaluate_accuracy(test_iter, net)\n",
    "        print(f'epoch {epoch + 1}, loss {train_l_sum / n:.4f}, train acc {train_acc_sum / n:.3f}' \\\n",
    "              f', test acc {test_acc:.3f}, time {time.time() - start:.1f} sec')"
   ]
  },
  {
   "cell_type": "code",
   "execution_count": null,
   "metadata": {
    "id": "BQwOqwd3HFgu"
   },
   "outputs": [],
   "source": [
    "model = nn.Sequential(\n",
    "    nn.Conv2d(1, 6, kernel_size=5, padding=0),\n",
    "    nn.Tanh(),\n",
    "    nn.AvgPool2d(2, stride=2),\n",
    "    nn.Conv2d(6, 16, kernel_size=5),\n",
    "    nn.Tanh(),\n",
    "    nn.AvgPool2d(2, stride=2),\n",
    "    nn.Conv2d(16, 120, kernel_size=5),\n",
    "    nn.Flatten(),\n",
    "    nn.Linear(120, 84),\n",
    "    nn.Tanh(),\n",
    "    nn.Linear(84, 10)\n",
    ")"
   ]
  },
  {
   "cell_type": "code",
   "execution_count": null,
   "metadata": {
    "colab": {
     "base_uri": "https://localhost:8080/"
    },
    "id": "op47kX1xHQF6",
    "outputId": "9f3e77f2-d40e-47c5-e77a-18287230888c"
   },
   "outputs": [
    {
     "name": "stdout",
     "output_type": "stream",
     "text": [
      "epoch 1, loss 0.0007, train acc 0.944, test acc 0.966, time 24.6 sec\n",
      "epoch 2, loss 0.0006, train acc 0.957, test acc 0.960, time 24.3 sec\n",
      "epoch 3, loss 0.0006, train acc 0.954, test acc 0.962, time 24.7 sec\n",
      "epoch 4, loss 0.0006, train acc 0.955, test acc 0.961, time 24.7 sec\n",
      "epoch 5, loss 0.0006, train acc 0.952, test acc 0.955, time 24.8 sec\n",
      "epoch 6, loss 0.0006, train acc 0.956, test acc 0.958, time 24.8 sec\n",
      "epoch 7, loss 0.0006, train acc 0.957, test acc 0.966, time 24.9 sec\n",
      "epoch 8, loss 0.0007, train acc 0.951, test acc 0.959, time 24.9 sec\n",
      "epoch 9, loss 0.0006, train acc 0.957, test acc 0.963, time 25.3 sec\n",
      "epoch 10, loss 0.0006, train acc 0.958, test acc 0.963, time 25.1 sec\n",
      "epoch 11, loss 0.0006, train acc 0.955, test acc 0.952, time 24.7 sec\n",
      "epoch 12, loss 0.0006, train acc 0.952, test acc 0.962, time 24.7 sec\n",
      "epoch 13, loss 0.0006, train acc 0.952, test acc 0.950, time 25.0 sec\n",
      "epoch 14, loss 0.0007, train acc 0.952, test acc 0.956, time 24.3 sec\n",
      "epoch 15, loss 0.0006, train acc 0.958, test acc 0.961, time 24.4 sec\n",
      "epoch 16, loss 0.0006, train acc 0.954, test acc 0.958, time 24.3 sec\n",
      "epoch 17, loss 0.0007, train acc 0.949, test acc 0.962, time 24.4 sec\n",
      "epoch 18, loss 0.0006, train acc 0.955, test acc 0.956, time 24.6 sec\n",
      "epoch 19, loss 0.0006, train acc 0.957, test acc 0.958, time 24.5 sec\n",
      "epoch 20, loss 0.0006, train acc 0.956, test acc 0.959, time 24.3 sec\n"
     ]
    }
   ],
   "source": [
    "\n",
    "import torchvision as tv\n",
    "import time\n",
    "import matplotlib.pyplot as plt\n",
    "lr, num_epochs = 0.01, 20\n",
    "optimizer = torch.optim.Adam(model.parameters(), lr=lr)\n",
    "train(model, train_iter, test_iter, optimizer, num_epochs)"
   ]
  },
  {
   "cell_type": "code",
   "execution_count": null,
   "metadata": {
    "colab": {
     "base_uri": "https://localhost:8080/"
    },
    "id": "Tm8Mb52VHjSu",
    "outputId": "ee84e899-1e46-447a-bcab-0d19ceb66ff3"
   },
   "outputs": [
    {
     "data": {
      "text/plain": [
       "(tensor([[[0., 0., 0.,  ..., 0., 0., 0.],\n",
       "          [0., 0., 0.,  ..., 0., 0., 0.],\n",
       "          [0., 0., 0.,  ..., 0., 0., 0.],\n",
       "          ...,\n",
       "          [0., 0., 0.,  ..., 0., 0., 0.],\n",
       "          [0., 0., 0.,  ..., 0., 0., 0.],\n",
       "          [0., 0., 0.,  ..., 0., 0., 0.]]]),\n",
       " 5)"
      ]
     },
     "execution_count": 8,
     "metadata": {},
     "output_type": "execute_result"
    }
   ],
   "source": [
    "train_dataset[0]"
   ]
  },
  {
   "cell_type": "code",
   "execution_count": null,
   "metadata": {
    "id": "sglltIRDIhMC"
   },
   "outputs": [],
   "source": [
    "def show_images(images):\n",
    "    plt.figure(figsize=(10, 10))\n",
    "    for i, image in enumerate(images):\n",
    "        plt.subplot(5, 5, i+1)\n",
    "        plt.imshow(image.squeeze().numpy(), cmap='gray')\n",
    "        plt.axis('off')\n",
    "    plt.show()"
   ]
  },
  {
   "cell_type": "code",
   "execution_count": null,
   "metadata": {
    "colab": {
     "base_uri": "https://localhost:8080/",
     "height": 169
    },
    "id": "H0rg41clKwj2",
    "outputId": "b0487d63-c901-4b87-9188-3c6aa5281657"
   },
   "outputs": [
    {
     "data": {
      "image/png": "[encoded data removed]",
      "text/plain": [
       "<Figure size 1000x1000 with 1 Axes>"
      ]
     },
     "metadata": {},
     "output_type": "display_data"
    }
   ],
   "source": [
    "show_images([train_dataset[0][0]])"
   ]
  },
  {
   "cell_type": "code",
   "execution_count": null,
   "metadata": {
    "colab": {
     "base_uri": "https://localhost:8080/"
    },
    "id": "c9xN5RghLuwx",
    "outputId": "7c8ddcc2-8ed9-40b1-9a94-50019f8e5d66"
   },
   "outputs": [
    {
     "name": "stdout",
     "output_type": "stream",
     "text": [
      "tensor(5)\n"
     ]
    }
   ],
   "source": [
    "\n",
    "for X, y in train_iter:\n",
    "  result = model(X).argmax(axis=1)[0]\n",
    "  print(result)\n",
    "  break"
   ]
  },
  {
   "cell_type": "code",
   "execution_count": null,
   "metadata": {
    "id": "KcqTaxM4LZQ9"
   },
   "outputs": [],
   "source": [
    "import torch.optim as optim\n",
    "def get_input_optimizer(input_img):\n",
    "    # this line to show that input is a parameter that requires a gradient\n",
    "    optimizer = optim.LBFGS([input_img.requires_grad_()])\n",
    "    return optimizer"
   ]
  },
  {
   "cell_type": "code",
   "execution_count": null,
   "metadata": {
    "id": "1D6jCeHiOKK8"
   },
   "outputs": [],
   "source": [
    "class NoiseLoss(nn.Module):\n",
    "\n",
    "    def __init__(self, target,):\n",
    "        super(NoiseLoss, self).__init__()\n",
    "        # we 'detach' the target content from the tree used\n",
    "        # to dynamically compute the gradient: this is a stated value,\n",
    "        # not a variable. Otherwise the forward method of the criterion\n",
    "        # will throw an error.\n",
    "        self.target = target.detach()\n",
    "\n",
    "    def forward(self, input):\n",
    "        self.loss = F.mse_loss(input, self.target)\n",
    "        return input"
   ]
  },
  {
   "cell_type": "code",
   "execution_count": null,
   "metadata": {
    "id": "R9Hy3F5dOh-d"
   },
   "outputs": [],
   "source": [
    "def gram_matrix(input):\n",
    "    a, b, c, d = input.size()  # a=batch size(=1)\n",
    "    # b=number of feature maps\n",
    "    # (c,d)=dimensions of a f. map (N=c*d)\n",
    "\n",
    "    features = input.view(a * b, c * d)  # resise F_XL into \\hat F_XL\n",
    "\n",
    "    G = torch.mm(features, features.t())  # compute the gram product\n",
    "\n",
    "    # we 'normalize' the values of the gram matrix\n",
    "    # by dividing by the number of element in each feature maps.\n",
    "    return G.div(a * b * c * d)"
   ]
  },
  {
   "cell_type": "code",
   "execution_count": null,
   "metadata": {
    "id": "VSyjb5_ROsyG"
   },
   "outputs": [],
   "source": [
    "class StyleLoss(nn.Module):\n",
    "\n",
    "    def __init__(self, target_feature):\n",
    "        super(StyleLoss, self).__init__()\n",
    "        self.target = gram_matrix(target_feature).detach()\n",
    "\n",
    "    def forward(self, input):\n",
    "        G = gram_matrix(input)\n",
    "        self.loss = F.mse_loss(G, self.target)\n",
    "        return input"
   ]
  },
  {
   "cell_type": "code",
   "execution_count": null,
   "metadata": {
    "id": "aaL6qKG3OxUa"
   },
   "outputs": [],
   "source": [
    "cnn_normalization_mean = torch.tensor([0.485, 0.456, 0.406]).to(device)\n",
    "cnn_normalization_std = torch.tensor([0.229, 0.224, 0.225]).to(device)\n",
    "\n",
    "# create a module to normalize input image so we can easily put it in a\n",
    "# nn.Sequential\n",
    "class Normalization(nn.Module):\n",
    "    def __init__(self, mean, std):\n",
    "        super(Normalization, self).__init__()\n",
    "        # .view the mean and std to make them [C x 1 x 1] so that they can\n",
    "        # directly work with image Tensor of shape [B x C x H x W].\n",
    "        # B is batch size. C is number of channels. H is height and W is width.\n",
    "        self.mean = torch.tensor(mean).view(-1, 1, 1)\n",
    "        self.std = torch.tensor(std).view(-1, 1, 1)\n",
    "\n",
    "    def forward(self, img):\n",
    "        # normalize img\n",
    "        return (img - self.mean) / self.std"
   ]
  },
  {
   "cell_type": "code",
   "execution_count": null,
   "metadata": {
    "id": "Cy5nleLVPICc"
   },
   "outputs": [],
   "source": [
    "train_iter_2 = torch.utils.data.DataLoader(train_dataset[0],batch_size=1\n",
    "                                           )"
   ]
  },
  {
   "cell_type": "code",
   "execution_count": null,
   "metadata": {
    "colab": {
     "base_uri": "https://localhost:8080/"
    },
    "id": "OHXsKBiOPzCr",
    "outputId": "483be80d-8b84-4cdf-9019-32222b44e8dc"
   },
   "outputs": [
    {
     "data": {
      "text/plain": [
       "torch.Size([256, 1, 32, 32])"
      ]
     },
     "execution_count": 37,
     "metadata": {},
     "output_type": "execute_result"
    }
   ],
   "source": [
    "x.shape"
   ]
  },
  {
   "cell_type": "code",
   "execution_count": null,
   "metadata": {
    "colab": {
     "base_uri": "https://localhost:8080/"
    },
    "id": "rC4iJoJ_4wN4",
    "outputId": "b682fe19-51b1-4cec-b707-470620577a00"
   },
   "outputs": [
    {
     "data": {
      "text/plain": [
       "torch.Size([256])"
      ]
     },
     "execution_count": 38,
     "metadata": {},
     "output_type": "execute_result"
    }
   ],
   "source": [
    "y.shape"
   ]
  },
  {
   "cell_type": "code",
   "execution_count": null,
   "metadata": {
    "id": "K7XHGwtJ5VMH"
   },
   "outputs": [],
   "source": [
    "X = train_dataset[1][0]\n",
    "y = train_dataset[1][1]\n",
    "y = torch.tensor(y, dtype=torch.int8)"
   ]
  },
  {
   "cell_type": "code",
   "execution_count": null,
   "metadata": {
    "colab": {
     "base_uri": "https://localhost:8080/"
    },
    "id": "2-CXXK_f6SF7",
    "outputId": "f91afecf-0c2f-4ffb-eb24-ebda522bffec"
   },
   "outputs": [
    {
     "data": {
      "text/plain": [
       "tensor(0, dtype=torch.int8)"
      ]
     },
     "execution_count": 184,
     "metadata": {},
     "output_type": "execute_result"
    }
   ],
   "source": [
    "y"
   ]
  },
  {
   "cell_type": "code",
   "execution_count": null,
   "metadata": {
    "id": "-bLRY1Ip7Csp"
   },
   "outputs": [],
   "source": [
    "shum = torch.rand((1,32,32))"
   ]
  },
  {
   "cell_type": "code",
   "execution_count": null,
   "metadata": {
    "colab": {
     "base_uri": "https://localhost:8080/"
    },
    "id": "iCoQpo6j9IWN",
    "outputId": "59d65e6e-8920-4bd9-becc-a5c569d07c05"
   },
   "outputs": [
    {
     "data": {
      "text/plain": [
       "torch.Size([1, 32, 32])"
      ]
     },
     "execution_count": 58,
     "metadata": {},
     "output_type": "execute_result"
    }
   ],
   "source": [
    "shum.shape"
   ]
  },
  {
   "cell_type": "code",
   "execution_count": null,
   "metadata": {
    "id": "V1EpQKN07R9A"
   },
   "outputs": [],
   "source": [
    "model_hack = torch.nn.Sequential(torch.nn.Linear(32*32,2))"
   ]
  },
  {
   "cell_type": "code",
   "execution_count": null,
   "metadata": {
    "id": "Z6-PXH1r_Y22"
   },
   "outputs": [],
   "source": [
    "class Model_Hack(nn.Module):\n",
    "  def __init__(self):\n",
    "    super(Model_Hack, self).__init__()\n",
    "    self.layer1 = nn.Linear(32*32,32*32)\n",
    "\n",
    "  def forward(self,image):\n",
    "    x = self.layer1(image)\n",
    "    return x"
   ]
  },
  {
   "cell_type": "code",
   "execution_count": null,
   "metadata": {
    "colab": {
     "base_uri": "https://localhost:8080/"
    },
    "id": "gGLJKhVgD5kD",
    "outputId": "c8c59087-4102-4387-f5f6-92fe7e5c3c50"
   },
   "outputs": [
    {
     "data": {
      "text/plain": [
       "Linear(in_features=1024, out_features=1024, bias=True)"
      ]
     },
     "execution_count": 124,
     "metadata": {},
     "output_type": "execute_result"
    }
   ],
   "source": [
    "nn.Linear(32*32,32*32)"
   ]
  },
  {
   "cell_type": "code",
   "execution_count": null,
   "metadata": {
    "id": "RYtvs4ihDPsw"
   },
   "outputs": [],
   "source": [
    "model_h = Model_Hack()"
   ]
  },
  {
   "cell_type": "code",
   "execution_count": null,
   "metadata": {
    "id": "qe2Cu8EWDLQy"
   },
   "outputs": [],
   "source": [
    "optim = torch.optim.Adam(model_h.parameters(), lr=0.001)\n",
    "loss = torch.nn.CrossEntropyLoss()"
   ]
  },
  {
   "cell_type": "code",
   "execution_count": null,
   "metadata": {
    "id": "_sgwsBFRJM9q"
   },
   "outputs": [],
   "source": [
    "y_change = 8\n",
    "y_change = torch.tensor(y_change, dtype=torch.int8)\n",
    "y_change = y_change.to(device)"
   ]
  },
  {
   "cell_type": "code",
   "execution_count": null,
   "metadata": {
    "id": "qRHSvkoNMGVu"
   },
   "outputs": [],
   "source": [
    "y_change = torch.Tensor([y_change]).int().type(torch.LongTensor)"
   ]
  },
  {
   "cell_type": "code",
   "execution_count": null,
   "metadata": {
    "id": "PHLr3zKuMoes"
   },
   "outputs": [],
   "source": [
    "y_change = y_change.to(device)"
   ]
  },
  {
   "cell_type": "code",
   "execution_count": null,
   "metadata": {
    "colab": {
     "base_uri": "https://localhost:8080/"
    },
    "id": "x2sAG_AuMiyP",
    "outputId": "f8c1c130-0554-458d-c008-fea088dbb2b8"
   },
   "outputs": [
    {
     "data": {
      "text/plain": [
       "tensor([8], device='cuda:0')"
      ]
     },
     "execution_count": 246,
     "metadata": {},
     "output_type": "execute_result"
    }
   ],
   "source": [
    "y_change"
   ]
  },
  {
   "cell_type": "code",
   "execution_count": null,
   "metadata": {
    "id": "8wnzmd2d9e6E"
   },
   "outputs": [],
   "source": [
    "model_h.cuda()\n",
    "model.cuda()\n",
    "model.eval()\n",
    "model_h.train()\n",
    "for epoch in range(10):\n",
    "  optim.zero_grad()\n",
    "  X = X.to(device)\n",
    "  y = y.to(device)\n",
    "  out = model_h(X.flatten())\n",
    "  out = out.reshape(1,32,32)+ X\n",
    "  y_pred = model(out.reshape(1,1,32,32))\n",
    "  l = loss(y_pred, y_change)\n",
    "  l.backward()\n",
    "  optim.step()\n",
    "  if y_pred.argmax(dim=1).item() == 8:\n",
    "    break\n",
    "\n",
    "\n"
   ]
  },
  {
   "cell_type": "code",
   "execution_count": null,
   "metadata": {
    "colab": {
     "base_uri": "https://localhost:8080/"
    },
    "id": "6ycPVCKoL40E",
    "outputId": "76b677bd-f7cb-4d41-a859-2a57b1087e69"
   },
   "outputs": [
    {
     "data": {
      "text/plain": [
       "tensor([8], device='cuda:0')"
      ]
     },
     "execution_count": 248,
     "metadata": {},
     "output_type": "execute_result"
    }
   ],
   "source": [
    "y_pred.argmax(dim=1)"
   ]
  },
  {
   "cell_type": "code",
   "execution_count": null,
   "metadata": {
    "id": "8pSSv-IRFigG"
   },
   "outputs": [],
   "source": [
    "def show_images(images):\n",
    "    plt.figure(figsize=(10, 10))\n",
    "    for i, image in enumerate(images):\n",
    "        plt.subplot(5, 5, i+1)\n",
    "        plt.imshow(image.squeeze().numpy(), cmap='gray')\n",
    "        plt.axis('off')\n",
    "    plt.show()"
   ]
  },
  {
   "cell_type": "code",
   "execution_count": null,
   "metadata": {
    "colab": {
     "base_uri": "https://localhost:8080/",
     "height": 187
    },
    "id": "Jf9cCiieNRzw",
    "outputId": "40d7ed1b-0f3f-4c50-d90e-c9e162ead868"
   },
   "outputs": [
    {
     "name": "stdout",
     "output_type": "stream",
     "text": [
      "This is 0\n"
     ]
    },
    {
     "data": {
      "image/png": "[encoded data removed]",
      "text/plain": [
       "<Figure size 1000x1000 with 1 Axes>"
      ]
     },
     "metadata": {},
     "output_type": "display_data"
    }
   ],
   "source": [
    "model.eval()\n",
    "print(f'This is {model(X.reshape(1,1,32,32)).argmax(dim=1).item()}')\n",
    "show_images(X.to('cpu'))"
   ]
  },
  {
   "cell_type": "code",
   "execution_count": null,
   "metadata": {
    "id": "Z3TyO1zvNZBD"
   },
   "outputs": [],
   "source": [
    "model_h.eval()\n",
    "out = model_h(X.flatten())\n",
    "out = out.reshape(1,32,32)+ X"
   ]
  },
  {
   "cell_type": "code",
   "execution_count": null,
   "metadata": {
    "colab": {
     "base_uri": "https://localhost:8080/",
     "height": 187
    },
    "id": "_TEWFk_uNT3z",
    "outputId": "816f9447-c438-4e54-95a5-02588ce88d29"
   },
   "outputs": [
    {
     "name": "stdout",
     "output_type": "stream",
     "text": [
      "This is 8\n"
     ]
    },
    {
     "data": {
      "image/png": "[encoded data removed]",
      "text/plain": [
       "<Figure size 1000x1000 with 1 Axes>"
      ]
     },
     "metadata": {},
     "output_type": "display_data"
    }
   ],
   "source": [
    "print(f'This is {model(out.reshape(1,1,32,32)).argmax(dim=1).item()}')\n",
    "show_images(out.to('cpu').detach())"
   ]
  },
  {
   "cell_type": "code",
   "execution_count": null,
   "metadata": {
    "id": "Z97ugw9rN5KS"
   },
   "outputs": [],
   "source": []
  }
 ],
 "metadata": {
  "accelerator": "GPU",
  "colab": {
   "gpuType": "T4",
   "provenance": []
  },
  "kernelspec": {
   "display_name": "Python 3",
   "name": "python3"
  },
  "language_info": {
   "name": "python"
  }
 },
 "nbformat": 4,
 "nbformat_minor": 0
}
