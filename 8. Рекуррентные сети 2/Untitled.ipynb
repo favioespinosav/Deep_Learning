{
 "cells": [
  {
   "cell_type": "code",
   "execution_count": 1,
   "id": "e18b6de3-59b0-40e9-828c-62fef9912f71",
   "metadata": {},
   "outputs": [],
   "source": [
    "import torch\n",
    "from torch import nn\n",
    "import re \n",
    "import random\n",
    "import tqdm\n",
    "import time"
   ]
  },
  {
   "cell_type": "code",
   "execution_count": 2,
   "id": "4105dc15-ef62-4adf-8a54-ff5f8e67b665",
   "metadata": {},
   "outputs": [
    {
     "name": "stdout",
     "output_type": "stream",
     "text": [
      "--2023-06-09 16:36:06--  https://s3.amazonaws.com/text-datasets/nietzche.txt\n",
      "Resolving s3.amazonaws.com (s3.amazonaws.com)... 52.216.132.69, 52.216.245.190, 52.217.75.86, ...\n",
      "Connecting to s3.amazonaws.com (s3.amazonaws.com)|52.216.132.69|:443... connected.\n",
      "HTTP request sent, awaiting response... 403 Forbidden\n",
      "2023-06-09 16:36:07 ERROR 403: Forbidden.\n",
      "\n"
     ]
    }
   ],
   "source": [
    "!wget https://s3.amazonaws.com/text-datasets/nietzche.txt"
   ]
  },
  {
   "cell_type": "code",
   "execution_count": null,
   "id": "13e9688f-18af-4701-8c60-07b8012e29d1",
   "metadata": {},
   "outputs": [],
   "source": []
  }
 ],
 "metadata": {
  "kernelspec": {
   "display_name": "Python 3 (ipykernel)",
   "language": "python",
   "name": "python3"
  },
  "language_info": {
   "codemirror_mode": {
    "name": "ipython",
    "version": 3
   },
   "file_extension": ".py",
   "mimetype": "text/x-python",
   "name": "python",
   "nbconvert_exporter": "python",
   "pygments_lexer": "ipython3",
   "version": "3.10.12"
  }
 },
 "nbformat": 4,
 "nbformat_minor": 5
}
