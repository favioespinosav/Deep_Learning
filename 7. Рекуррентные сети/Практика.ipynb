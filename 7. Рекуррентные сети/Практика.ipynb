{
 "cells": [
  {
   "cell_type": "code",
   "execution_count": 22,
   "id": "4a4451f9-bf4f-4232-8dd4-2e60e00fd455",
   "metadata": {},
   "outputs": [],
   "source": [
    "import pandas as pd\n",
    "import time \n",
    "\n",
    "import torch"
   ]
  },
  {
   "cell_type": "code",
   "execution_count": 23,
   "id": "189fdeae-5e22-4764-b91d-0def49905b17",
   "metadata": {},
   "outputs": [
    {
     "data": {
      "text/html": [
       "<div>\n",
       "<style scoped>\n",
       "    .dataframe tbody tr th:only-of-type {\n",
       "        vertical-align: middle;\n",
       "    }\n",
       "\n",
       "    .dataframe tbody tr th {\n",
       "        vertical-align: top;\n",
       "    }\n",
       "\n",
       "    .dataframe thead th {\n",
       "        text-align: right;\n",
       "    }\n",
       "</style>\n",
       "<table border=\"1\" class=\"dataframe\">\n",
       "  <thead>\n",
       "    <tr style=\"text-align: right;\">\n",
       "      <th></th>\n",
       "      <th>Unnamed: 0</th>\n",
       "      <th>id</th>\n",
       "      <th>episode_id</th>\n",
       "      <th>number</th>\n",
       "      <th>raw_text</th>\n",
       "      <th>timestamp_in_ms</th>\n",
       "      <th>speaking_line</th>\n",
       "      <th>character_id</th>\n",
       "      <th>location_id</th>\n",
       "      <th>raw_character_text</th>\n",
       "      <th>raw_location_text</th>\n",
       "      <th>spoken_words</th>\n",
       "      <th>normalized_text</th>\n",
       "      <th>word_count</th>\n",
       "    </tr>\n",
       "  </thead>\n",
       "  <tbody>\n",
       "    <tr>\n",
       "      <th>0</th>\n",
       "      <td>0</td>\n",
       "      <td>10368</td>\n",
       "      <td>35</td>\n",
       "      <td>29</td>\n",
       "      <td>Lisa Simpson: Maggie, look. What's that?</td>\n",
       "      <td>235000</td>\n",
       "      <td>True</td>\n",
       "      <td>9</td>\n",
       "      <td>5.0</td>\n",
       "      <td>Lisa Simpson</td>\n",
       "      <td>Simpson Home</td>\n",
       "      <td>Maggie, look. What's that?</td>\n",
       "      <td>maggie look whats that</td>\n",
       "      <td>4.0</td>\n",
       "    </tr>\n",
       "    <tr>\n",
       "      <th>1</th>\n",
       "      <td>1</td>\n",
       "      <td>10369</td>\n",
       "      <td>35</td>\n",
       "      <td>30</td>\n",
       "      <td>Lisa Simpson: Lee-mur. Lee-mur.</td>\n",
       "      <td>237000</td>\n",
       "      <td>True</td>\n",
       "      <td>9</td>\n",
       "      <td>5.0</td>\n",
       "      <td>Lisa Simpson</td>\n",
       "      <td>Simpson Home</td>\n",
       "      <td>Lee-mur. Lee-mur.</td>\n",
       "      <td>lee-mur lee-mur</td>\n",
       "      <td>2.0</td>\n",
       "    </tr>\n",
       "    <tr>\n",
       "      <th>2</th>\n",
       "      <td>2</td>\n",
       "      <td>10370</td>\n",
       "      <td>35</td>\n",
       "      <td>31</td>\n",
       "      <td>Lisa Simpson: Zee-boo. Zee-boo.</td>\n",
       "      <td>239000</td>\n",
       "      <td>True</td>\n",
       "      <td>9</td>\n",
       "      <td>5.0</td>\n",
       "      <td>Lisa Simpson</td>\n",
       "      <td>Simpson Home</td>\n",
       "      <td>Zee-boo. Zee-boo.</td>\n",
       "      <td>zee-boo zee-boo</td>\n",
       "      <td>2.0</td>\n",
       "    </tr>\n",
       "    <tr>\n",
       "      <th>3</th>\n",
       "      <td>3</td>\n",
       "      <td>10372</td>\n",
       "      <td>35</td>\n",
       "      <td>33</td>\n",
       "      <td>Lisa Simpson: I'm trying to teach Maggie that ...</td>\n",
       "      <td>245000</td>\n",
       "      <td>True</td>\n",
       "      <td>9</td>\n",
       "      <td>5.0</td>\n",
       "      <td>Lisa Simpson</td>\n",
       "      <td>Simpson Home</td>\n",
       "      <td>I'm trying to teach Maggie that nature doesn't...</td>\n",
       "      <td>im trying to teach maggie that nature doesnt e...</td>\n",
       "      <td>24.0</td>\n",
       "    </tr>\n",
       "    <tr>\n",
       "      <th>4</th>\n",
       "      <td>4</td>\n",
       "      <td>10374</td>\n",
       "      <td>35</td>\n",
       "      <td>35</td>\n",
       "      <td>Lisa Simpson: It's like an ox, only it has a h...</td>\n",
       "      <td>254000</td>\n",
       "      <td>True</td>\n",
       "      <td>9</td>\n",
       "      <td>5.0</td>\n",
       "      <td>Lisa Simpson</td>\n",
       "      <td>Simpson Home</td>\n",
       "      <td>It's like an ox, only it has a hump and a dewl...</td>\n",
       "      <td>its like an ox only it has a hump and a dewlap...</td>\n",
       "      <td>18.0</td>\n",
       "    </tr>\n",
       "  </tbody>\n",
       "</table>\n",
       "</div>"
      ],
      "text/plain": [
       "   Unnamed: 0     id  episode_id  number   \n",
       "0           0  10368          35      29  \\\n",
       "1           1  10369          35      30   \n",
       "2           2  10370          35      31   \n",
       "3           3  10372          35      33   \n",
       "4           4  10374          35      35   \n",
       "\n",
       "                                            raw_text  timestamp_in_ms   \n",
       "0           Lisa Simpson: Maggie, look. What's that?           235000  \\\n",
       "1                    Lisa Simpson: Lee-mur. Lee-mur.           237000   \n",
       "2                    Lisa Simpson: Zee-boo. Zee-boo.           239000   \n",
       "3  Lisa Simpson: I'm trying to teach Maggie that ...           245000   \n",
       "4  Lisa Simpson: It's like an ox, only it has a h...           254000   \n",
       "\n",
       "   speaking_line  character_id  location_id raw_character_text   \n",
       "0           True             9          5.0       Lisa Simpson  \\\n",
       "1           True             9          5.0       Lisa Simpson   \n",
       "2           True             9          5.0       Lisa Simpson   \n",
       "3           True             9          5.0       Lisa Simpson   \n",
       "4           True             9          5.0       Lisa Simpson   \n",
       "\n",
       "  raw_location_text                                       spoken_words   \n",
       "0      Simpson Home                         Maggie, look. What's that?  \\\n",
       "1      Simpson Home                                  Lee-mur. Lee-mur.   \n",
       "2      Simpson Home                                  Zee-boo. Zee-boo.   \n",
       "3      Simpson Home  I'm trying to teach Maggie that nature doesn't...   \n",
       "4      Simpson Home  It's like an ox, only it has a hump and a dewl...   \n",
       "\n",
       "                                     normalized_text  word_count  \n",
       "0                             maggie look whats that         4.0  \n",
       "1                                    lee-mur lee-mur         2.0  \n",
       "2                                    zee-boo zee-boo         2.0  \n",
       "3  im trying to teach maggie that nature doesnt e...        24.0  \n",
       "4  its like an ox only it has a hump and a dewlap...        18.0  "
      ]
     },
     "execution_count": 23,
     "metadata": {},
     "output_type": "execute_result"
    }
   ],
   "source": [
    "df = pd.read_csv('data.csv'\n",
    "                )\n",
    "df.head()"
   ]
  },
  {
   "cell_type": "code",
   "execution_count": 24,
   "id": "077d9b07-0688-4541-9180-6801d1be7eb4",
   "metadata": {},
   "outputs": [
    {
     "data": {
      "text/plain": [
       "['maggie look whats that',\n",
       " 'lee-mur lee-mur',\n",
       " 'zee-boo zee-boo',\n",
       " 'im trying to teach maggie that nature doesnt end with the barnyard i want her to have all the advantages that i didnt have',\n",
       " 'its like an ox only it has a hump and a dewlap hump and dew-lap hump and dew-lap',\n",
       " 'you know his blood type how romantic',\n",
       " 'oh yeah whats my shoe size',\n",
       " 'ring',\n",
       " 'yes dad',\n",
       " 'ooh look maggie what is that do-dec-ah-edron dodecahedron']"
      ]
     },
     "execution_count": 24,
     "metadata": {},
     "output_type": "execute_result"
    }
   ],
   "source": [
    "phrases = df['normalized_text'].tolist()\n",
    "phrases[:10]"
   ]
  },
  {
   "cell_type": "code",
   "execution_count": 25,
   "id": "fe716c76-600b-4667-ad66-f586d8e40bea",
   "metadata": {},
   "outputs": [],
   "source": [
    "text= [[c for c in ph] for ph in phrases if type(ph) is str]"
   ]
  },
  {
   "cell_type": "code",
   "execution_count": 26,
   "id": "ce6bf5e6-39c0-413b-8121-181da6586722",
   "metadata": {},
   "outputs": [
    {
     "data": {
      "text/plain": [
       "['m',\n",
       " 'a',\n",
       " 'g',\n",
       " 'g',\n",
       " 'i',\n",
       " 'e',\n",
       " ' ',\n",
       " 'l',\n",
       " 'o',\n",
       " 'o',\n",
       " 'k',\n",
       " ' ',\n",
       " 'w',\n",
       " 'h',\n",
       " 'a',\n",
       " 't',\n",
       " 's',\n",
       " ' ',\n",
       " 't',\n",
       " 'h',\n",
       " 'a',\n",
       " 't']"
      ]
     },
     "execution_count": 26,
     "metadata": {},
     "output_type": "execute_result"
    }
   ],
   "source": [
    "text[0]"
   ]
  },
  {
   "cell_type": "markdown",
   "id": "d1f20a9d-9d89-498b-b1b8-06389756e54e",
   "metadata": {},
   "source": [
    "# Делаем массив с данными"
   ]
  },
  {
   "cell_type": "code",
   "execution_count": 27,
   "id": "dfc6a1da-4c3f-4466-9728-1db1447e6b42",
   "metadata": {},
   "outputs": [],
   "source": [
    "import string\n",
    "\n",
    "CHARS = set('abcdefghijklmnopqrstuvwxyz ')\n",
    "INDEX_TO_CHAR = ['none']+[w for w in CHARS]\n",
    "CHAR_TO_INDEX = {w:i for i,w in enumerate(INDEX_TO_CHAR)}"
   ]
  },
  {
   "cell_type": "code",
   "execution_count": 28,
   "id": "4a4f9e1e-1fc0-44b3-b0bc-ffc54ed8017b",
   "metadata": {},
   "outputs": [
    {
     "data": {
      "text/plain": [
       "28"
      ]
     },
     "execution_count": 28,
     "metadata": {},
     "output_type": "execute_result"
    }
   ],
   "source": [
    "len(INDEX_TO_CHAR)"
   ]
  },
  {
   "cell_type": "code",
   "execution_count": 29,
   "id": "ea4b5da9-c51f-41f2-b957-72816c8cf738",
   "metadata": {},
   "outputs": [],
   "source": [
    "MAX_LEN = 50\n",
    "X = torch.zeros((len(text),MAX_LEN),dtype=int)\n",
    "for i in range(len(text)):\n",
    "  for j,w in enumerate(text[i]):\n",
    "    if j >= MAX_LEN:\n",
    "      break\n",
    "    X[i,j] = CHAR_TO_INDEX.get(w,CHAR_TO_INDEX['none'])"
   ]
  },
  {
   "cell_type": "code",
   "execution_count": 30,
   "id": "16922ec4-16b9-44db-8eab-daf4d969c94c",
   "metadata": {},
   "outputs": [
    {
     "data": {
      "text/plain": [
       "tensor([26, 24,  7,  7, 18, 13, 16,  2,  3,  3, 10, 16,  5, 14, 24, 19, 21, 16,\n",
       "        19, 14, 24, 19,  0,  0,  0,  0,  0,  0,  0,  0,  0,  0,  0,  0,  0,  0,\n",
       "         0,  0,  0,  0,  0,  0,  0,  0,  0,  0,  0,  0,  0,  0])"
      ]
     },
     "execution_count": 30,
     "metadata": {},
     "output_type": "execute_result"
    }
   ],
   "source": [
    "X[0]"
   ]
  },
  {
   "cell_type": "markdown",
   "id": "08656100-769b-4185-9091-894a2f30c7eb",
   "metadata": {},
   "source": [
    "# Смотрим на Embedding и RNN ячейку"
   ]
  },
  {
   "cell_type": "code",
   "execution_count": 31,
   "id": "04269749-d1bd-402e-b3aa-6d83dd4bd6a4",
   "metadata": {},
   "outputs": [
    {
     "data": {
      "text/plain": [
       "tensor([[[ 0.2390,  0.5352, -1.2377,  ...,  0.2157, -0.0305, -0.6526],\n",
       "         [-1.1336, -0.4071,  2.0627,  ..., -0.3991, -0.6193,  0.5068],\n",
       "         [ 0.3720,  0.2448, -0.0882,  ...,  0.8209, -0.7915,  1.3063],\n",
       "         ...,\n",
       "         [ 0.3772,  1.5255,  1.6081,  ..., -1.0302, -0.9624, -1.0719],\n",
       "         [ 0.3772,  1.5255,  1.6081,  ..., -1.0302, -0.9624, -1.0719],\n",
       "         [ 0.3772,  1.5255,  1.6081,  ..., -1.0302, -0.9624, -1.0719]],\n",
       "\n",
       "        [[ 0.7180,  1.6823,  1.6155,  ...,  0.0212,  0.6062, -1.9738],\n",
       "         [-0.1045, -0.3390,  1.7187,  ...,  1.3703,  0.9509, -0.0304],\n",
       "         [-0.1045, -0.3390,  1.7187,  ...,  1.3703,  0.9509, -0.0304],\n",
       "         ...,\n",
       "         [ 0.3772,  1.5255,  1.6081,  ..., -1.0302, -0.9624, -1.0719],\n",
       "         [ 0.3772,  1.5255,  1.6081,  ..., -1.0302, -0.9624, -1.0719],\n",
       "         [ 0.3772,  1.5255,  1.6081,  ..., -1.0302, -0.9624, -1.0719]],\n",
       "\n",
       "        [[ 0.9831, -0.5160, -0.5166,  ..., -1.1536, -1.0411, -0.9270],\n",
       "         [-0.1045, -0.3390,  1.7187,  ...,  1.3703,  0.9509, -0.0304],\n",
       "         [-0.1045, -0.3390,  1.7187,  ...,  1.3703,  0.9509, -0.0304],\n",
       "         ...,\n",
       "         [ 0.3772,  1.5255,  1.6081,  ..., -1.0302, -0.9624, -1.0719],\n",
       "         [ 0.3772,  1.5255,  1.6081,  ..., -1.0302, -0.9624, -1.0719],\n",
       "         [ 0.3772,  1.5255,  1.6081,  ..., -1.0302, -0.9624, -1.0719]],\n",
       "\n",
       "        ...,\n",
       "\n",
       "        [[-0.7455, -0.0278,  0.4637,  ...,  0.2294, -0.1860, -1.4375],\n",
       "         [ 0.2718,  1.4571, -0.9426,  ..., -0.1929,  0.6220, -0.0320],\n",
       "         [-1.8526,  0.7206, -0.0749,  ..., -0.9402, -0.4771,  0.4339],\n",
       "         ...,\n",
       "         [ 0.3772,  1.5255,  1.6081,  ..., -1.0302, -0.9624, -1.0719],\n",
       "         [ 0.3772,  1.5255,  1.6081,  ..., -1.0302, -0.9624, -1.0719],\n",
       "         [ 0.3772,  1.5255,  1.6081,  ..., -1.0302, -0.9624, -1.0719]],\n",
       "\n",
       "        [[ 0.7430, -0.5020, -0.4151,  ...,  0.2919, -0.9828, -0.2017],\n",
       "         [-0.1045, -0.3390,  1.7187,  ...,  1.3703,  0.9509, -0.0304],\n",
       "         [-0.5094, -1.9455,  1.4072,  ..., -1.5432, -1.1340, -0.6120],\n",
       "         ...,\n",
       "         [ 0.3772,  1.5255,  1.6081,  ..., -1.0302, -0.9624, -1.0719],\n",
       "         [ 0.3772,  1.5255,  1.6081,  ..., -1.0302, -0.9624, -1.0719],\n",
       "         [ 0.3772,  1.5255,  1.6081,  ..., -1.0302, -0.9624, -1.0719]],\n",
       "\n",
       "        [[ 0.6774,  0.8185, -0.5271,  ...,  0.9236, -0.9465,  0.3840],\n",
       "         [ 0.6774,  0.8185, -0.5271,  ...,  0.9236, -0.9465,  0.3840],\n",
       "         [ 1.1416, -0.2349, -1.0530,  ..., -0.1950, -0.2345, -1.3384],\n",
       "         ...,\n",
       "         [-0.5092, -0.7481, -0.4214,  ...,  0.9473,  0.0692,  1.2551],\n",
       "         [-0.1045, -0.3390,  1.7187,  ...,  1.3703,  0.9509, -0.0304],\n",
       "         [-0.1555, -0.7103, -0.6299,  ...,  0.6209,  0.6136, -0.9190]]],\n",
       "       grad_fn=<EmbeddingBackward0>)"
      ]
     },
     "execution_count": 31,
     "metadata": {},
     "output_type": "execute_result"
    }
   ],
   "source": [
    "embeddings = torch.nn.Embedding(len(INDEX_TO_CHAR),28)\n",
    "t = embeddings(X[0:10])\n",
    "t"
   ]
  },
  {
   "cell_type": "code",
   "execution_count": 32,
   "id": "3742f90f-b388-4d8d-8ed4-11abb701198e",
   "metadata": {},
   "outputs": [
    {
     "data": {
      "text/plain": [
       "(torch.Size([10, 50, 28]), torch.Size([10, 50]))"
      ]
     },
     "execution_count": 32,
     "metadata": {},
     "output_type": "execute_result"
    }
   ],
   "source": [
    "t.shape, X[0:10].shape"
   ]
  },
  {
   "cell_type": "code",
   "execution_count": 33,
   "id": "0e5fc227-7fd4-43f0-80cd-c6858d7016cc",
   "metadata": {},
   "outputs": [
    {
     "data": {
      "text/plain": [
       "(torch.Size([10, 50, 128]), torch.Size([1, 10, 128]))"
      ]
     },
     "execution_count": 33,
     "metadata": {},
     "output_type": "execute_result"
    }
   ],
   "source": [
    "rnn = torch.nn.RNN(28,128,batch_first=True) # 128 - Размер скрытого состояние\n",
    "o, s = rnn(t)\n",
    "o.shape, s.shape"
   ]
  },
  {
   "cell_type": "code",
   "execution_count": 34,
   "id": "cb1f8e01-3247-4fb4-ae5f-bf5ecf2197d1",
   "metadata": {},
   "outputs": [
    {
     "data": {
      "text/plain": [
       "(torch.Size([10, 50, 128]), torch.Size([1, 10, 128]))"
      ]
     },
     "execution_count": 34,
     "metadata": {},
     "output_type": "execute_result"
    }
   ],
   "source": [
    "o, s2 = rnn(t,s)\n",
    "o.shape, s2.shape"
   ]
  },
  {
   "cell_type": "markdown",
   "id": "7af14b77-9f76-4b4d-9572-97973b1b61ef",
   "metadata": {},
   "source": [
    "# Метод предсказания следуюшего симбола"
   ]
  },
  {
   "cell_type": "code",
   "execution_count": 35,
   "id": "93b73b24",
   "metadata": {},
   "outputs": [
    {
     "data": {
      "text/plain": [
       "RNN(28, 128, batch_first=True)"
      ]
     },
     "execution_count": 35,
     "metadata": {},
     "output_type": "execute_result"
    }
   ],
   "source": [
    "torch.nn.RNN(28,128,batch_first=True)"
   ]
  },
  {
   "cell_type": "code",
   "execution_count": 46,
   "id": "d7408a61-7a0b-45a7-9749-1a4164f1befb",
   "metadata": {},
   "outputs": [],
   "source": [
    "class Network(torch.nn.Module):\n",
    "  def __init__(self):\n",
    "    super(Network,self).__init__()\n",
    "    self.embed = torch.nn.Embedding(len(CHAR_TO_INDEX),28)\n",
    "    self.rnn = torch.nn.RNN(28,128,batch_first=True,num_layers=10)\n",
    "    self.linear = torch.nn.Linear(128,len(INDEX_TO_CHAR))\n",
    "  def forward(self,sentences,state=None):\n",
    "    embed = self.embed(sentences)\n",
    "    o, s = self.rnn(embed)\n",
    "\n",
    "\n",
    "    out = self.linear(o)\n",
    "    return out"
   ]
  },
  {
   "cell_type": "code",
   "execution_count": 47,
   "id": "6a3b21e6-cac6-4b37-9576-06d517e1523a",
   "metadata": {},
   "outputs": [],
   "source": [
    "model = Network().cuda()"
   ]
  },
  {
   "cell_type": "code",
   "execution_count": 48,
   "id": "f90eda73-b01f-4a00-936b-3cc5e9660e4f",
   "metadata": {},
   "outputs": [],
   "source": [
    "criterion = torch.nn.CrossEntropyLoss()"
   ]
  },
  {
   "cell_type": "code",
   "execution_count": 49,
   "id": "30c9ece0-9945-4cbb-8914-e98903276b44",
   "metadata": {},
   "outputs": [],
   "source": [
    "optimizer = torch.optim.SGD(model.parameters(),lr=0.05)"
   ]
  },
  {
   "cell_type": "code",
   "execution_count": 50,
   "id": "f5390b7f-11a6-4f7c-b0f7-00d1c5e859ab",
   "metadata": {},
   "outputs": [],
   "source": [
    "def generate_sentence(prn=False,gen_count =MAX_LEN):\n",
    "  sentence = ['h','e','l','l','o']\n",
    "  x = torch.zeros((1,len(sentence)),dtype=int).cuda()\n",
    "\n",
    "  for j,w in enumerate(sentence):\n",
    "    if j >=MAX_LEN:\n",
    "      break\n",
    "    x[0,j] = CHAR_TO_INDEX.get(w,CHAR_TO_INDEX['none'] )\n",
    " # print(x)\n",
    "  for i in range(gen_count):\n",
    "  #  print(i)\n",
    "    o = model(x)\n",
    "    w = torch.argmax(o[-1,-1,:],keepdim=True)\n",
    "    if prn:\n",
    "      print(x,w)\n",
    "    x = torch.cat([x,w.unsqueeze(0)],axis=1)\n",
    "    ww = INDEX_TO_CHAR[w]\n",
    "\n",
    "    if ww == 'none':\n",
    "      break\n",
    "    sentence.append(ww) \n",
    "  return ''.join(sentence)\n",
    "\n",
    "\n",
    "      "
   ]
  },
  {
   "cell_type": "code",
   "execution_count": 51,
   "id": "41858ba7-7e76-478f-9a29-1609165343cc",
   "metadata": {},
   "outputs": [
    {
     "name": "stdout",
     "output_type": "stream",
     "text": [
      "tensor([[14, 13,  2,  2,  3]], device='cuda:0') tensor([25], device='cuda:0')\n",
      "tensor([[14, 13,  2,  2,  3, 25]], device='cuda:0') tensor([25], device='cuda:0')\n",
      "tensor([[14, 13,  2,  2,  3, 25, 25]], device='cuda:0') tensor([25], device='cuda:0')\n",
      "tensor([[14, 13,  2,  2,  3, 25, 25, 25]], device='cuda:0') tensor([25], device='cuda:0')\n",
      "tensor([[14, 13,  2,  2,  3, 25, 25, 25, 25]], device='cuda:0') tensor([25], device='cuda:0')\n"
     ]
    },
    {
     "data": {
      "text/plain": [
       "'hellorrrrr'"
      ]
     },
     "execution_count": 51,
     "metadata": {},
     "output_type": "execute_result"
    }
   ],
   "source": [
    "generate_sentence(True,5)"
   ]
  },
  {
   "cell_type": "code",
   "execution_count": 52,
   "id": "c4682ae3-c732-4634-bd89-e066de5a3022",
   "metadata": {},
   "outputs": [
    {
     "name": "stdout",
     "output_type": "stream",
     "text": [
      "hello                                                  \n",
      "Epoch 0. Time: 0.329, Train loss: 2.295\n",
      "hello to to to to to to to to to to to to to to to to t\n",
      "Epoch 5. Time: 0.315, Train loss: 1.830\n",
      "hello a to to to to to to to to to to to to to to to to\n",
      "Epoch 10. Time: 0.316, Train loss: 1.753\n",
      "hello to to to to to to to to to to to to to to to to t\n",
      "Epoch 15. Time: 0.319, Train loss: 1.672\n",
      "helloe to to to to to to to to to to to to to to to to \n",
      "Epoch 20. Time: 0.315, Train loss: 1.615\n",
      "helloe to to to to to to to to to to to to to to to to \n",
      "Epoch 25. Time: 0.326, Train loss: 1.579\n",
      "helloe to to to to to to to to to to to to to to to to \n",
      "Epoch 30. Time: 0.324, Train loss: 1.553\n",
      "helloe to to to to to to to to to to to to to to to to \n",
      "Epoch 35. Time: 0.317, Train loss: 1.529\n",
      "hello to to to to to to to to to to to to to to to to t\n",
      "Epoch 40. Time: 0.347, Train loss: 1.508\n",
      "hello the the the the the the the the the the the the t\n",
      "Epoch 45. Time: 0.325, Train loss: 1.485\n",
      "hello the the the the the the the the the the the the t\n",
      "Epoch 50. Time: 0.325, Train loss: 1.460\n",
      "hello the the the the the the the the the the the the t\n",
      "Epoch 55. Time: 0.654, Train loss: 1.439\n",
      "hello the the the the the the the the the the the the t\n",
      "Epoch 60. Time: 0.657, Train loss: 1.418\n",
      "hello the the the the the the the the the the the the t\n",
      "Epoch 65. Time: 0.583, Train loss: 1.399\n",
      "hello the serts the the the the the the the the the the\n",
      "Epoch 70. Time: 0.667, Train loss: 1.380\n",
      "hello the sert the sert the sert the sert the sert the \n",
      "Epoch 75. Time: 0.665, Train loss: 1.361\n",
      "hello the sereld the sert the sert the sert the sert th\n",
      "Epoch 80. Time: 0.628, Train loss: 1.343\n",
      "hello the sert the sert the sert the sert the sert the \n",
      "Epoch 85. Time: 0.644, Train loss: 1.327\n",
      "hello the sart the sert the sert the sert the sert the \n",
      "Epoch 90. Time: 0.677, Train loss: 1.307\n",
      "hello the sart the sert it the sert it the sert it the \n",
      "Epoch 95. Time: 0.690, Train loss: 1.290\n",
      "hello the sart the sart the sart the sart the sart the \n",
      "Epoch 100. Time: 0.621, Train loss: 1.272\n",
      "hello the sart the sart the sart the sart the sart the \n",
      "Epoch 105. Time: 0.690, Train loss: 1.256\n",
      "hello the sart the sart the sart the sart the sart the \n",
      "Epoch 110. Time: 0.593, Train loss: 1.241\n",
      "hello the start the start the start the start the start\n",
      "Epoch 115. Time: 0.666, Train loss: 1.227\n",
      "hello the start the start the start the start the start\n",
      "Epoch 120. Time: 0.674, Train loss: 1.215\n",
      "hello the start the start the start the start the start\n",
      "Epoch 125. Time: 0.636, Train loss: 1.203\n",
      "hello the start the start the start the start the start\n",
      "Epoch 130. Time: 0.689, Train loss: 1.191\n",
      "hello the start the start the start the start the start\n",
      "Epoch 135. Time: 0.659, Train loss: 1.180\n",
      "hello the start the start the start the start the start\n",
      "Epoch 140. Time: 0.642, Train loss: 1.169\n",
      "hello the start the start the start the start the start\n",
      "Epoch 145. Time: 0.646, Train loss: 1.161\n",
      "hello the start the start the start the start the start\n",
      "Epoch 150. Time: 0.641, Train loss: 1.151\n",
      "hello the start the start the start the start the start\n",
      "Epoch 155. Time: 0.643, Train loss: 1.140\n",
      "hello the start the start the start the start the start\n",
      "Epoch 160. Time: 0.669, Train loss: 1.130\n",
      "hello the start the start the start the start the start\n",
      "Epoch 165. Time: 0.662, Train loss: 1.123\n",
      "hello the start the stop it the start the stop it the s\n",
      "Epoch 170. Time: 0.585, Train loss: 1.115\n",
      "hello the stop it the start the stop it the start the s\n",
      "Epoch 175. Time: 0.321, Train loss: 1.106\n",
      "hello the stop it the stop it the stop it the stop it t\n",
      "Epoch 180. Time: 0.319, Train loss: 1.099\n",
      "hello the stop it the stop it the stop it the stop it t\n",
      "Epoch 185. Time: 0.321, Train loss: 1.094\n",
      "hello sir i cant the stop it the stop it the stop it th\n",
      "Epoch 190. Time: 0.652, Train loss: 1.086\n",
      "hello something the stop it the stop it the stop it the\n",
      "Epoch 195. Time: 0.606, Train loss: 1.077\n"
     ]
    }
   ],
   "source": [
    "for ep in range(200):\n",
    "    start = time.time()\n",
    "    train_loss = 0.\n",
    "    train_passed = 0\n",
    "\n",
    "    for i in range(int(len(X) / 100)):\n",
    "        batch = X[i * 100:(i + 1) * 100].cuda()\n",
    "        X_batch = batch[:, :-1]\n",
    "        Y_batch = batch[:, 1:].flatten()\n",
    "\n",
    "        optimizer.zero_grad()\n",
    "        answers = model.forward(X_batch)\n",
    "        answers = answers.view(-1, len(INDEX_TO_CHAR))\n",
    "        loss = criterion(answers, Y_batch)\n",
    "        train_loss += loss.item()\n",
    "\n",
    "        loss.backward()\n",
    "        optimizer.step()\n",
    "        train_passed += 1\n",
    "    if ep % 5 ==0:\n",
    "      print(generate_sentence())\n",
    "      print(\"Epoch {}. Time: {:.3f}, Train loss: {:.3f}\".format(ep, time.time() - start, train_loss / train_passed))\n",
    "    "
   ]
  },
  {
   "cell_type": "code",
   "execution_count": null,
   "id": "f55f644d-a291-45f3-9dfa-701e30b103ae",
   "metadata": {},
   "outputs": [],
   "source": [
    "X"
   ]
  },
  {
   "cell_type": "code",
   "execution_count": 30,
   "id": "8e332265-443f-47cb-a5f2-53bef1859514",
   "metadata": {},
   "outputs": [
    {
     "data": {
      "text/plain": [
       "torch.Size([4900])"
      ]
     },
     "execution_count": 30,
     "metadata": {},
     "output_type": "execute_result"
    }
   ],
   "source": [
    "Y_batch.shape"
   ]
  },
  {
   "cell_type": "code",
   "execution_count": 33,
   "id": "eb26ac53-a949-48ba-8c85-b1ea3fdfe90b",
   "metadata": {},
   "outputs": [
    {
     "data": {
      "text/plain": [
       "torch.Size([4900, 28])"
      ]
     },
     "execution_count": 33,
     "metadata": {},
     "output_type": "execute_result"
    }
   ],
   "source": [
    "answers.shape"
   ]
  },
  {
   "cell_type": "code",
   "execution_count": null,
   "id": "a0eef16d-25e8-4d2f-b6f5-fbdfc4fbe03a",
   "metadata": {},
   "outputs": [],
   "source": []
  },
  {
   "cell_type": "code",
   "execution_count": null,
   "id": "7df3efd6-b3b4-46fc-915b-961200e3cbfc",
   "metadata": {},
   "outputs": [],
   "source": []
  },
  {
   "cell_type": "code",
   "execution_count": null,
   "id": "11b73254-c8ae-4be5-af3a-9335083fd214",
   "metadata": {},
   "outputs": [],
   "source": []
  },
  {
   "cell_type": "code",
   "execution_count": null,
   "id": "aa78f93e-163f-4758-907a-d950fde1dc9d",
   "metadata": {},
   "outputs": [],
   "source": []
  },
  {
   "cell_type": "code",
   "execution_count": null,
   "id": "e6b5d533-594b-4b6c-9120-1727a6b85f20",
   "metadata": {},
   "outputs": [],
   "source": []
  }
 ],
 "metadata": {
  "kernelspec": {
   "display_name": "Python 3 (ipykernel)",
   "language": "python",
   "name": "python3"
  },
  "language_info": {
   "codemirror_mode": {
    "name": "ipython",
    "version": 3
   },
   "file_extension": ".py",
   "mimetype": "text/x-python",
   "name": "python",
   "nbconvert_exporter": "python",
   "pygments_lexer": "ipython3",
   "version": "3.10.12"
  }
 },
 "nbformat": 4,
 "nbformat_minor": 5
}
