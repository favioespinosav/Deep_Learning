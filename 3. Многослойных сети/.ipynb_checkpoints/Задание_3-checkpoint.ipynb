{
 "cells": [
  {
   "cell_type": "code",
   "execution_count": null,
   "metadata": {
    "id": "g42AfIgd7cAP"
   },
   "outputs": [],
   "source": [
    "import torch\n",
    "import torchvision as tv\n",
    "import torchvision.transforms as transforms\n",
    "from torch import nn\n",
    "import matplotlib.pyplot as plt\n",
    "import time"
   ]
  },
  {
   "cell_type": "code",
   "execution_count": null,
   "metadata": {
    "id": "hxigs0IX7_Av"
   },
   "outputs": [],
   "source": [
    "transform = tv.transforms.Compose([\n",
    "    tv.transforms.Resize((32,32)),\n",
    "    tv.transforms.ToTensor()\n",
    "])"
   ]
  },
  {
   "cell_type": "code",
   "execution_count": null,
   "metadata": {
    "id": "X3rttRjM8AdN"
   },
   "outputs": [],
   "source": [
    "train_dataset = tv.datasets.FashionMNIST(root='.',\n",
    "                                             train=True,\n",
    "                                             download=True,\n",
    "                                             transform=transform)\n",
    "test_dataset = tv.datasets.FashionMNIST(root='.',\n",
    "                                            train=False,\n",
    "                                            download=True,\n",
    "                                            transform=transform)"
   ]
  },
  {
   "cell_type": "code",
   "execution_count": null,
   "metadata": {
    "id": "9_0FjIV28Dul"
   },
   "outputs": [],
   "source": [
    "BATCH_SIZE = 256\n",
    "train_iter = torch.utils.data.DataLoader(train_dataset, batch_size=BATCH_SIZE)\n",
    "test_iter = torch.utils.data.DataLoader(test_dataset, batch_size=BATCH_SIZE)"
   ]
  },
  {
   "cell_type": "code",
   "execution_count": null,
   "metadata": {
    "id": "cE_0aqKv-uwI"
   },
   "outputs": [],
   "source": [
    "def evaluate_accuracy(data_iter, net):\n",
    "    acc_sum, n = 0, 0\n",
    "    net.eval()\n",
    "    for X, y in data_iter:\n",
    "        X, y = X.to(device), y.to(device)\n",
    "        acc_sum += (net(X).argmax(axis=1) == y).sum()\n",
    "        n += y.shape[0]\n",
    "    return acc_sum.item() / n"
   ]
  },
  {
   "cell_type": "code",
   "execution_count": null,
   "metadata": {
    "id": "C09FB45V9ioS"
   },
   "outputs": [],
   "source": [
    "def train(net, train_iter, test_iter, trainer, num_epochs):\n",
    "    net.to(device)\n",
    "    loss = nn.CrossEntropyLoss(reduction='sum')\n",
    "    net.train()\n",
    "    for epoch in range(num_epochs):\n",
    "        train_l_sum, train_acc_sum, n, start = 0.0, 0.0, 0, time.time()\n",
    "\n",
    "        for i, (X, y) in enumerate(train_iter):\n",
    "            X, y = X.to(device), y.to(device)\n",
    "            trainer.zero_grad()\n",
    "            y_hat = net(X)\n",
    "            l = loss(y_hat, y)\n",
    "            l.backward()\n",
    "            trainer.step()\n",
    "            train_l_sum += l.item()\n",
    "            train_acc_sum += (y_hat.argmax(axis=1) == y).sum().item()\n",
    "            n += y.shape[0]\n",
    "\n",
    "            if i % 50 == 0:\n",
    "              print(f\"Step {i}. time since epoch: {time.time() -  start:.3f}. \"\n",
    "                    f\"Train acc: {train_acc_sum / n:.3f}. Train Loss: {train_l_sum / n:.3f}\")\n",
    "\n",
    "        test_acc = evaluate_accuracy(test_iter, net.to(device))\n",
    "        print('-' * 20)\n",
    "        print(f'epoch {epoch + 1}, loss {train_l_sum / n:.4f}, train acc {train_acc_sum / n:.3f}'\n",
    "              f', test acc {test_acc:.3f}, time {time.time() - start:.1f} sec')"
   ]
  },
  {
   "cell_type": "code",
   "execution_count": null,
   "metadata": {
    "colab": {
     "base_uri": "https://localhost:8080/",
     "height": 35
    },
    "id": "aPfO4ScI9irF",
    "outputId": "85e5a605-39ec-47c6-bb65-639d55203c5d"
   },
   "outputs": [
    {
     "data": {
      "application/vnd.google.colaboratory.intrinsic+json": {
       "type": "string"
      },
      "text/plain": [
       "'cuda'"
      ]
     },
     "execution_count": 109,
     "metadata": {},
     "output_type": "execute_result"
    }
   ],
   "source": [
    "\n",
    "device = 'cuda' if torch.cuda.is_available() else 'cpu'\n",
    "device"
   ]
  },
  {
   "cell_type": "code",
   "execution_count": null,
   "metadata": {
    "id": "NyBkyBpb9iwX"
   },
   "outputs": [],
   "source": [
    "model = nn.Sequential(\n",
    "    nn.Flatten(),\n",
    "    nn.Linear(1024, 2048),\n",
    "    nn.ReLU(),\n",
    "    nn.Dropout(0.5),\n",
    "    nn.Linear(2048, 1024),\n",
    "    nn.ReLU(),\n",
    "    nn.Dropout(0.5),\n",
    "    nn.Linear(1024, 512),\n",
    "    nn.ReLU(),\n",
    "    nn.Dropout(0.5),\n",
    "    nn.Linear(512, 128),\n",
    "    nn.ReLU(),\n",
    "    nn.Linear(128, 10))"
   ]
  },
  {
   "cell_type": "code",
   "execution_count": null,
   "metadata": {
    "id": "K-HdKhGxADpc"
   },
   "outputs": [],
   "source": [
    "trainer = torch.optim.Adam(model.parameters(), lr=.001)"
   ]
  },
  {
   "cell_type": "code",
   "execution_count": null,
   "metadata": {
    "colab": {
     "base_uri": "https://localhost:8080/"
    },
    "id": "T5nAyNubBbrn",
    "outputId": "b0b9c48f-bd28-49a5-e4a2-29a57c7823e4"
   },
   "outputs": [
    {
     "name": "stdout",
     "output_type": "stream",
     "text": [
      "Step 0. time since epoch: 0.096. Train acc: 0.861. Train Loss: 0.556\n",
      "Step 50. time since epoch: 4.581. Train acc: 0.871. Train Loss: 0.368\n",
      "Step 100. time since epoch: 9.044. Train acc: 0.878. Train Loss: 0.343\n",
      "--------------------\n",
      "epoch 1, loss 0.3416, train acc 0.878, test acc 0.881, time 12.8 sec\n",
      "Step 0. time since epoch: 0.089. Train acc: 0.930. Train Loss: 0.221\n",
      "Step 50. time since epoch: 4.538. Train acc: 0.929. Train Loss: 0.187\n",
      "Step 100. time since epoch: 9.102. Train acc: 0.932. Train Loss: 0.179\n",
      "--------------------\n",
      "epoch 2, loss 0.1798, train acc 0.932, test acc 0.877, time 12.9 sec\n",
      "Step 0. time since epoch: 0.089. Train acc: 0.932. Train Loss: 0.178\n",
      "Step 50. time since epoch: 4.583. Train acc: 0.937. Train Loss: 0.161\n",
      "Step 100. time since epoch: 9.379. Train acc: 0.938. Train Loss: 0.159\n",
      "--------------------\n",
      "epoch 3, loss 0.1609, train acc 0.938, test acc 0.879, time 12.8 sec\n",
      "Step 0. time since epoch: 0.093. Train acc: 0.938. Train Loss: 0.154\n",
      "Step 50. time since epoch: 4.652. Train acc: 0.941. Train Loss: 0.148\n",
      "Step 100. time since epoch: 9.677. Train acc: 0.941. Train Loss: 0.150\n",
      "--------------------\n",
      "epoch 4, loss 0.1534, train acc 0.940, test acc 0.882, time 12.9 sec\n",
      "Step 0. time since epoch: 0.090. Train acc: 0.953. Train Loss: 0.147\n",
      "Step 50. time since epoch: 4.578. Train acc: 0.943. Train Loss: 0.144\n",
      "Step 100. time since epoch: 9.796. Train acc: 0.944. Train Loss: 0.144\n",
      "--------------------\n",
      "epoch 5, loss 0.1459, train acc 0.943, test acc 0.888, time 12.8 sec\n",
      "Step 0. time since epoch: 0.088. Train acc: 0.955. Train Loss: 0.120\n",
      "Step 50. time since epoch: 4.561. Train acc: 0.945. Train Loss: 0.137\n",
      "Step 100. time since epoch: 9.675. Train acc: 0.946. Train Loss: 0.139\n",
      "--------------------\n",
      "epoch 6, loss 0.1420, train acc 0.945, test acc 0.888, time 12.7 sec\n",
      "Step 0. time since epoch: 0.089. Train acc: 0.957. Train Loss: 0.121\n",
      "Step 50. time since epoch: 4.762. Train acc: 0.947. Train Loss: 0.136\n",
      "Step 100. time since epoch: 9.908. Train acc: 0.948. Train Loss: 0.133\n",
      "--------------------\n",
      "epoch 7, loss 0.1359, train acc 0.947, test acc 0.895, time 13.0 sec\n",
      "Step 0. time since epoch: 0.122. Train acc: 0.967. Train Loss: 0.103\n",
      "Step 50. time since epoch: 4.675. Train acc: 0.944. Train Loss: 0.140\n",
      "Step 100. time since epoch: 9.847. Train acc: 0.945. Train Loss: 0.137\n",
      "--------------------\n",
      "epoch 8, loss 0.1391, train acc 0.945, test acc 0.884, time 13.0 sec\n",
      "Step 0. time since epoch: 0.091. Train acc: 0.949. Train Loss: 0.118\n",
      "Step 50. time since epoch: 4.842. Train acc: 0.948. Train Loss: 0.132\n",
      "Step 100. time since epoch: 9.786. Train acc: 0.948. Train Loss: 0.133\n",
      "--------------------\n",
      "epoch 9, loss 0.1341, train acc 0.948, test acc 0.892, time 12.9 sec\n",
      "Step 0. time since epoch: 0.094. Train acc: 0.955. Train Loss: 0.107\n",
      "Step 50. time since epoch: 5.005. Train acc: 0.952. Train Loss: 0.123\n",
      "Step 100. time since epoch: 9.759. Train acc: 0.952. Train Loss: 0.124\n",
      "--------------------\n",
      "epoch 10, loss 0.1251, train acc 0.951, test acc 0.889, time 12.8 sec\n",
      "Step 0. time since epoch: 0.087. Train acc: 0.957. Train Loss: 0.117\n",
      "Step 50. time since epoch: 5.195. Train acc: 0.951. Train Loss: 0.123\n",
      "Step 100. time since epoch: 9.677. Train acc: 0.952. Train Loss: 0.121\n",
      "--------------------\n",
      "epoch 11, loss 0.1225, train acc 0.951, test acc 0.893, time 12.7 sec\n",
      "Step 0. time since epoch: 0.090. Train acc: 0.951. Train Loss: 0.106\n",
      "Step 50. time since epoch: 5.334. Train acc: 0.954. Train Loss: 0.118\n",
      "Step 100. time since epoch: 9.811. Train acc: 0.953. Train Loss: 0.119\n",
      "--------------------\n",
      "epoch 12, loss 0.1211, train acc 0.952, test acc 0.887, time 12.8 sec\n",
      "Step 0. time since epoch: 0.090. Train acc: 0.971. Train Loss: 0.103\n",
      "Step 50. time since epoch: 5.227. Train acc: 0.953. Train Loss: 0.118\n",
      "Step 100. time since epoch: 9.726. Train acc: 0.952. Train Loss: 0.120\n",
      "--------------------\n",
      "epoch 13, loss 0.1227, train acc 0.951, test acc 0.891, time 12.9 sec\n",
      "Step 0. time since epoch: 0.089. Train acc: 0.941. Train Loss: 0.142\n",
      "Step 50. time since epoch: 5.185. Train acc: 0.952. Train Loss: 0.122\n",
      "Step 100. time since epoch: 9.664. Train acc: 0.952. Train Loss: 0.122\n",
      "--------------------\n",
      "epoch 14, loss 0.1233, train acc 0.951, test acc 0.892, time 12.7 sec\n",
      "Step 0. time since epoch: 0.090. Train acc: 0.973. Train Loss: 0.088\n",
      "Step 50. time since epoch: 5.264. Train acc: 0.955. Train Loss: 0.114\n",
      "Step 100. time since epoch: 9.878. Train acc: 0.954. Train Loss: 0.115\n",
      "--------------------\n",
      "epoch 15, loss 0.1166, train acc 0.953, test acc 0.888, time 13.2 sec\n",
      "Step 0. time since epoch: 0.120. Train acc: 0.957. Train Loss: 0.120\n",
      "Step 50. time since epoch: 4.931. Train acc: 0.955. Train Loss: 0.112\n",
      "Step 100. time since epoch: 9.404. Train acc: 0.956. Train Loss: 0.111\n",
      "--------------------\n",
      "epoch 16, loss 0.1123, train acc 0.955, test acc 0.895, time 13.0 sec\n",
      "Step 0. time since epoch: 0.141. Train acc: 0.951. Train Loss: 0.107\n",
      "Step 50. time since epoch: 4.871. Train acc: 0.959. Train Loss: 0.105\n",
      "Step 100. time since epoch: 9.327. Train acc: 0.959. Train Loss: 0.103\n",
      "--------------------\n",
      "epoch 17, loss 0.1041, train acc 0.959, test acc 0.892, time 13.1 sec\n",
      "Step 0. time since epoch: 0.090. Train acc: 0.955. Train Loss: 0.111\n",
      "Step 50. time since epoch: 4.537. Train acc: 0.956. Train Loss: 0.107\n",
      "Step 100. time since epoch: 9.010. Train acc: 0.958. Train Loss: 0.104\n",
      "--------------------\n",
      "epoch 18, loss 0.1053, train acc 0.958, test acc 0.893, time 12.9 sec\n",
      "Step 0. time since epoch: 0.091. Train acc: 0.963. Train Loss: 0.077\n",
      "Step 50. time since epoch: 4.539. Train acc: 0.960. Train Loss: 0.100\n",
      "Step 100. time since epoch: 9.116. Train acc: 0.961. Train Loss: 0.097\n",
      "--------------------\n",
      "epoch 19, loss 0.0980, train acc 0.961, test acc 0.889, time 12.8 sec\n",
      "Step 0. time since epoch: 0.090. Train acc: 0.965. Train Loss: 0.083\n",
      "Step 50. time since epoch: 4.577. Train acc: 0.962. Train Loss: 0.096\n",
      "Step 100. time since epoch: 9.511. Train acc: 0.963. Train Loss: 0.094\n",
      "--------------------\n",
      "epoch 20, loss 0.0954, train acc 0.963, test acc 0.893, time 12.9 sec\n",
      "Step 0. time since epoch: 0.089. Train acc: 0.965. Train Loss: 0.076\n",
      "Step 50. time since epoch: 4.623. Train acc: 0.962. Train Loss: 0.092\n",
      "Step 100. time since epoch: 9.776. Train acc: 0.964. Train Loss: 0.091\n",
      "--------------------\n",
      "epoch 21, loss 0.0924, train acc 0.963, test acc 0.892, time 12.9 sec\n",
      "Step 0. time since epoch: 0.087. Train acc: 0.967. Train Loss: 0.100\n",
      "Step 50. time since epoch: 4.736. Train acc: 0.965. Train Loss: 0.089\n",
      "Step 100. time since epoch: 9.895. Train acc: 0.966. Train Loss: 0.087\n",
      "--------------------\n",
      "epoch 22, loss 0.0885, train acc 0.965, test acc 0.890, time 13.0 sec\n",
      "Step 0. time since epoch: 0.091. Train acc: 0.967. Train Loss: 0.098\n",
      "Step 50. time since epoch: 4.583. Train acc: 0.963. Train Loss: 0.093\n",
      "Step 100. time since epoch: 9.736. Train acc: 0.964. Train Loss: 0.090\n",
      "--------------------\n",
      "epoch 23, loss 0.0902, train acc 0.964, test acc 0.893, time 12.9 sec\n",
      "Step 0. time since epoch: 0.088. Train acc: 0.979. Train Loss: 0.059\n",
      "Step 50. time since epoch: 4.605. Train acc: 0.966. Train Loss: 0.085\n",
      "Step 100. time since epoch: 9.731. Train acc: 0.965. Train Loss: 0.089\n",
      "--------------------\n",
      "epoch 24, loss 0.0886, train acc 0.965, test acc 0.888, time 12.8 sec\n",
      "Step 0. time since epoch: 0.085. Train acc: 0.967. Train Loss: 0.084\n",
      "Step 50. time since epoch: 4.617. Train acc: 0.964. Train Loss: 0.091\n",
      "Step 100. time since epoch: 9.777. Train acc: 0.966. Train Loss: 0.086\n",
      "--------------------\n",
      "epoch 25, loss 0.0852, train acc 0.966, test acc 0.892, time 12.9 sec\n",
      "Step 0. time since epoch: 0.090. Train acc: 0.975. Train Loss: 0.053\n",
      "Step 50. time since epoch: 4.875. Train acc: 0.970. Train Loss: 0.076\n",
      "Step 100. time since epoch: 9.756. Train acc: 0.970. Train Loss: 0.075\n",
      "--------------------\n",
      "epoch 26, loss 0.0749, train acc 0.970, test acc 0.890, time 12.8 sec\n",
      "Step 0. time since epoch: 0.091. Train acc: 0.973. Train Loss: 0.070\n",
      "Step 50. time since epoch: 5.309. Train acc: 0.969. Train Loss: 0.079\n",
      "Step 100. time since epoch: 9.835. Train acc: 0.969. Train Loss: 0.078\n",
      "--------------------\n",
      "epoch 27, loss 0.0798, train acc 0.969, test acc 0.892, time 12.9 sec\n",
      "Step 0. time since epoch: 0.089. Train acc: 0.967. Train Loss: 0.075\n",
      "Step 50. time since epoch: 5.222. Train acc: 0.970. Train Loss: 0.076\n",
      "Step 100. time since epoch: 9.819. Train acc: 0.969. Train Loss: 0.077\n",
      "--------------------\n",
      "epoch 28, loss 0.0775, train acc 0.969, test acc 0.889, time 12.9 sec\n",
      "Step 0. time since epoch: 0.089. Train acc: 0.965. Train Loss: 0.094\n",
      "Step 50. time since epoch: 5.295. Train acc: 0.969. Train Loss: 0.076\n",
      "Step 100. time since epoch: 9.785. Train acc: 0.971. Train Loss: 0.072\n",
      "--------------------\n",
      "epoch 29, loss 0.0733, train acc 0.971, test acc 0.889, time 12.8 sec\n",
      "Step 0. time since epoch: 0.086. Train acc: 0.979. Train Loss: 0.062\n",
      "Step 50. time since epoch: 5.299. Train acc: 0.972. Train Loss: 0.071\n",
      "Step 100. time since epoch: 9.774. Train acc: 0.971. Train Loss: 0.072\n",
      "--------------------\n",
      "epoch 30, loss 0.0737, train acc 0.971, test acc 0.891, time 12.9 sec\n",
      "Step 0. time since epoch: 0.089. Train acc: 0.992. Train Loss: 0.049\n",
      "Step 50. time since epoch: 5.224. Train acc: 0.968. Train Loss: 0.078\n",
      "Step 100. time since epoch: 9.763. Train acc: 0.970. Train Loss: 0.075\n",
      "--------------------\n",
      "epoch 31, loss 0.0759, train acc 0.970, test acc 0.882, time 13.2 sec\n",
      "Step 0. time since epoch: 0.133. Train acc: 0.977. Train Loss: 0.068\n",
      "Step 50. time since epoch: 5.010. Train acc: 0.973. Train Loss: 0.068\n",
      "Step 100. time since epoch: 9.482. Train acc: 0.973. Train Loss: 0.068\n",
      "--------------------\n",
      "epoch 32, loss 0.0695, train acc 0.972, test acc 0.886, time 13.0 sec\n",
      "Step 0. time since epoch: 0.123. Train acc: 0.969. Train Loss: 0.074\n",
      "Step 50. time since epoch: 4.782. Train acc: 0.975. Train Loss: 0.065\n",
      "Step 100. time since epoch: 9.343. Train acc: 0.974. Train Loss: 0.068\n",
      "--------------------\n",
      "epoch 33, loss 0.0697, train acc 0.973, test acc 0.883, time 13.2 sec\n",
      "Step 0. time since epoch: 0.088. Train acc: 0.969. Train Loss: 0.063\n",
      "Step 50. time since epoch: 4.583. Train acc: 0.973. Train Loss: 0.069\n",
      "Step 100. time since epoch: 9.049. Train acc: 0.974. Train Loss: 0.066\n",
      "--------------------\n",
      "epoch 34, loss 0.0671, train acc 0.974, test acc 0.883, time 12.9 sec\n",
      "Step 0. time since epoch: 0.094. Train acc: 0.969. Train Loss: 0.077\n",
      "Step 50. time since epoch: 4.700. Train acc: 0.972. Train Loss: 0.069\n",
      "Step 100. time since epoch: 9.272. Train acc: 0.973. Train Loss: 0.066\n",
      "--------------------\n",
      "epoch 35, loss 0.0676, train acc 0.973, test acc 0.886, time 12.9 sec\n"
     ]
    }
   ],
   "source": [
    "train(model, train_iter, test_iter, trainer, num_epochs=35)"
   ]
  },
  {
   "cell_type": "code",
   "execution_count": null,
   "metadata": {
    "colab": {
     "base_uri": "https://localhost:8080/"
    },
    "id": "HWjb5-bIBbxd",
    "outputId": "0e1332fc-f4a6-42a1-8851-29c1c2e182a6"
   },
   "outputs": [
    {
     "data": {
      "text/plain": [
       "0.8865"
      ]
     },
     "execution_count": 137,
     "metadata": {},
     "output_type": "execute_result"
    }
   ],
   "source": [
    "evaluate_accuracy(test_iter, model.to(device))"
   ]
  },
  {
   "cell_type": "code",
   "execution_count": null,
   "metadata": {
    "id": "CMu0y5H5QFPb"
   },
   "outputs": [],
   "source": []
  }
 ],
 "metadata": {
  "accelerator": "GPU",
  "colab": {
   "gpuType": "T4",
   "provenance": []
  },
  "kernelspec": {
   "display_name": "Python 3",
   "name": "python3"
  },
  "language_info": {
   "name": "python"
  }
 },
 "nbformat": 4,
 "nbformat_minor": 0
}
