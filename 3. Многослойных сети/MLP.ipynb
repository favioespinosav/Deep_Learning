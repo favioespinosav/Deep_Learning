{
 "cells": [
  {
   "cell_type": "code",
   "execution_count": 2,
   "id": "b95e8d67-7bef-4e73-ae40-a10ed38c8a0f",
   "metadata": {},
   "outputs": [],
   "source": [
    "import matplotlib.pyplot as plt\n",
    "%matplotlib inline\n",
    "import torch\n",
    "import numpy as np\n",
    "import torchvision as tv\n",
    "import pandas as pd\n",
    "import numpy as np\n",
    "BATCH_SIZE=256\n",
    "\n"
   ]
  },
  {
   "cell_type": "code",
   "execution_count": 3,
   "id": "e1d6c1bd-7123-4990-a8e5-e39d4addfd32",
   "metadata": {},
   "outputs": [
    {
     "data": {
      "text/plain": [
       "torch.Size([1, 28, 28])"
      ]
     },
     "execution_count": 3,
     "metadata": {},
     "output_type": "execute_result"
    }
   ],
   "source": [
    "train_dataset = tv.datasets.MNIST('.', train=True, transform=tv.transforms.ToTensor(), download=True)\n",
    "test_dataset = tv.datasets.MNIST('.', train=False, transform=tv.transforms.ToTensor(), download=True)\n",
    "train = torch.utils.data.DataLoader(train_dataset, batch_size=BATCH_SIZE)\n",
    "test = torch.utils.data.DataLoader(test_dataset, batch_size=BATCH_SIZE)\n",
    "train_dataset[0][0].shape"
   ]
  },
  {
   "cell_type": "markdown",
   "id": "c8c07b51-ad7b-46aa-af6a-f5fde38e270b",
   "metadata": {},
   "source": [
    "# Модель"
   ]
  },
  {
   "cell_type": "code",
   "execution_count": 46,
   "id": "7a7e3f87-8980-4cba-8272-37fc475b7a3f",
   "metadata": {},
   "outputs": [],
   "source": [
    "model = torch.nn.Sequential(\n",
    "    torch.nn.Flatten(),\n",
    "    torch.nn.Linear(28*28, 256),\n",
    "    torch.nn.ReLU(),\n",
    "    torch.nn.Linear(256, 10)\n",
    ")"
   ]
  },
  {
   "cell_type": "code",
   "execution_count": 47,
   "id": "c20dc960-ee2a-43f3-88db-6ec6a86d5916",
   "metadata": {},
   "outputs": [
    {
     "data": {
      "text/plain": [
       "Sequential(\n",
       "  (0): Flatten(start_dim=1, end_dim=-1)\n",
       "  (1): Linear(in_features=784, out_features=256, bias=True)\n",
       "  (2): ReLU()\n",
       "  (3): Linear(in_features=256, out_features=10, bias=True)\n",
       ")"
      ]
     },
     "execution_count": 47,
     "metadata": {},
     "output_type": "execute_result"
    }
   ],
   "source": [
    "model"
   ]
  },
  {
   "cell_type": "code",
   "execution_count": 48,
   "id": "7d8d0fe9-641f-424c-b516-b7374c059685",
   "metadata": {},
   "outputs": [],
   "source": [
    "loss = torch.nn.CrossEntropyLoss()\n",
    "trainer = torch.optim.SGD(model.parameters(), lr=.01)\n",
    "num_epochs = 10"
   ]
  },
  {
   "cell_type": "code",
   "execution_count": 49,
   "id": "b5cbc35e-7cec-4a7e-8d3e-394ed347e031",
   "metadata": {},
   "outputs": [],
   "source": [
    "import time"
   ]
  },
  {
   "cell_type": "code",
   "execution_count": 83,
   "id": "1efb3756-dac4-4191-a80c-1cfdbb56b9ed",
   "metadata": {},
   "outputs": [],
   "source": [
    "def train_model():\n",
    "  for epoch in range(num_epochs):\n",
    "    train_iters,train_passed = 0,0;\n",
    "    train_loss,train_acc = 0.,0.\n",
    "    start=time.time()\n",
    "    model.train()\n",
    "    for X,y in train:\n",
    "      trainer.zero_grad()\n",
    "      y_pred = model(X)\n",
    "      l = loss(y_pred,y)\n",
    "      l.backward()\n",
    "      trainer.step()\n",
    "      train_loss += l.item()\n",
    "      \n",
    "      train_passed = len(X)\n",
    "      train_acc += (y_pred.argmax(dim=1) == y).sum().item()\n",
    "      train_iters +=1\n",
    "    test_iters, test_passed = 0,0\n",
    "    test_loss, test_acc = 0.,0.\n",
    "    model.eval()\n",
    "    for X,y in test:\n",
    "      y_pred = model(X)\n",
    "      \n",
    "      l = loss(y_pred,y)\n",
    "      test_loss += l.item()\n",
    "      \n",
    "      test_passed += len(X)\n",
    "      test_acc += (y_pred.argmax(dim=1) == y).sum().item()\n",
    "      test_iters += 1\n",
    "      test_passed += len(X)\n",
    "    print(\"ep: {}, taked: {:.3f}, train_loss: {}, train_acc: {}, test_loss: {}, test_acc: {}\".format(\n",
    "            epoch, time.time() - start, train_loss / train_iters, train_acc / train_passed,\n",
    "            test_loss / test_iters, test_acc / test_passed)\n",
    "        )"
   ]
  },
  {
   "cell_type": "code",
   "execution_count": 84,
   "id": "85eb718c-29e7-4ac6-a384-62555d39673c",
   "metadata": {},
   "outputs": [
    {
     "data": {
      "text/plain": [
       "torch.Size([16])"
      ]
     },
     "execution_count": 84,
     "metadata": {},
     "output_type": "execute_result"
    }
   ],
   "source": [
    "y.shape"
   ]
  },
  {
   "cell_type": "code",
   "execution_count": 85,
   "id": "7de16d11-01e4-4b42-90b9-2d03023733e2",
   "metadata": {},
   "outputs": [
    {
     "data": {
      "text/plain": [
       "tensor([1, 2, 8, 4, 5, 6, 7, 8, 9, 0, 1, 2, 3, 4, 5, 6])"
      ]
     },
     "execution_count": 85,
     "metadata": {},
     "output_type": "execute_result"
    }
   ],
   "source": [
    "y_pred.argmax(dim=1)"
   ]
  },
  {
   "cell_type": "code",
   "execution_count": 86,
   "id": "0e7126a0-6ba3-48f5-b381-1901dc92fcf0",
   "metadata": {},
   "outputs": [
    {
     "name": "stdout",
     "output_type": "stream",
     "text": [
      "ep: 0, taked: 1.443, train_loss: 0.34028390040423007, train_acc: 565.375, test_loss: 0.3174429423175752, test_acc: 0.4556\n",
      "ep: 1, taked: 1.397, train_loss: 0.33396790538062443, train_acc: 566.5208333333334, test_loss: 0.31188144963234665, test_acc: 0.45645\n",
      "ep: 2, taked: 1.438, train_loss: 0.32817624483970886, train_acc: 567.3958333333334, test_loss: 0.3067985700443387, test_acc: 0.45715\n",
      "ep: 3, taked: 1.491, train_loss: 0.3228211625459346, train_acc: 568.0625, test_loss: 0.30211706506088376, test_acc: 0.45785\n",
      "ep: 4, taked: 1.526, train_loss: 0.3178385850279889, train_acc: 568.9375, test_loss: 0.297768341563642, test_acc: 0.4582\n",
      "ep: 5, taked: 1.558, train_loss: 0.3131616140299655, train_acc: 569.5729166666666, test_loss: 0.2936936252284795, test_acc: 0.45875\n",
      "ep: 6, taked: 1.576, train_loss: 0.3087447116349606, train_acc: 570.3125, test_loss: 0.2898404526524246, test_acc: 0.45915\n",
      "ep: 7, taked: 1.571, train_loss: 0.3045553229907726, train_acc: 570.9791666666666, test_loss: 0.2861891206819564, test_acc: 0.4599\n",
      "ep: 8, taked: 1.586, train_loss: 0.3005561714476727, train_acc: 571.6979166666666, test_loss: 0.28270539129152894, test_acc: 0.46005\n",
      "ep: 9, taked: 1.607, train_loss: 0.29672801418507355, train_acc: 572.3541666666666, test_loss: 0.27936555687338116, test_acc: 0.46065\n"
     ]
    }
   ],
   "source": [
    "train_model()"
   ]
  },
  {
   "cell_type": "markdown",
   "id": "1dea794d-64fd-451f-b97d-8bb2e03f4156",
   "metadata": {},
   "source": [
    "# Adam"
   ]
  },
  {
   "cell_type": "code",
   "execution_count": 87,
   "id": "f488f723-a753-475f-8b7e-70003b602b01",
   "metadata": {},
   "outputs": [],
   "source": [
    "model = torch.nn.Sequential(\n",
    "    torch.nn.Flatten(),\n",
    "    torch.nn.Linear(784, 256),\n",
    "    torch.nn.ReLU(),\n",
    "    torch.nn.Linear(256, 10)\n",
    ")"
   ]
  },
  {
   "cell_type": "code",
   "execution_count": 88,
   "id": "26f8afdc-fcf4-4d3a-99e8-2cf1f0c5fc0f",
   "metadata": {},
   "outputs": [
    {
     "name": "stdout",
     "output_type": "stream",
     "text": [
      "ep: 0, taked: 2.451, train_loss: 0.24804227688211075, train_acc: 578.3125, test_loss: 0.16836567395366728, test_acc: 0.4726\n",
      "ep: 1, taked: 2.282, train_loss: 0.1068853921395667, train_acc: 604.65625, test_loss: 0.11454442740650847, test_acc: 0.48325\n",
      "ep: 2, taked: 2.298, train_loss: 0.0782358538597188, train_acc: 609.71875, test_loss: 0.09707571670878679, test_acc: 0.48525\n",
      "ep: 3, taked: 2.453, train_loss: 0.05561313461512327, train_acc: 614.2916666666666, test_loss: 0.09535638989582366, test_acc: 0.48705\n",
      "ep: 4, taked: 2.465, train_loss: 0.04892851926108941, train_acc: 615.0729166666666, test_loss: 0.1125652294329484, test_acc: 0.4857\n",
      "ep: 5, taked: 2.591, train_loss: 0.04761492099335536, train_acc: 615.34375, test_loss: 0.12372984433750389, test_acc: 0.4849\n",
      "ep: 6, taked: 2.483, train_loss: 0.049760715693156134, train_acc: 615.6666666666666, test_loss: 0.12871542790439888, test_acc: 0.48525\n",
      "ep: 7, taked: 2.528, train_loss: 0.03996289950409072, train_acc: 616.8020833333334, test_loss: 0.13616306675280612, test_acc: 0.4858\n",
      "ep: 8, taked: 2.404, train_loss: 0.04022534114922932, train_acc: 616.9375, test_loss: 0.1429295873049341, test_acc: 0.48545\n",
      "ep: 9, taked: 2.445, train_loss: 0.03836013082504035, train_acc: 617.5520833333334, test_loss: 0.17402466095009003, test_acc: 0.48395\n"
     ]
    }
   ],
   "source": [
    "trainer = torch.optim.Adam(model.parameters(), lr=.01)\n",
    "train_model()"
   ]
  },
  {
   "cell_type": "markdown",
   "id": "98c3a9ad-911b-43c7-bd20-c045c8af6c32",
   "metadata": {},
   "source": [
    "# Больше слои"
   ]
  },
  {
   "cell_type": "code",
   "execution_count": 89,
   "id": "eab57a3d-946f-4bd6-bc4f-2a7230cafa06",
   "metadata": {},
   "outputs": [],
   "source": [
    "model = torch.nn.Sequential(\n",
    "    torch.nn.Flatten(),\n",
    "    torch.nn.Linear(784, 512),\n",
    "    torch.nn.ReLU(),\n",
    "    torch.nn.Linear(512, 256),\n",
    "    torch.nn.ReLU(),\n",
    "    torch.nn.Linear(256, 128),\n",
    "    torch.nn.ReLU(),\n",
    "    torch.nn.Linear(128, 10)\n",
    ")"
   ]
  },
  {
   "cell_type": "code",
   "execution_count": 90,
   "id": "00cdd81e-ea32-4abc-b8c6-9042176c4659",
   "metadata": {},
   "outputs": [
    {
     "name": "stdout",
     "output_type": "stream",
     "text": [
      "ep: 0, taked: 2.596, train_loss: 0.29437970651432555, train_acc: 568.4270833333334, test_loss: 0.20823998346459122, test_acc: 0.46945\n",
      "ep: 1, taked: 2.622, train_loss: 0.12734819600318975, train_acc: 602.5520833333334, test_loss: 0.14438777746763662, test_acc: 0.4811\n",
      "ep: 2, taked: 2.658, train_loss: 0.09985516553130397, train_acc: 607.5, test_loss: 0.1515134698114707, test_acc: 0.4805\n",
      "ep: 3, taked: 2.932, train_loss: 0.08253546557686431, train_acc: 609.8958333333334, test_loss: 0.156152202541125, test_acc: 0.4797\n",
      "ep: 4, taked: 3.219, train_loss: 0.07355956659513585, train_acc: 611.6666666666666, test_loss: 0.13046868680248735, test_acc: 0.4857\n",
      "ep: 5, taked: 3.332, train_loss: 0.07275219892964084, train_acc: 612.2604166666666, test_loss: 0.15071929742844076, test_acc: 0.48335\n",
      "ep: 6, taked: 3.061, train_loss: 0.06569418019833083, train_acc: 613.6979166666666, test_loss: 0.1274185871865484, test_acc: 0.4856\n",
      "ep: 7, taked: 3.350, train_loss: 0.05916701777976878, train_acc: 614.5729166666666, test_loss: 0.169452159019761, test_acc: 0.4858\n",
      "ep: 8, taked: 3.280, train_loss: 0.06461305882226913, train_acc: 614.3958333333334, test_loss: 0.1538522711955011, test_acc: 0.4845\n",
      "ep: 9, taked: 3.232, train_loss: 0.06169880737570372, train_acc: 615.0, test_loss: 0.13223408481426305, test_acc: 0.487\n"
     ]
    }
   ],
   "source": [
    "trainer = torch.optim.Adam(model.parameters(), lr=.01)\n",
    "train_model()"
   ]
  },
  {
   "cell_type": "markdown",
   "id": "45ea7662-0415-4a71-b8ad-8a90ffbbe829",
   "metadata": {},
   "source": [
    "# BatchNorm"
   ]
  },
  {
   "cell_type": "code",
   "execution_count": 91,
   "id": "7682ea32-601f-4922-a28b-18172ea4c449",
   "metadata": {},
   "outputs": [],
   "source": [
    "\n",
    "model = torch.nn.Sequential(\n",
    "    torch.nn.Flatten(),\n",
    "    torch.nn.Linear(784, 512),\n",
    "    torch.nn.ReLU(),\n",
    "    torch.nn.BatchNorm1d(512),\n",
    "    torch.nn.Linear(512, 256),\n",
    "    torch.nn.ReLU(),\n",
    "    torch.nn.BatchNorm1d(256),\n",
    "    torch.nn.Linear(256, 128),\n",
    "    torch.nn.ReLU(),\n",
    "    torch.nn.BatchNorm1d(128),\n",
    "    torch.nn.Linear(128, 10)\n",
    ")"
   ]
  },
  {
   "cell_type": "code",
   "execution_count": 92,
   "id": "8e77640f-9181-450d-8073-fe73f1e2c555",
   "metadata": {},
   "outputs": [
    {
     "name": "stdout",
     "output_type": "stream",
     "text": [
      "ep: 0, taked: 2.439, train_loss: 0.19873041291027627, train_acc: 586.5104166666666, test_loss: 0.13568213984835892, test_acc: 0.4805\n",
      "ep: 1, taked: 2.525, train_loss: 0.09861925849889187, train_acc: 605.8333333333334, test_loss: 0.1265763009490911, test_acc: 0.4809\n",
      "ep: 2, taked: 2.696, train_loss: 0.06911274047885486, train_acc: 611.1145833333334, test_loss: 0.11962802468624431, test_acc: 0.48285\n",
      "ep: 3, taked: 2.832, train_loss: 0.05279159820341366, train_acc: 614.0104166666666, test_loss: 0.11573879392235539, test_acc: 0.48265\n",
      "ep: 4, taked: 2.804, train_loss: 0.04129203204090331, train_acc: 616.4895833333334, test_loss: 0.09549264130109805, test_acc: 0.4862\n",
      "ep: 5, taked: 2.903, train_loss: 0.03434302461397973, train_acc: 617.75, test_loss: 0.09002651755872648, test_acc: 0.4875\n",
      "ep: 6, taked: 2.992, train_loss: 0.029281499811715666, train_acc: 618.9583333333334, test_loss: 0.08706768130141426, test_acc: 0.4886\n",
      "ep: 7, taked: 2.987, train_loss: 0.029309803092891867, train_acc: 619.0416666666666, test_loss: 0.10480795158073306, test_acc: 0.48695\n",
      "ep: 8, taked: 3.081, train_loss: 0.024837972424884742, train_acc: 619.6770833333334, test_loss: 0.12380179697429412, test_acc: 0.48485\n",
      "ep: 9, taked: 3.268, train_loss: 0.02073570244172786, train_acc: 620.5, test_loss: 0.12211655085302482, test_acc: 0.48645\n"
     ]
    }
   ],
   "source": [
    "trainer = torch.optim.Adam(model.parameters(), lr=.01)\n",
    "train_model()\n"
   ]
  },
  {
   "cell_type": "markdown",
   "id": "0af2d11e-ceec-495e-9cc3-7c2f6eef7913",
   "metadata": {},
   "source": [
    "# Drop out"
   ]
  },
  {
   "cell_type": "code",
   "execution_count": 93,
   "id": "22c501c9-4df1-4aae-b85b-9a72c91395ff",
   "metadata": {},
   "outputs": [],
   "source": [
    "model = torch.nn.Sequential(\n",
    "    torch.nn.Flatten(),\n",
    "    torch.nn.Linear(784, 2560),\n",
    "    torch.nn.ReLU(),\n",
    "    torch.nn.Dropout(0.5),\n",
    "    torch.nn.Linear(2560, 1280),\n",
    "    torch.nn.ReLU(),\n",
    "    torch.nn.Dropout(0.5),\n",
    "    torch.nn.Linear(1280, 640),\n",
    "    torch.nn.ReLU(),\n",
    "    torch.nn.Dropout(0.5),\n",
    "    torch.nn.Linear(640, 10)\n",
    ")"
   ]
  },
  {
   "cell_type": "code",
   "execution_count": 94,
   "id": "2add912f-4d19-486b-96b4-a788ed0dc531",
   "metadata": {},
   "outputs": [
    {
     "name": "stdout",
     "output_type": "stream",
     "text": [
      "ep: 0, taked: 9.789, train_loss: 0.8966126634719523, train_acc: 457.6875, test_loss: 0.32304005408659575, test_acc: 0.45545\n",
      "ep: 1, taked: 11.252, train_loss: 0.6511935951861929, train_acc: 508.2916666666667, test_loss: 0.3215913242660463, test_acc: 0.4563\n",
      "ep: 2, taked: 14.026, train_loss: 0.6791576336038874, train_acc: 507.7604166666667, test_loss: 0.3224376255646348, test_acc: 0.4564\n",
      "ep: 3, taked: 21.946, train_loss: 0.6685169209825231, train_acc: 510.625, test_loss: 0.3388207148760557, test_acc: 0.45775\n",
      "ep: 4, taked: 24.206, train_loss: 0.6850234509782588, train_acc: 505.9375, test_loss: 0.3473170096054673, test_acc: 0.4598\n",
      "ep: 5, taked: 25.625, train_loss: 0.716185347957814, train_acc: 503.8020833333333, test_loss: 0.3533837434835732, test_acc: 0.4598\n",
      "ep: 6, taked: 27.170, train_loss: 0.7004601473503924, train_acc: 504.09375, test_loss: 0.3303217448294163, test_acc: 0.46125\n",
      "ep: 7, taked: 29.074, train_loss: 0.728297111328612, train_acc: 498.0104166666667, test_loss: 0.4047358728945255, test_acc: 0.4556\n",
      "ep: 8, taked: 28.907, train_loss: 0.7687942140914025, train_acc: 487.9270833333333, test_loss: 0.38082159887999295, test_acc: 0.4522\n",
      "ep: 9, taked: 28.630, train_loss: 0.7596506444697685, train_acc: 488.1354166666667, test_loss: 0.3675210257060826, test_acc: 0.45635\n"
     ]
    }
   ],
   "source": [
    "trainer = torch.optim.Adam(model.parameters(), lr=.01)\n",
    "train_model()"
   ]
  },
  {
   "cell_type": "code",
   "execution_count": null,
   "id": "a98b7b90-163f-4110-9be0-89df1952d9b7",
   "metadata": {},
   "outputs": [],
   "source": []
  }
 ],
 "metadata": {
  "kernelspec": {
   "display_name": "Python 3 (ipykernel)",
   "language": "python",
   "name": "python3"
  },
  "language_info": {
   "codemirror_mode": {
    "name": "ipython",
    "version": 3
   },
   "file_extension": ".py",
   "mimetype": "text/x-python",
   "name": "python",
   "nbconvert_exporter": "python",
   "pygments_lexer": "ipython3",
   "version": "3.10.12"
  }
 },
 "nbformat": 4,
 "nbformat_minor": 5
}
