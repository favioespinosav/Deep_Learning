{
 "cells": [
  {
   "cell_type": "markdown",
   "metadata": {},
   "source": [
    "#### Определения"
   ]
  },
  {
   "cell_type": "code",
   "execution_count": 1,
   "metadata": {},
   "outputs": [
    {
     "name": "stdout",
     "output_type": "stream",
     "text": [
      "Defaulting to user installation because normal site-packages is not writeable\n",
      "Requirement already satisfied: gensim in /home/seb/.local/lib/python3.10/site-packages (4.2.0)\n",
      "Requirement already satisfied: numpy>=1.17.0 in /home/seb/.local/lib/python3.10/site-packages (from gensim) (1.24.2)\n",
      "Requirement already satisfied: scipy>=0.18.1 in /home/seb/.local/lib/python3.10/site-packages (from gensim) (1.10.1)\n",
      "Requirement already satisfied: smart-open>=1.8.1 in /home/seb/.local/lib/python3.10/site-packages (from gensim) (5.2.1)\n",
      "\n",
      "\u001b[1m[\u001b[0m\u001b[34;49mnotice\u001b[0m\u001b[1;39;49m]\u001b[0m\u001b[39;49m A new release of pip is available: \u001b[0m\u001b[31;49m23.1.2\u001b[0m\u001b[39;49m -> \u001b[0m\u001b[32;49m23.2\u001b[0m\n",
      "\u001b[1m[\u001b[0m\u001b[34;49mnotice\u001b[0m\u001b[1;39;49m]\u001b[0m\u001b[39;49m To update, run: \u001b[0m\u001b[32;49mpython3 -m pip install --upgrade pip\u001b[0m\n",
      "Defaulting to user installation because normal site-packages is not writeable\n",
      "Collecting compress-fasttext\n",
      "  Downloading compress-fasttext-0.1.3.tar.gz (14 kB)\n",
      "  Preparing metadata (setup.py) ... \u001b[?25ldone\n",
      "\u001b[?25hRequirement already satisfied: gensim>=4.0.0 in /home/seb/.local/lib/python3.10/site-packages (from compress-fasttext) (4.2.0)\n",
      "Requirement already satisfied: numpy in /home/seb/.local/lib/python3.10/site-packages (from compress-fasttext) (1.24.2)\n",
      "Requirement already satisfied: scipy>=0.18.1 in /home/seb/.local/lib/python3.10/site-packages (from gensim>=4.0.0->compress-fasttext) (1.10.1)\n",
      "Requirement already satisfied: smart-open>=1.8.1 in /home/seb/.local/lib/python3.10/site-packages (from gensim>=4.0.0->compress-fasttext) (5.2.1)\n",
      "Building wheels for collected packages: compress-fasttext\n",
      "  Building wheel for compress-fasttext (setup.py) ... \u001b[?25ldone\n",
      "\u001b[?25h  Created wheel for compress-fasttext: filename=compress_fasttext-0.1.3-py3-none-any.whl size=14583 sha256=da1c0c98ea17290d067b452d5be6ededf8fe5ba60ba565542d90051e28b2b0d8\n",
      "  Stored in directory: /home/seb/.cache/pip/wheels/8d/cb/65/ebcb8ad616fbcb8a215c1a3632b7759acc3ebf256f2ad37a0f\n",
      "Successfully built compress-fasttext\n",
      "Installing collected packages: compress-fasttext\n",
      "Successfully installed compress-fasttext-0.1.3\n",
      "\n",
      "\u001b[1m[\u001b[0m\u001b[34;49mnotice\u001b[0m\u001b[1;39;49m]\u001b[0m\u001b[39;49m A new release of pip is available: \u001b[0m\u001b[31;49m23.1.2\u001b[0m\u001b[39;49m -> \u001b[0m\u001b[32;49m23.2\u001b[0m\n",
      "\u001b[1m[\u001b[0m\u001b[34;49mnotice\u001b[0m\u001b[1;39;49m]\u001b[0m\u001b[39;49m To update, run: \u001b[0m\u001b[32;49mpython3 -m pip install --upgrade pip\u001b[0m\n"
     ]
    }
   ],
   "source": [
    "!pip install gensim\n",
    "!pip install compress-fasttext"
   ]
  },
  {
   "cell_type": "code",
   "execution_count": 12,
   "metadata": {},
   "outputs": [],
   "source": [
    "from gensim import models"
   ]
  },
  {
   "cell_type": "code",
   "execution_count": 16,
   "metadata": {},
   "outputs": [
    {
     "name": "stdout",
     "output_type": "stream",
     "text": [
      "1.0\n",
      "0.0\n",
      "-1.0\n"
     ]
    }
   ],
   "source": [
    "from numpy import dot\n",
    "from numpy.linalg import norm\n",
    "\n",
    "def cos_sim(x, y):\n",
    "    return dot(x, y) / (norm(x) * norm(y))\n",
    "\n",
    "print(cos_sim([1, 0, 0], (1, 0, 0)))\n",
    "print(cos_sim([1, 0, 0], (0, 1, 0)))\n",
    "print(cos_sim([1, 0, 0], (-1, 0, 0)))"
   ]
  },
  {
   "cell_type": "markdown",
   "metadata": {},
   "source": [
    "#### Обучим модель word2vec"
   ]
  },
  {
   "cell_type": "code",
   "execution_count": 14,
   "metadata": {},
   "outputs": [],
   "source": [
    "sentences = []\n",
    "with open('rus-ru_web-public_2019_100K-sentences.txt') as fin:\n",
    "    for line in fin:\n",
    "        sentences.append(line.split(' '))"
   ]
  },
  {
   "cell_type": "code",
   "execution_count": 15,
   "metadata": {},
   "outputs": [
    {
     "data": {
      "text/plain": [
       "(4079335, 6874035)"
      ]
     },
     "execution_count": 15,
     "metadata": {},
     "output_type": "execute_result"
    }
   ],
   "source": [
    "model = models.Word2Vec()\n",
    "model.build_vocab(sentences)\n",
    "model.train(sentences, total_examples=model.corpus_count, epochs=model.epochs)"
   ]
  },
  {
   "cell_type": "code",
   "execution_count": 25,
   "metadata": {},
   "outputs": [
    {
     "name": "stdout",
     "output_type": "stream",
     "text": [
      "0.9710866\n",
      "0.5534083\n",
      "\"Key 'интенет' not present\"\n"
     ]
    }
   ],
   "source": [
    "try:\n",
    "    print(cos_sim(model.wv['сеть'], model.wv['интернет']))\n",
    "    print(cos_sim(model.wv['человек'], model.wv['интернет']))\n",
    "    print(cos_sim(model.wv['интернет'], model.wv['интенет']))\n",
    "except Exception as e:\n",
    "    print(e)"
   ]
  },
  {
   "cell_type": "markdown",
   "metadata": {},
   "source": [
    "#### Обучим модель FastText"
   ]
  },
  {
   "cell_type": "code",
   "execution_count": 34,
   "metadata": {},
   "outputs": [],
   "source": [
    "model = models.FastText(sentences, sg=1, vector_size=50)"
   ]
  },
  {
   "cell_type": "code",
   "execution_count": 35,
   "metadata": {},
   "outputs": [
    {
     "name": "stdout",
     "output_type": "stream",
     "text": [
      "0.60630214\n",
      "0.3068741\n",
      "0.87997293\n"
     ]
    }
   ],
   "source": [
    "try:\n",
    "    print(cos_sim(model.wv['сеть'], model.wv['интернет']))\n",
    "    print(cos_sim(model.wv['человек'], model.wv['интернет']))\n",
    "    print(cos_sim(model.wv['интернет'], model.wv['интенет']))\n",
    "except Exception as e:\n",
    "    print(e)"
   ]
  },
  {
   "cell_type": "markdown",
   "metadata": {},
   "source": [
    "#### Загрузим оптимизированную модель FasText"
   ]
  },
  {
   "cell_type": "code",
   "execution_count": 43,
   "metadata": {},
   "outputs": [],
   "source": [
    "import compress_fasttext\n",
    "model = compress_fasttext.models.CompressedFastTextKeyedVectors.load(\n",
    "    'https://github.com/avidale/compress-fasttext/releases/download/gensim-4-draft/geowac_tokens_sg_300_5_2020-100K-20K-100.bin'\n",
    ")"
   ]
  },
  {
   "cell_type": "code",
   "execution_count": 44,
   "metadata": {},
   "outputs": [
    {
     "name": "stdout",
     "output_type": "stream",
     "text": [
      "0.5231468445248225\n",
      "0.27971834039337506\n",
      "0.6044784950143409\n"
     ]
    }
   ],
   "source": [
    "try:\n",
    "    print(cos_sim(model['сеть'], model['интернет']))\n",
    "    print(cos_sim(model['человек'], model['интернет']))\n",
    "    print(cos_sim(model['интернет'], model['интенет']))\n",
    "except Exception as e:\n",
    "    print(e)"
   ]
  },
  {
   "cell_type": "markdown",
   "metadata": {},
   "source": [
    "## Домашнее задание\n",
    "1. Скачать датасет с фразами симпосонов - https://github.com/sujanjoejacob/Text-mining-with-Simpsons-Data\n",
    "2. Обучить FastText/Word2vec на фразах персонажей\n",
    "3. Визуализировать embeddings по самым частотным словам (top 1000)\n",
    "4. Найти самые близкие слова для:\n",
    "  homer - marge + bart\n",
    "  bart - lisa + school\n",
    "  marge - homer + home\n",
    "5. Попробовать построить классификатор bart/lisa с использованием этих эмбеддингов"
   ]
  }
 ],
 "metadata": {
  "colab": {
   "collapsed_sections": [],
   "machine_shape": "hm",
   "name": "Copy of word2vec",
   "provenance": [
    {
     "file_id": "1-mz2J_0WkOha0NfOJB_5M0JK4jPV_QTE",
     "timestamp": 1587480964429
    }
   ]
  },
  "kernelspec": {
   "display_name": "Python 3 (ipykernel)",
   "language": "python",
   "name": "python3"
  },
  "language_info": {
   "codemirror_mode": {
    "name": "ipython",
    "version": 3
   },
   "file_extension": ".py",
   "mimetype": "text/x-python",
   "name": "python",
   "nbconvert_exporter": "python",
   "pygments_lexer": "ipython3",
   "version": "3.10.6"
  }
 },
 "nbformat": 4,
 "nbformat_minor": 1
}
